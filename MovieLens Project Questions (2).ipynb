{
 "cells": [
  {
   "cell_type": "markdown",
   "metadata": {},
   "source": [
    "### Project - MovieLens Data Analysis\n",
    "\n",
    "The GroupLens Research Project is a research group in the Department of Computer Science and Engineering at the University of Minnesota. The data is widely used for collaborative filtering and other filtering solutions. However, we will be using this data to act as a means to demonstrate our skill in using Python to “play” with data.\n",
    "\n",
    "### Datasets Information:\n",
    "\n",
    "- Data.csv: It contains information of ratings given by the users to a particular movie. Columns: user id, movie id, rating, timestamp\n",
    "\n",
    "- item.csv: File contains information related to the movies and its genre.\n",
    "\n",
    "- Columns: movie id, movie title, release date, unknown, Action, Adventure, Animation, Children’s, Comedy, Crime, Documentary, Drama, Fantasy, Film-Noir, Horror, Musical, Mystery, Romance, Sci-Fi, Thriller, War, Western\n",
    "\n",
    "- user.csv: It contains information of the users who have rated the movies. Columns: user id, age, gender, occupation, zip code\n",
    "\n",
    "### Objective:\n",
    "\n",
    "`To implement the techniques learnt as a part of the course.`\n",
    "\n",
    "### Learning Outcomes:\n",
    "- Exploratory Data Analysis\n",
    "\n",
    "- Visualization using Python\n",
    "\n",
    "- Pandas – groupby, merging \n",
    "\n",
    "\n",
    "#### Domain \n",
    "`Internet and Entertainment`\n",
    "\n",
    "**Note that the project will need you to apply the concepts of groupby and merging extensively.**"
   ]
  },
  {
   "cell_type": "markdown",
   "metadata": {},
   "source": [
    "#### 1. Import the necessary packages - 2.5 marks"
   ]
  },
  {
   "cell_type": "code",
   "execution_count": 1,
   "metadata": {},
   "outputs": [],
   "source": [
    "# to avoid warnings\n",
    "import warnings \n",
    "warnings.filterwarnings(\"ignore\") \n",
    "# To import the necessary libraries.\n",
    "import numpy as np    \n",
    "import pandas as pd\n",
    "from pandas import Series, DataFrame\n",
    "import matplotlib.pyplot as plt\n",
    "from matplotlib import style\n",
    "# To enable plotting graphs in Jupyter notebook\n",
    "import seaborn as sns\n",
    "%matplotlib inline\n",
    "sns.set_style('darkgrid')\n"
   ]
  },
  {
   "cell_type": "markdown",
   "metadata": {},
   "source": [
    "#### 2. Read the 3 datasets into dataframes - 2.5 marks"
   ]
  },
  {
   "cell_type": "markdown",
   "metadata": {},
   "source": [
    "# Reading Datasets."
   ]
  },
  {
   "cell_type": "code",
   "execution_count": 2,
   "metadata": {
    "scrolled": true
   },
   "outputs": [
    {
     "data": {
      "text/html": [
       "<div>\n",
       "<style scoped>\n",
       "    .dataframe tbody tr th:only-of-type {\n",
       "        vertical-align: middle;\n",
       "    }\n",
       "\n",
       "    .dataframe tbody tr th {\n",
       "        vertical-align: top;\n",
       "    }\n",
       "\n",
       "    .dataframe thead th {\n",
       "        text-align: right;\n",
       "    }\n",
       "</style>\n",
       "<table border=\"1\" class=\"dataframe\">\n",
       "  <thead>\n",
       "    <tr style=\"text-align: right;\">\n",
       "      <th></th>\n",
       "      <th>user id</th>\n",
       "      <th>age</th>\n",
       "      <th>gender</th>\n",
       "      <th>occupation</th>\n",
       "      <th>zip code</th>\n",
       "    </tr>\n",
       "  </thead>\n",
       "  <tbody>\n",
       "    <tr>\n",
       "      <th>0</th>\n",
       "      <td>1</td>\n",
       "      <td>24</td>\n",
       "      <td>M</td>\n",
       "      <td>technician</td>\n",
       "      <td>85711</td>\n",
       "    </tr>\n",
       "    <tr>\n",
       "      <th>1</th>\n",
       "      <td>2</td>\n",
       "      <td>53</td>\n",
       "      <td>F</td>\n",
       "      <td>other</td>\n",
       "      <td>94043</td>\n",
       "    </tr>\n",
       "    <tr>\n",
       "      <th>2</th>\n",
       "      <td>3</td>\n",
       "      <td>23</td>\n",
       "      <td>M</td>\n",
       "      <td>writer</td>\n",
       "      <td>32067</td>\n",
       "    </tr>\n",
       "    <tr>\n",
       "      <th>3</th>\n",
       "      <td>4</td>\n",
       "      <td>24</td>\n",
       "      <td>M</td>\n",
       "      <td>technician</td>\n",
       "      <td>43537</td>\n",
       "    </tr>\n",
       "    <tr>\n",
       "      <th>4</th>\n",
       "      <td>5</td>\n",
       "      <td>33</td>\n",
       "      <td>F</td>\n",
       "      <td>other</td>\n",
       "      <td>15213</td>\n",
       "    </tr>\n",
       "  </tbody>\n",
       "</table>\n",
       "</div>"
      ],
      "text/plain": [
       "   user id  age gender  occupation zip code\n",
       "0        1   24      M  technician    85711\n",
       "1        2   53      F       other    94043\n",
       "2        3   23      M      writer    32067\n",
       "3        4   24      M  technician    43537\n",
       "4        5   33      F       other    15213"
      ]
     },
     "execution_count": 2,
     "metadata": {},
     "output_type": "execute_result"
    }
   ],
   "source": [
    "# the following code to read data from external source into a dataFrame.\n",
    "users_df=pd.read_csv('user.csv') \n",
    "names=['user id', 'gender', 'age', 'occupation', 'zip code'],\n",
    "users_df.head()"
   ]
  },
  {
   "cell_type": "code",
   "execution_count": 6,
   "metadata": {},
   "outputs": [
    {
     "data": {
      "text/html": [
       "<div>\n",
       "<style scoped>\n",
       "    .dataframe tbody tr th:only-of-type {\n",
       "        vertical-align: middle;\n",
       "    }\n",
       "\n",
       "    .dataframe tbody tr th {\n",
       "        vertical-align: top;\n",
       "    }\n",
       "\n",
       "    .dataframe thead th {\n",
       "        text-align: right;\n",
       "    }\n",
       "</style>\n",
       "<table border=\"1\" class=\"dataframe\">\n",
       "  <thead>\n",
       "    <tr style=\"text-align: right;\">\n",
       "      <th></th>\n",
       "      <th>0</th>\n",
       "      <th>1</th>\n",
       "      <th>2</th>\n",
       "      <th>3</th>\n",
       "      <th>4</th>\n",
       "    </tr>\n",
       "  </thead>\n",
       "  <tbody>\n",
       "    <tr>\n",
       "      <th>movie id</th>\n",
       "      <td>1</td>\n",
       "      <td>2</td>\n",
       "      <td>3</td>\n",
       "      <td>4</td>\n",
       "      <td>5</td>\n",
       "    </tr>\n",
       "    <tr>\n",
       "      <th>movie title</th>\n",
       "      <td>Toy Story</td>\n",
       "      <td>GoldenEye</td>\n",
       "      <td>Four Rooms</td>\n",
       "      <td>Get Shorty</td>\n",
       "      <td>Copycat</td>\n",
       "    </tr>\n",
       "    <tr>\n",
       "      <th>release date</th>\n",
       "      <td>1-Jan-95</td>\n",
       "      <td>1-Jan-95</td>\n",
       "      <td>1-Jan-95</td>\n",
       "      <td>1-Jan-95</td>\n",
       "      <td>1-Jan-95</td>\n",
       "    </tr>\n",
       "    <tr>\n",
       "      <th>unknown</th>\n",
       "      <td>0</td>\n",
       "      <td>0</td>\n",
       "      <td>0</td>\n",
       "      <td>0</td>\n",
       "      <td>0</td>\n",
       "    </tr>\n",
       "    <tr>\n",
       "      <th>Action</th>\n",
       "      <td>0</td>\n",
       "      <td>1</td>\n",
       "      <td>0</td>\n",
       "      <td>1</td>\n",
       "      <td>0</td>\n",
       "    </tr>\n",
       "    <tr>\n",
       "      <th>Adventure</th>\n",
       "      <td>0</td>\n",
       "      <td>1</td>\n",
       "      <td>0</td>\n",
       "      <td>0</td>\n",
       "      <td>0</td>\n",
       "    </tr>\n",
       "    <tr>\n",
       "      <th>Animation</th>\n",
       "      <td>1</td>\n",
       "      <td>0</td>\n",
       "      <td>0</td>\n",
       "      <td>0</td>\n",
       "      <td>0</td>\n",
       "    </tr>\n",
       "    <tr>\n",
       "      <th>Childrens</th>\n",
       "      <td>1</td>\n",
       "      <td>0</td>\n",
       "      <td>0</td>\n",
       "      <td>0</td>\n",
       "      <td>0</td>\n",
       "    </tr>\n",
       "    <tr>\n",
       "      <th>Comedy</th>\n",
       "      <td>1</td>\n",
       "      <td>0</td>\n",
       "      <td>0</td>\n",
       "      <td>1</td>\n",
       "      <td>0</td>\n",
       "    </tr>\n",
       "    <tr>\n",
       "      <th>Crime</th>\n",
       "      <td>0</td>\n",
       "      <td>0</td>\n",
       "      <td>0</td>\n",
       "      <td>0</td>\n",
       "      <td>1</td>\n",
       "    </tr>\n",
       "    <tr>\n",
       "      <th>Documentary</th>\n",
       "      <td>0</td>\n",
       "      <td>0</td>\n",
       "      <td>0</td>\n",
       "      <td>0</td>\n",
       "      <td>0</td>\n",
       "    </tr>\n",
       "    <tr>\n",
       "      <th>Drama</th>\n",
       "      <td>0</td>\n",
       "      <td>0</td>\n",
       "      <td>0</td>\n",
       "      <td>1</td>\n",
       "      <td>1</td>\n",
       "    </tr>\n",
       "    <tr>\n",
       "      <th>Fantasy</th>\n",
       "      <td>0</td>\n",
       "      <td>0</td>\n",
       "      <td>0</td>\n",
       "      <td>0</td>\n",
       "      <td>0</td>\n",
       "    </tr>\n",
       "    <tr>\n",
       "      <th>Film-Noir</th>\n",
       "      <td>0</td>\n",
       "      <td>0</td>\n",
       "      <td>0</td>\n",
       "      <td>0</td>\n",
       "      <td>0</td>\n",
       "    </tr>\n",
       "    <tr>\n",
       "      <th>Horror</th>\n",
       "      <td>0</td>\n",
       "      <td>0</td>\n",
       "      <td>0</td>\n",
       "      <td>0</td>\n",
       "      <td>0</td>\n",
       "    </tr>\n",
       "    <tr>\n",
       "      <th>Musical</th>\n",
       "      <td>0</td>\n",
       "      <td>0</td>\n",
       "      <td>0</td>\n",
       "      <td>0</td>\n",
       "      <td>0</td>\n",
       "    </tr>\n",
       "    <tr>\n",
       "      <th>Mystery</th>\n",
       "      <td>0</td>\n",
       "      <td>0</td>\n",
       "      <td>0</td>\n",
       "      <td>0</td>\n",
       "      <td>0</td>\n",
       "    </tr>\n",
       "    <tr>\n",
       "      <th>Romance</th>\n",
       "      <td>0</td>\n",
       "      <td>0</td>\n",
       "      <td>0</td>\n",
       "      <td>0</td>\n",
       "      <td>0</td>\n",
       "    </tr>\n",
       "    <tr>\n",
       "      <th>Sci-Fi</th>\n",
       "      <td>0</td>\n",
       "      <td>0</td>\n",
       "      <td>0</td>\n",
       "      <td>0</td>\n",
       "      <td>0</td>\n",
       "    </tr>\n",
       "    <tr>\n",
       "      <th>Thriller</th>\n",
       "      <td>0</td>\n",
       "      <td>1</td>\n",
       "      <td>1</td>\n",
       "      <td>0</td>\n",
       "      <td>1</td>\n",
       "    </tr>\n",
       "    <tr>\n",
       "      <th>War</th>\n",
       "      <td>0</td>\n",
       "      <td>0</td>\n",
       "      <td>0</td>\n",
       "      <td>0</td>\n",
       "      <td>0</td>\n",
       "    </tr>\n",
       "    <tr>\n",
       "      <th>Western</th>\n",
       "      <td>0</td>\n",
       "      <td>0</td>\n",
       "      <td>0</td>\n",
       "      <td>0</td>\n",
       "      <td>0</td>\n",
       "    </tr>\n",
       "  </tbody>\n",
       "</table>\n",
       "</div>"
      ],
      "text/plain": [
       "                       0           1            2            3         4\n",
       "movie id               1           2            3            4         5\n",
       "movie title   Toy Story   GoldenEye   Four Rooms   Get Shorty   Copycat \n",
       "release date    1-Jan-95    1-Jan-95     1-Jan-95     1-Jan-95  1-Jan-95\n",
       "unknown                0           0            0            0         0\n",
       "Action                 0           1            0            1         0\n",
       "Adventure              0           1            0            0         0\n",
       "Animation              1           0            0            0         0\n",
       "Childrens              1           0            0            0         0\n",
       "Comedy                 1           0            0            1         0\n",
       "Crime                  0           0            0            0         1\n",
       "Documentary            0           0            0            0         0\n",
       "Drama                  0           0            0            1         1\n",
       "Fantasy                0           0            0            0         0\n",
       "Film-Noir              0           0            0            0         0\n",
       "Horror                 0           0            0            0         0\n",
       "Musical                0           0            0            0         0\n",
       "Mystery                0           0            0            0         0\n",
       "Romance                0           0            0            0         0\n",
       "Sci-Fi                 0           0            0            0         0\n",
       "Thriller               0           1            1            0         1\n",
       "War                    0           0            0            0         0\n",
       "Western                0           0            0            0         0"
      ]
     },
     "execution_count": 6,
     "metadata": {},
     "output_type": "execute_result"
    }
   ],
   "source": [
    "# the following code to read data from external source into a dataFrame.\n",
    "movies_df= pd.read_csv(\"item.csv\")\n",
    "names=['user id', 'movie title', 'genres' 'timestamp'],\n",
    "movies_df.head().T"
   ]
  },
  {
   "cell_type": "code",
   "execution_count": 10,
   "metadata": {},
   "outputs": [
    {
     "name": "stdout",
     "output_type": "stream",
     "text": [
      "<class 'pandas.core.frame.DataFrame'>\n",
      "RangeIndex: 1681 entries, 0 to 1680\n",
      "Data columns (total 22 columns):\n",
      " #   Column        Non-Null Count  Dtype \n",
      "---  ------        --------------  ----- \n",
      " 0   movie id      1681 non-null   int64 \n",
      " 1   movie title   1681 non-null   object\n",
      " 2   release date  1681 non-null   object\n",
      " 3   unknown       1681 non-null   int64 \n",
      " 4   Action        1681 non-null   int64 \n",
      " 5   Adventure     1681 non-null   int64 \n",
      " 6   Animation     1681 non-null   int64 \n",
      " 7   Childrens     1681 non-null   int64 \n",
      " 8   Comedy        1681 non-null   int64 \n",
      " 9   Crime         1681 non-null   int64 \n",
      " 10  Documentary   1681 non-null   int64 \n",
      " 11  Drama         1681 non-null   int64 \n",
      " 12  Fantasy       1681 non-null   int64 \n",
      " 13  Film-Noir     1681 non-null   int64 \n",
      " 14  Horror        1681 non-null   int64 \n",
      " 15  Musical       1681 non-null   int64 \n",
      " 16  Mystery       1681 non-null   int64 \n",
      " 17  Romance       1681 non-null   int64 \n",
      " 18  Sci-Fi        1681 non-null   int64 \n",
      " 19  Thriller      1681 non-null   int64 \n",
      " 20  War           1681 non-null   int64 \n",
      " 21  Western       1681 non-null   int64 \n",
      "dtypes: int64(20), object(2)\n",
      "memory usage: 289.0+ KB\n"
     ]
    }
   ],
   "source": [
    "# The following code to check duplicates in the datasets.\n",
    "# The following code to check duplicates in the datasets\n",
    "dupes = movies_df.duplicated()\n",
    "sum(dupes)\n",
    "movies_df.info()"
   ]
  },
  {
   "cell_type": "code",
   "execution_count": 7,
   "metadata": {},
   "outputs": [
    {
     "data": {
      "text/html": [
       "<div>\n",
       "<style scoped>\n",
       "    .dataframe tbody tr th:only-of-type {\n",
       "        vertical-align: middle;\n",
       "    }\n",
       "\n",
       "    .dataframe tbody tr th {\n",
       "        vertical-align: top;\n",
       "    }\n",
       "\n",
       "    .dataframe thead th {\n",
       "        text-align: right;\n",
       "    }\n",
       "</style>\n",
       "<table border=\"1\" class=\"dataframe\">\n",
       "  <thead>\n",
       "    <tr style=\"text-align: right;\">\n",
       "      <th></th>\n",
       "      <th>0</th>\n",
       "      <th>1</th>\n",
       "      <th>2</th>\n",
       "      <th>3</th>\n",
       "      <th>4</th>\n",
       "    </tr>\n",
       "  </thead>\n",
       "  <tbody>\n",
       "    <tr>\n",
       "      <th>user id</th>\n",
       "      <td>196</td>\n",
       "      <td>186</td>\n",
       "      <td>22</td>\n",
       "      <td>244</td>\n",
       "      <td>166</td>\n",
       "    </tr>\n",
       "    <tr>\n",
       "      <th>movie id</th>\n",
       "      <td>242</td>\n",
       "      <td>302</td>\n",
       "      <td>377</td>\n",
       "      <td>51</td>\n",
       "      <td>346</td>\n",
       "    </tr>\n",
       "    <tr>\n",
       "      <th>rating</th>\n",
       "      <td>3</td>\n",
       "      <td>3</td>\n",
       "      <td>1</td>\n",
       "      <td>2</td>\n",
       "      <td>1</td>\n",
       "    </tr>\n",
       "    <tr>\n",
       "      <th>timestamp</th>\n",
       "      <td>881250949</td>\n",
       "      <td>891717742</td>\n",
       "      <td>878887116</td>\n",
       "      <td>880606923</td>\n",
       "      <td>886397596</td>\n",
       "    </tr>\n",
       "  </tbody>\n",
       "</table>\n",
       "</div>"
      ],
      "text/plain": [
       "                   0          1          2          3          4\n",
       "user id          196        186         22        244        166\n",
       "movie id         242        302        377         51        346\n",
       "rating             3          3          1          2          1\n",
       "timestamp  881250949  891717742  878887116  880606923  886397596"
      ]
     },
     "execution_count": 7,
     "metadata": {},
     "output_type": "execute_result"
    }
   ],
   "source": [
    "# this code to read data from external source into a dataFrame.\n",
    "ratings_df= pd.read_csv('data.csv') \n",
    "names=['user id', 'movie id', 'rating', 'timestamp'],\n",
    "ratings_df.head().T\n"
   ]
  },
  {
   "cell_type": "markdown",
   "metadata": {},
   "source": [
    "#### 3. Apply info, shape, describe, and find the number of missing values in the data - 5 marks\n",
    " - Note that you will need to do it for all the three datasets seperately"
   ]
  },
  {
   "cell_type": "markdown",
   "metadata": {},
   "source": [
    "## Analyzing datasets by applying info, shape, and describe."
   ]
  },
  {
   "cell_type": "code",
   "execution_count": 9,
   "metadata": {},
   "outputs": [
    {
     "name": "stdout",
     "output_type": "stream",
     "text": [
      "<class 'pandas.core.frame.DataFrame'>\n",
      "RangeIndex: 1681 entries, 0 to 1680\n",
      "Data columns (total 22 columns):\n",
      " #   Column        Non-Null Count  Dtype \n",
      "---  ------        --------------  ----- \n",
      " 0   movie id      1681 non-null   int64 \n",
      " 1   movie title   1681 non-null   object\n",
      " 2   release date  1681 non-null   object\n",
      " 3   unknown       1681 non-null   int64 \n",
      " 4   Action        1681 non-null   int64 \n",
      " 5   Adventure     1681 non-null   int64 \n",
      " 6   Animation     1681 non-null   int64 \n",
      " 7   Childrens     1681 non-null   int64 \n",
      " 8   Comedy        1681 non-null   int64 \n",
      " 9   Crime         1681 non-null   int64 \n",
      " 10  Documentary   1681 non-null   int64 \n",
      " 11  Drama         1681 non-null   int64 \n",
      " 12  Fantasy       1681 non-null   int64 \n",
      " 13  Film-Noir     1681 non-null   int64 \n",
      " 14  Horror        1681 non-null   int64 \n",
      " 15  Musical       1681 non-null   int64 \n",
      " 16  Mystery       1681 non-null   int64 \n",
      " 17  Romance       1681 non-null   int64 \n",
      " 18  Sci-Fi        1681 non-null   int64 \n",
      " 19  Thriller      1681 non-null   int64 \n",
      " 20  War           1681 non-null   int64 \n",
      " 21  Western       1681 non-null   int64 \n",
      "dtypes: int64(20), object(2)\n",
      "memory usage: 289.0+ KB\n"
     ]
    }
   ],
   "source": [
    "# the following code displays Data Types of the dataset. \n",
    "movies_df.info()"
   ]
  },
  {
   "cell_type": "code",
   "execution_count": 10,
   "metadata": {},
   "outputs": [
    {
     "data": {
      "text/plain": [
       "(1681, 22)"
      ]
     },
     "execution_count": 10,
     "metadata": {},
     "output_type": "execute_result"
    }
   ],
   "source": [
    "# the follwoing code displays how much data contains in the datasets.\n",
    "movies_df.shape"
   ]
  },
  {
   "cell_type": "code",
   "execution_count": 11,
   "metadata": {},
   "outputs": [
    {
     "data": {
      "text/html": [
       "<div>\n",
       "<style scoped>\n",
       "    .dataframe tbody tr th:only-of-type {\n",
       "        vertical-align: middle;\n",
       "    }\n",
       "\n",
       "    .dataframe tbody tr th {\n",
       "        vertical-align: top;\n",
       "    }\n",
       "\n",
       "    .dataframe thead th {\n",
       "        text-align: right;\n",
       "    }\n",
       "</style>\n",
       "<table border=\"1\" class=\"dataframe\">\n",
       "  <thead>\n",
       "    <tr style=\"text-align: right;\">\n",
       "      <th></th>\n",
       "      <th>count</th>\n",
       "      <th>mean</th>\n",
       "      <th>std</th>\n",
       "      <th>min</th>\n",
       "      <th>25%</th>\n",
       "      <th>50%</th>\n",
       "      <th>75%</th>\n",
       "      <th>max</th>\n",
       "    </tr>\n",
       "  </thead>\n",
       "  <tbody>\n",
       "    <tr>\n",
       "      <th>movie id</th>\n",
       "      <td>1681.0</td>\n",
       "      <td>841.841761</td>\n",
       "      <td>485.638077</td>\n",
       "      <td>1.0</td>\n",
       "      <td>422.0</td>\n",
       "      <td>842.0</td>\n",
       "      <td>1262.0</td>\n",
       "      <td>1682.0</td>\n",
       "    </tr>\n",
       "    <tr>\n",
       "      <th>unknown</th>\n",
       "      <td>1681.0</td>\n",
       "      <td>0.000595</td>\n",
       "      <td>0.024390</td>\n",
       "      <td>0.0</td>\n",
       "      <td>0.0</td>\n",
       "      <td>0.0</td>\n",
       "      <td>0.0</td>\n",
       "      <td>1.0</td>\n",
       "    </tr>\n",
       "    <tr>\n",
       "      <th>Action</th>\n",
       "      <td>1681.0</td>\n",
       "      <td>0.149316</td>\n",
       "      <td>0.356506</td>\n",
       "      <td>0.0</td>\n",
       "      <td>0.0</td>\n",
       "      <td>0.0</td>\n",
       "      <td>0.0</td>\n",
       "      <td>1.0</td>\n",
       "    </tr>\n",
       "    <tr>\n",
       "      <th>Adventure</th>\n",
       "      <td>1681.0</td>\n",
       "      <td>0.080309</td>\n",
       "      <td>0.271852</td>\n",
       "      <td>0.0</td>\n",
       "      <td>0.0</td>\n",
       "      <td>0.0</td>\n",
       "      <td>0.0</td>\n",
       "      <td>1.0</td>\n",
       "    </tr>\n",
       "    <tr>\n",
       "      <th>Animation</th>\n",
       "      <td>1681.0</td>\n",
       "      <td>0.024985</td>\n",
       "      <td>0.156126</td>\n",
       "      <td>0.0</td>\n",
       "      <td>0.0</td>\n",
       "      <td>0.0</td>\n",
       "      <td>0.0</td>\n",
       "      <td>1.0</td>\n",
       "    </tr>\n",
       "    <tr>\n",
       "      <th>Childrens</th>\n",
       "      <td>1681.0</td>\n",
       "      <td>0.072576</td>\n",
       "      <td>0.259516</td>\n",
       "      <td>0.0</td>\n",
       "      <td>0.0</td>\n",
       "      <td>0.0</td>\n",
       "      <td>0.0</td>\n",
       "      <td>1.0</td>\n",
       "    </tr>\n",
       "    <tr>\n",
       "      <th>Comedy</th>\n",
       "      <td>1681.0</td>\n",
       "      <td>0.300416</td>\n",
       "      <td>0.458576</td>\n",
       "      <td>0.0</td>\n",
       "      <td>0.0</td>\n",
       "      <td>0.0</td>\n",
       "      <td>1.0</td>\n",
       "      <td>1.0</td>\n",
       "    </tr>\n",
       "    <tr>\n",
       "      <th>Crime</th>\n",
       "      <td>1681.0</td>\n",
       "      <td>0.064842</td>\n",
       "      <td>0.246321</td>\n",
       "      <td>0.0</td>\n",
       "      <td>0.0</td>\n",
       "      <td>0.0</td>\n",
       "      <td>0.0</td>\n",
       "      <td>1.0</td>\n",
       "    </tr>\n",
       "    <tr>\n",
       "      <th>Documentary</th>\n",
       "      <td>1681.0</td>\n",
       "      <td>0.029744</td>\n",
       "      <td>0.169931</td>\n",
       "      <td>0.0</td>\n",
       "      <td>0.0</td>\n",
       "      <td>0.0</td>\n",
       "      <td>0.0</td>\n",
       "      <td>1.0</td>\n",
       "    </tr>\n",
       "    <tr>\n",
       "      <th>Drama</th>\n",
       "      <td>1681.0</td>\n",
       "      <td>0.431291</td>\n",
       "      <td>0.495404</td>\n",
       "      <td>0.0</td>\n",
       "      <td>0.0</td>\n",
       "      <td>0.0</td>\n",
       "      <td>1.0</td>\n",
       "      <td>1.0</td>\n",
       "    </tr>\n",
       "    <tr>\n",
       "      <th>Fantasy</th>\n",
       "      <td>1681.0</td>\n",
       "      <td>0.013087</td>\n",
       "      <td>0.113683</td>\n",
       "      <td>0.0</td>\n",
       "      <td>0.0</td>\n",
       "      <td>0.0</td>\n",
       "      <td>0.0</td>\n",
       "      <td>1.0</td>\n",
       "    </tr>\n",
       "    <tr>\n",
       "      <th>Film-Noir</th>\n",
       "      <td>1681.0</td>\n",
       "      <td>0.014277</td>\n",
       "      <td>0.118667</td>\n",
       "      <td>0.0</td>\n",
       "      <td>0.0</td>\n",
       "      <td>0.0</td>\n",
       "      <td>0.0</td>\n",
       "      <td>1.0</td>\n",
       "    </tr>\n",
       "    <tr>\n",
       "      <th>Horror</th>\n",
       "      <td>1681.0</td>\n",
       "      <td>0.054729</td>\n",
       "      <td>0.227519</td>\n",
       "      <td>0.0</td>\n",
       "      <td>0.0</td>\n",
       "      <td>0.0</td>\n",
       "      <td>0.0</td>\n",
       "      <td>1.0</td>\n",
       "    </tr>\n",
       "    <tr>\n",
       "      <th>Musical</th>\n",
       "      <td>1681.0</td>\n",
       "      <td>0.033314</td>\n",
       "      <td>0.179507</td>\n",
       "      <td>0.0</td>\n",
       "      <td>0.0</td>\n",
       "      <td>0.0</td>\n",
       "      <td>0.0</td>\n",
       "      <td>1.0</td>\n",
       "    </tr>\n",
       "    <tr>\n",
       "      <th>Mystery</th>\n",
       "      <td>1681.0</td>\n",
       "      <td>0.036288</td>\n",
       "      <td>0.187061</td>\n",
       "      <td>0.0</td>\n",
       "      <td>0.0</td>\n",
       "      <td>0.0</td>\n",
       "      <td>0.0</td>\n",
       "      <td>1.0</td>\n",
       "    </tr>\n",
       "    <tr>\n",
       "      <th>Romance</th>\n",
       "      <td>1681.0</td>\n",
       "      <td>0.146936</td>\n",
       "      <td>0.354148</td>\n",
       "      <td>0.0</td>\n",
       "      <td>0.0</td>\n",
       "      <td>0.0</td>\n",
       "      <td>0.0</td>\n",
       "      <td>1.0</td>\n",
       "    </tr>\n",
       "    <tr>\n",
       "      <th>Sci-Fi</th>\n",
       "      <td>1681.0</td>\n",
       "      <td>0.060083</td>\n",
       "      <td>0.237712</td>\n",
       "      <td>0.0</td>\n",
       "      <td>0.0</td>\n",
       "      <td>0.0</td>\n",
       "      <td>0.0</td>\n",
       "      <td>1.0</td>\n",
       "    </tr>\n",
       "    <tr>\n",
       "      <th>Thriller</th>\n",
       "      <td>1681.0</td>\n",
       "      <td>0.149316</td>\n",
       "      <td>0.356506</td>\n",
       "      <td>0.0</td>\n",
       "      <td>0.0</td>\n",
       "      <td>0.0</td>\n",
       "      <td>0.0</td>\n",
       "      <td>1.0</td>\n",
       "    </tr>\n",
       "    <tr>\n",
       "      <th>War</th>\n",
       "      <td>1681.0</td>\n",
       "      <td>0.042237</td>\n",
       "      <td>0.201189</td>\n",
       "      <td>0.0</td>\n",
       "      <td>0.0</td>\n",
       "      <td>0.0</td>\n",
       "      <td>0.0</td>\n",
       "      <td>1.0</td>\n",
       "    </tr>\n",
       "    <tr>\n",
       "      <th>Western</th>\n",
       "      <td>1681.0</td>\n",
       "      <td>0.016062</td>\n",
       "      <td>0.125751</td>\n",
       "      <td>0.0</td>\n",
       "      <td>0.0</td>\n",
       "      <td>0.0</td>\n",
       "      <td>0.0</td>\n",
       "      <td>1.0</td>\n",
       "    </tr>\n",
       "  </tbody>\n",
       "</table>\n",
       "</div>"
      ],
      "text/plain": [
       "              count        mean         std  min    25%    50%     75%     max\n",
       "movie id     1681.0  841.841761  485.638077  1.0  422.0  842.0  1262.0  1682.0\n",
       "unknown      1681.0    0.000595    0.024390  0.0    0.0    0.0     0.0     1.0\n",
       "Action       1681.0    0.149316    0.356506  0.0    0.0    0.0     0.0     1.0\n",
       "Adventure    1681.0    0.080309    0.271852  0.0    0.0    0.0     0.0     1.0\n",
       "Animation    1681.0    0.024985    0.156126  0.0    0.0    0.0     0.0     1.0\n",
       "Childrens    1681.0    0.072576    0.259516  0.0    0.0    0.0     0.0     1.0\n",
       "Comedy       1681.0    0.300416    0.458576  0.0    0.0    0.0     1.0     1.0\n",
       "Crime        1681.0    0.064842    0.246321  0.0    0.0    0.0     0.0     1.0\n",
       "Documentary  1681.0    0.029744    0.169931  0.0    0.0    0.0     0.0     1.0\n",
       "Drama        1681.0    0.431291    0.495404  0.0    0.0    0.0     1.0     1.0\n",
       "Fantasy      1681.0    0.013087    0.113683  0.0    0.0    0.0     0.0     1.0\n",
       "Film-Noir    1681.0    0.014277    0.118667  0.0    0.0    0.0     0.0     1.0\n",
       "Horror       1681.0    0.054729    0.227519  0.0    0.0    0.0     0.0     1.0\n",
       "Musical      1681.0    0.033314    0.179507  0.0    0.0    0.0     0.0     1.0\n",
       "Mystery      1681.0    0.036288    0.187061  0.0    0.0    0.0     0.0     1.0\n",
       "Romance      1681.0    0.146936    0.354148  0.0    0.0    0.0     0.0     1.0\n",
       "Sci-Fi       1681.0    0.060083    0.237712  0.0    0.0    0.0     0.0     1.0\n",
       "Thriller     1681.0    0.149316    0.356506  0.0    0.0    0.0     0.0     1.0\n",
       "War          1681.0    0.042237    0.201189  0.0    0.0    0.0     0.0     1.0\n",
       "Western      1681.0    0.016062    0.125751  0.0    0.0    0.0     0.0     1.0"
      ]
     },
     "execution_count": 11,
     "metadata": {},
     "output_type": "execute_result"
    }
   ],
   "source": [
    "# the following code to display basics statistics of the dataset.\n",
    "movies_df.describe().T"
   ]
  },
  {
   "cell_type": "code",
   "execution_count": 12,
   "metadata": {},
   "outputs": [
    {
     "name": "stdout",
     "output_type": "stream",
     "text": [
      "<class 'pandas.core.frame.DataFrame'>\n",
      "RangeIndex: 100000 entries, 0 to 99999\n",
      "Data columns (total 4 columns):\n",
      " #   Column     Non-Null Count   Dtype\n",
      "---  ------     --------------   -----\n",
      " 0   user id    100000 non-null  int64\n",
      " 1   movie id   100000 non-null  int64\n",
      " 2   rating     100000 non-null  int64\n",
      " 3   timestamp  100000 non-null  int64\n",
      "dtypes: int64(4)\n",
      "memory usage: 3.1 MB\n"
     ]
    }
   ],
   "source": [
    "# the following code displays Data Types of the dataset. \n",
    "ratings_df.info()"
   ]
  },
  {
   "cell_type": "code",
   "execution_count": 13,
   "metadata": {},
   "outputs": [
    {
     "data": {
      "text/plain": [
       "(100000, 4)"
      ]
     },
     "execution_count": 13,
     "metadata": {},
     "output_type": "execute_result"
    }
   ],
   "source": [
    "# the follwoing code displays how much data contains in the datasets.\n",
    "ratings_df.shape"
   ]
  },
  {
   "cell_type": "code",
   "execution_count": 14,
   "metadata": {},
   "outputs": [
    {
     "data": {
      "text/html": [
       "<div>\n",
       "<style scoped>\n",
       "    .dataframe tbody tr th:only-of-type {\n",
       "        vertical-align: middle;\n",
       "    }\n",
       "\n",
       "    .dataframe tbody tr th {\n",
       "        vertical-align: top;\n",
       "    }\n",
       "\n",
       "    .dataframe thead th {\n",
       "        text-align: right;\n",
       "    }\n",
       "</style>\n",
       "<table border=\"1\" class=\"dataframe\">\n",
       "  <thead>\n",
       "    <tr style=\"text-align: right;\">\n",
       "      <th></th>\n",
       "      <th>count</th>\n",
       "      <th>mean</th>\n",
       "      <th>std</th>\n",
       "      <th>min</th>\n",
       "      <th>25%</th>\n",
       "      <th>50%</th>\n",
       "      <th>75%</th>\n",
       "      <th>max</th>\n",
       "    </tr>\n",
       "  </thead>\n",
       "  <tbody>\n",
       "    <tr>\n",
       "      <th>user id</th>\n",
       "      <td>100000.0</td>\n",
       "      <td>4.624848e+02</td>\n",
       "      <td>2.666144e+02</td>\n",
       "      <td>1.0</td>\n",
       "      <td>254.0</td>\n",
       "      <td>447.0</td>\n",
       "      <td>682.0</td>\n",
       "      <td>943.0</td>\n",
       "    </tr>\n",
       "    <tr>\n",
       "      <th>movie id</th>\n",
       "      <td>100000.0</td>\n",
       "      <td>4.255301e+02</td>\n",
       "      <td>3.307984e+02</td>\n",
       "      <td>1.0</td>\n",
       "      <td>175.0</td>\n",
       "      <td>322.0</td>\n",
       "      <td>631.0</td>\n",
       "      <td>1682.0</td>\n",
       "    </tr>\n",
       "    <tr>\n",
       "      <th>rating</th>\n",
       "      <td>100000.0</td>\n",
       "      <td>3.529860e+00</td>\n",
       "      <td>1.125674e+00</td>\n",
       "      <td>1.0</td>\n",
       "      <td>3.0</td>\n",
       "      <td>4.0</td>\n",
       "      <td>4.0</td>\n",
       "      <td>5.0</td>\n",
       "    </tr>\n",
       "    <tr>\n",
       "      <th>timestamp</th>\n",
       "      <td>100000.0</td>\n",
       "      <td>8.835289e+08</td>\n",
       "      <td>5.343856e+06</td>\n",
       "      <td>874724710.0</td>\n",
       "      <td>879448709.5</td>\n",
       "      <td>882826944.0</td>\n",
       "      <td>888259984.0</td>\n",
       "      <td>893286638.0</td>\n",
       "    </tr>\n",
       "  </tbody>\n",
       "</table>\n",
       "</div>"
      ],
      "text/plain": [
       "              count          mean           std          min          25%  \\\n",
       "user id    100000.0  4.624848e+02  2.666144e+02          1.0        254.0   \n",
       "movie id   100000.0  4.255301e+02  3.307984e+02          1.0        175.0   \n",
       "rating     100000.0  3.529860e+00  1.125674e+00          1.0          3.0   \n",
       "timestamp  100000.0  8.835289e+08  5.343856e+06  874724710.0  879448709.5   \n",
       "\n",
       "                   50%          75%          max  \n",
       "user id          447.0        682.0        943.0  \n",
       "movie id         322.0        631.0       1682.0  \n",
       "rating             4.0          4.0          5.0  \n",
       "timestamp  882826944.0  888259984.0  893286638.0  "
      ]
     },
     "execution_count": 14,
     "metadata": {},
     "output_type": "execute_result"
    }
   ],
   "source": [
    "# the following code displays basics statistics of the dataset.\n",
    "ratings_df.describe().T"
   ]
  },
  {
   "cell_type": "markdown",
   "metadata": {},
   "source": [
    "# Data Cleaning of Duplicates Missing Values.\n",
    "\n",
    "    * Checking for any duplicates\n",
    "    * Droping dulicates if any.\n",
    "    \n",
    "    \n"
   ]
  },
  {
   "cell_type": "code",
   "execution_count": 15,
   "metadata": {},
   "outputs": [
    {
     "name": "stdout",
     "output_type": "stream",
     "text": [
      "<class 'pandas.core.frame.DataFrame'>\n",
      "Int64Index: 1681 entries, 0 to 1680\n",
      "Data columns (total 22 columns):\n",
      " #   Column        Non-Null Count  Dtype \n",
      "---  ------        --------------  ----- \n",
      " 0   movie id      1681 non-null   int64 \n",
      " 1   movie title   1681 non-null   object\n",
      " 2   release date  1681 non-null   object\n",
      " 3   unknown       1681 non-null   int64 \n",
      " 4   Action        1681 non-null   int64 \n",
      " 5   Adventure     1681 non-null   int64 \n",
      " 6   Animation     1681 non-null   int64 \n",
      " 7   Childrens     1681 non-null   int64 \n",
      " 8   Comedy        1681 non-null   int64 \n",
      " 9   Crime         1681 non-null   int64 \n",
      " 10  Documentary   1681 non-null   int64 \n",
      " 11  Drama         1681 non-null   int64 \n",
      " 12  Fantasy       1681 non-null   int64 \n",
      " 13  Film-Noir     1681 non-null   int64 \n",
      " 14  Horror        1681 non-null   int64 \n",
      " 15  Musical       1681 non-null   int64 \n",
      " 16  Mystery       1681 non-null   int64 \n",
      " 17  Romance       1681 non-null   int64 \n",
      " 18  Sci-Fi        1681 non-null   int64 \n",
      " 19  Thriller      1681 non-null   int64 \n",
      " 20  War           1681 non-null   int64 \n",
      " 21  Western       1681 non-null   int64 \n",
      "dtypes: int64(20), object(2)\n",
      "memory usage: 302.1+ KB\n"
     ]
    }
   ],
   "source": [
    "##Identify duplicates records in the data\n",
    "movies_df.drop_duplicates(inplace=True)\n",
    "\n",
    "# Droping Duplicates.\n",
    "movies_df.drop_duplicates(inplace=True)\n",
    "movies_df.info()"
   ]
  },
  {
   "cell_type": "code",
   "execution_count": 20,
   "metadata": {},
   "outputs": [
    {
     "name": "stdout",
     "output_type": "stream",
     "text": [
      "<class 'pandas.core.frame.DataFrame'>\n",
      "Int64Index: 943 entries, 0 to 942\n",
      "Data columns (total 5 columns):\n",
      " #   Column      Non-Null Count  Dtype \n",
      "---  ------      --------------  ----- \n",
      " 0   user id     943 non-null    int64 \n",
      " 1   age         943 non-null    int64 \n",
      " 2   gender      943 non-null    object\n",
      " 3   occupation  943 non-null    object\n",
      " 4   zip code    943 non-null    object\n",
      "dtypes: int64(2), object(3)\n",
      "memory usage: 44.2+ KB\n"
     ]
    }
   ],
   "source": [
    "# The following code to check duplicates in the datasets.\n",
    "dupes = users_df.duplicated()\n",
    "sum(dupes) \n",
    "\n",
    "# Droping Duplicates.\n",
    "users_df.drop_duplicates(inplace=True)\n",
    "users_df.info()"
   ]
  },
  {
   "cell_type": "code",
   "execution_count": 18,
   "metadata": {},
   "outputs": [
    {
     "name": "stdout",
     "output_type": "stream",
     "text": [
      "<class 'pandas.core.frame.DataFrame'>\n",
      "Int64Index: 100000 entries, 0 to 99999\n",
      "Data columns (total 4 columns):\n",
      " #   Column     Non-Null Count   Dtype\n",
      "---  ------     --------------   -----\n",
      " 0   user id    100000 non-null  int64\n",
      " 1   movie id   100000 non-null  int64\n",
      " 2   rating     100000 non-null  int64\n",
      " 3   timestamp  100000 non-null  int64\n",
      "dtypes: int64(4)\n",
      "memory usage: 3.8 MB\n"
     ]
    }
   ],
   "source": [
    "# The following code to check duplicates in the datasets.\n",
    "dupes = ratings_df.duplicated()\n",
    "sum(dupes) \n",
    "\n",
    "# Droping Duplicates.\n",
    "ratings_df.drop_duplicates(inplace=True)\n",
    "ratings_df.info()"
   ]
  },
  {
   "cell_type": "code",
   "execution_count": 20,
   "metadata": {},
   "outputs": [
    {
     "data": {
      "text/plain": [
       "0"
      ]
     },
     "execution_count": 20,
     "metadata": {},
     "output_type": "execute_result"
    }
   ],
   "source": [
    "# the following code to check missing values in the datasets. \n",
    "movies_df.isnull().any().sum()"
   ]
  },
  {
   "cell_type": "code",
   "execution_count": 21,
   "metadata": {},
   "outputs": [
    {
     "data": {
      "text/plain": [
       "0"
      ]
     },
     "execution_count": 21,
     "metadata": {},
     "output_type": "execute_result"
    }
   ],
   "source": [
    "# the following code to check missing values in the datasets\n",
    "ratings_df.isnull().any().sum()"
   ]
  },
  {
   "cell_type": "code",
   "execution_count": 19,
   "metadata": {},
   "outputs": [
    {
     "data": {
      "text/plain": [
       "0"
      ]
     },
     "execution_count": 19,
     "metadata": {},
     "output_type": "execute_result"
    }
   ],
   "source": [
    "# the following code to check missing values in the datasets\n",
    "users_df.isnull().any().sum()"
   ]
  },
  {
   "cell_type": "markdown",
   "metadata": {},
   "source": [
    "## All above variables i need for my analysis have null entries."
   ]
  },
  {
   "cell_type": "markdown",
   "metadata": {},
   "source": [
    "# Merging DataFrames.\n",
    "    * First I have merged two data frames (user_df) and (ratings_df) by (user id). \n",
    "    * Second I have merged three data frames (movies_ratings_users_df) by (movie id)."
   ]
  },
  {
   "cell_type": "code",
   "execution_count": 24,
   "metadata": {},
   "outputs": [
    {
     "data": {
      "text/html": [
       "<div>\n",
       "<style scoped>\n",
       "    .dataframe tbody tr th:only-of-type {\n",
       "        vertical-align: middle;\n",
       "    }\n",
       "\n",
       "    .dataframe tbody tr th {\n",
       "        vertical-align: top;\n",
       "    }\n",
       "\n",
       "    .dataframe thead th {\n",
       "        text-align: right;\n",
       "    }\n",
       "</style>\n",
       "<table border=\"1\" class=\"dataframe\">\n",
       "  <thead>\n",
       "    <tr style=\"text-align: right;\">\n",
       "      <th></th>\n",
       "      <th>user id</th>\n",
       "      <th>gender</th>\n",
       "      <th>movie id</th>\n",
       "      <th>rating</th>\n",
       "    </tr>\n",
       "  </thead>\n",
       "  <tbody>\n",
       "    <tr>\n",
       "      <th>0</th>\n",
       "      <td>1</td>\n",
       "      <td>M</td>\n",
       "      <td>61</td>\n",
       "      <td>4</td>\n",
       "    </tr>\n",
       "    <tr>\n",
       "      <th>1</th>\n",
       "      <td>1</td>\n",
       "      <td>M</td>\n",
       "      <td>189</td>\n",
       "      <td>3</td>\n",
       "    </tr>\n",
       "    <tr>\n",
       "      <th>2</th>\n",
       "      <td>1</td>\n",
       "      <td>M</td>\n",
       "      <td>33</td>\n",
       "      <td>4</td>\n",
       "    </tr>\n",
       "    <tr>\n",
       "      <th>3</th>\n",
       "      <td>1</td>\n",
       "      <td>M</td>\n",
       "      <td>160</td>\n",
       "      <td>4</td>\n",
       "    </tr>\n",
       "    <tr>\n",
       "      <th>4</th>\n",
       "      <td>1</td>\n",
       "      <td>M</td>\n",
       "      <td>20</td>\n",
       "      <td>4</td>\n",
       "    </tr>\n",
       "    <tr>\n",
       "      <th>...</th>\n",
       "      <td>...</td>\n",
       "      <td>...</td>\n",
       "      <td>...</td>\n",
       "      <td>...</td>\n",
       "    </tr>\n",
       "    <tr>\n",
       "      <th>99995</th>\n",
       "      <td>943</td>\n",
       "      <td>M</td>\n",
       "      <td>415</td>\n",
       "      <td>1</td>\n",
       "    </tr>\n",
       "    <tr>\n",
       "      <th>99996</th>\n",
       "      <td>943</td>\n",
       "      <td>M</td>\n",
       "      <td>219</td>\n",
       "      <td>4</td>\n",
       "    </tr>\n",
       "    <tr>\n",
       "      <th>99997</th>\n",
       "      <td>943</td>\n",
       "      <td>M</td>\n",
       "      <td>796</td>\n",
       "      <td>3</td>\n",
       "    </tr>\n",
       "    <tr>\n",
       "      <th>99998</th>\n",
       "      <td>943</td>\n",
       "      <td>M</td>\n",
       "      <td>739</td>\n",
       "      <td>4</td>\n",
       "    </tr>\n",
       "    <tr>\n",
       "      <th>99999</th>\n",
       "      <td>943</td>\n",
       "      <td>M</td>\n",
       "      <td>391</td>\n",
       "      <td>2</td>\n",
       "    </tr>\n",
       "  </tbody>\n",
       "</table>\n",
       "<p>100000 rows × 4 columns</p>\n",
       "</div>"
      ],
      "text/plain": [
       "       user id gender  movie id  rating\n",
       "0            1      M        61       4\n",
       "1            1      M       189       3\n",
       "2            1      M        33       4\n",
       "3            1      M       160       4\n",
       "4            1      M        20       4\n",
       "...        ...    ...       ...     ...\n",
       "99995      943      M       415       1\n",
       "99996      943      M       219       4\n",
       "99997      943      M       796       3\n",
       "99998      943      M       739       4\n",
       "99999      943      M       391       2\n",
       "\n",
       "[100000 rows x 4 columns]"
      ]
     },
     "execution_count": 24,
     "metadata": {},
     "output_type": "execute_result"
    }
   ],
   "source": [
    "# The following code to merge two dataframes users & ratings datersets by index= userID.\n",
    "users_ratings_df=pd.merge(users_df,ratings_df,how='outer',on='user id')[['user id','gender','movie id', 'rating']]\n",
    "users_ratings_df"
   ]
  },
  {
   "cell_type": "code",
   "execution_count": 25,
   "metadata": {},
   "outputs": [
    {
     "name": "stdout",
     "output_type": "stream",
     "text": [
      "<class 'pandas.core.frame.DataFrame'>\n",
      "Int64Index: 99991 entries, 0 to 99990\n",
      "Data columns (total 25 columns):\n",
      " #   Column        Non-Null Count  Dtype \n",
      "---  ------        --------------  ----- \n",
      " 0   movie id      99991 non-null  int64 \n",
      " 1   movie title   99991 non-null  object\n",
      " 2   release date  99991 non-null  object\n",
      " 3   unknown       99991 non-null  int64 \n",
      " 4   Action        99991 non-null  int64 \n",
      " 5   Adventure     99991 non-null  int64 \n",
      " 6   Animation     99991 non-null  int64 \n",
      " 7   Childrens     99991 non-null  int64 \n",
      " 8   Comedy        99991 non-null  int64 \n",
      " 9   Crime         99991 non-null  int64 \n",
      " 10  Documentary   99991 non-null  int64 \n",
      " 11  Drama         99991 non-null  int64 \n",
      " 12  Fantasy       99991 non-null  int64 \n",
      " 13  Film-Noir     99991 non-null  int64 \n",
      " 14  Horror        99991 non-null  int64 \n",
      " 15  Musical       99991 non-null  int64 \n",
      " 16  Mystery       99991 non-null  int64 \n",
      " 17  Romance       99991 non-null  int64 \n",
      " 18  Sci-Fi        99991 non-null  int64 \n",
      " 19  Thriller      99991 non-null  int64 \n",
      " 20  War           99991 non-null  int64 \n",
      " 21  Western       99991 non-null  int64 \n",
      " 22  user id       99991 non-null  int64 \n",
      " 23  rating        99991 non-null  int64 \n",
      " 24  timestamp     99991 non-null  int64 \n",
      "dtypes: int64(23), object(2)\n",
      "memory usage: 19.8+ MB\n"
     ]
    }
   ],
   "source": [
    "# the following code merging two dataframes movies & ratings datersets by index= movieID.\n",
    "movies_ratings_df = pd.merge(movies_df, ratings_df, on='movie id')\n",
    "movies_ratings_df.info()"
   ]
  },
  {
   "cell_type": "code",
   "execution_count": 26,
   "metadata": {},
   "outputs": [
    {
     "data": {
      "text/html": [
       "<div>\n",
       "<style scoped>\n",
       "    .dataframe tbody tr th:only-of-type {\n",
       "        vertical-align: middle;\n",
       "    }\n",
       "\n",
       "    .dataframe tbody tr th {\n",
       "        vertical-align: top;\n",
       "    }\n",
       "\n",
       "    .dataframe thead th {\n",
       "        text-align: right;\n",
       "    }\n",
       "</style>\n",
       "<table border=\"1\" class=\"dataframe\">\n",
       "  <thead>\n",
       "    <tr style=\"text-align: right;\">\n",
       "      <th></th>\n",
       "      <th>user id</th>\n",
       "      <th>gender</th>\n",
       "      <th>movie id</th>\n",
       "      <th>movie title</th>\n",
       "      <th>release date</th>\n",
       "      <th>rating</th>\n",
       "      <th>Drama</th>\n",
       "      <th>Romance</th>\n",
       "      <th>Sci-Fi</th>\n",
       "    </tr>\n",
       "  </thead>\n",
       "  <tbody>\n",
       "    <tr>\n",
       "      <th>0</th>\n",
       "      <td>308</td>\n",
       "      <td>M</td>\n",
       "      <td>1</td>\n",
       "      <td>Toy Story</td>\n",
       "      <td>1-Jan-95</td>\n",
       "      <td>4</td>\n",
       "      <td>0</td>\n",
       "      <td>0</td>\n",
       "      <td>0</td>\n",
       "    </tr>\n",
       "    <tr>\n",
       "      <th>1</th>\n",
       "      <td>308</td>\n",
       "      <td>M</td>\n",
       "      <td>4</td>\n",
       "      <td>Get Shorty</td>\n",
       "      <td>1-Jan-95</td>\n",
       "      <td>5</td>\n",
       "      <td>1</td>\n",
       "      <td>0</td>\n",
       "      <td>0</td>\n",
       "    </tr>\n",
       "    <tr>\n",
       "      <th>2</th>\n",
       "      <td>308</td>\n",
       "      <td>M</td>\n",
       "      <td>5</td>\n",
       "      <td>Copycat</td>\n",
       "      <td>1-Jan-95</td>\n",
       "      <td>4</td>\n",
       "      <td>1</td>\n",
       "      <td>0</td>\n",
       "      <td>0</td>\n",
       "    </tr>\n",
       "    <tr>\n",
       "      <th>3</th>\n",
       "      <td>308</td>\n",
       "      <td>M</td>\n",
       "      <td>7</td>\n",
       "      <td>Twelve Monkeys</td>\n",
       "      <td>1-Jan-95</td>\n",
       "      <td>4</td>\n",
       "      <td>1</td>\n",
       "      <td>0</td>\n",
       "      <td>1</td>\n",
       "    </tr>\n",
       "    <tr>\n",
       "      <th>4</th>\n",
       "      <td>308</td>\n",
       "      <td>M</td>\n",
       "      <td>8</td>\n",
       "      <td>Babe</td>\n",
       "      <td>1-Jan-95</td>\n",
       "      <td>5</td>\n",
       "      <td>1</td>\n",
       "      <td>0</td>\n",
       "      <td>0</td>\n",
       "    </tr>\n",
       "  </tbody>\n",
       "</table>\n",
       "</div>"
      ],
      "text/plain": [
       "   user id gender  movie id      movie title release date  rating  Drama  \\\n",
       "0      308      M         1       Toy Story      1-Jan-95       4      0   \n",
       "1      308      M         4      Get Shorty      1-Jan-95       5      1   \n",
       "2      308      M         5         Copycat      1-Jan-95       4      1   \n",
       "3      308      M         7  Twelve Monkeys      1-Jan-95       4      1   \n",
       "4      308      M         8            Babe      1-Jan-95       5      1   \n",
       "\n",
       "   Romance  Sci-Fi  \n",
       "0        0       0  \n",
       "1        0       0  \n",
       "2        0       0  \n",
       "3        0       1  \n",
       "4        0       0  "
      ]
     },
     "execution_count": 26,
     "metadata": {},
     "output_type": "execute_result"
    }
   ],
   "source": [
    "#the following code merging three dataframes movies_ratings_users_df by index= userID.\n",
    "movies_ratings_users_df = pd.merge(movies_ratings_df, users_df,on='user id')[['user id','gender','movie id','movie title','release date','rating','Drama','Romance','Sci-Fi']]\n",
    "movies_ratings_users_df.head()"
   ]
  },
  {
   "cell_type": "code",
   "execution_count": 27,
   "metadata": {},
   "outputs": [
    {
     "name": "stdout",
     "output_type": "stream",
     "text": [
      "<class 'pandas.core.frame.DataFrame'>\n",
      "Int64Index: 99991 entries, 0 to 99990\n",
      "Data columns (total 9 columns):\n",
      " #   Column        Non-Null Count  Dtype \n",
      "---  ------        --------------  ----- \n",
      " 0   user id       99991 non-null  int64 \n",
      " 1   gender        99991 non-null  object\n",
      " 2   movie id      99991 non-null  int64 \n",
      " 3   movie title   99991 non-null  object\n",
      " 4   release date  99991 non-null  object\n",
      " 5   rating        99991 non-null  int64 \n",
      " 6   Drama         99991 non-null  int64 \n",
      " 7   Romance       99991 non-null  int64 \n",
      " 8   Sci-Fi        99991 non-null  int64 \n",
      "dtypes: int64(6), object(3)\n",
      "memory usage: 7.6+ MB\n"
     ]
    }
   ],
   "source": [
    "movies_ratings_users_df.info()"
   ]
  },
  {
   "cell_type": "code",
   "execution_count": 28,
   "metadata": {},
   "outputs": [
    {
     "data": {
      "text/html": [
       "<div>\n",
       "<style scoped>\n",
       "    .dataframe tbody tr th:only-of-type {\n",
       "        vertical-align: middle;\n",
       "    }\n",
       "\n",
       "    .dataframe tbody tr th {\n",
       "        vertical-align: top;\n",
       "    }\n",
       "\n",
       "    .dataframe thead th {\n",
       "        text-align: right;\n",
       "    }\n",
       "</style>\n",
       "<table border=\"1\" class=\"dataframe\">\n",
       "  <thead>\n",
       "    <tr style=\"text-align: right;\">\n",
       "      <th></th>\n",
       "      <th>0</th>\n",
       "      <th>1</th>\n",
       "      <th>2</th>\n",
       "      <th>3</th>\n",
       "      <th>4</th>\n",
       "    </tr>\n",
       "  </thead>\n",
       "  <tbody>\n",
       "    <tr>\n",
       "      <th>user id</th>\n",
       "      <td>308</td>\n",
       "      <td>308</td>\n",
       "      <td>308</td>\n",
       "      <td>308</td>\n",
       "      <td>308</td>\n",
       "    </tr>\n",
       "    <tr>\n",
       "      <th>gender</th>\n",
       "      <td>M</td>\n",
       "      <td>M</td>\n",
       "      <td>M</td>\n",
       "      <td>M</td>\n",
       "      <td>M</td>\n",
       "    </tr>\n",
       "    <tr>\n",
       "      <th>movie id</th>\n",
       "      <td>1</td>\n",
       "      <td>4</td>\n",
       "      <td>5</td>\n",
       "      <td>7</td>\n",
       "      <td>8</td>\n",
       "    </tr>\n",
       "    <tr>\n",
       "      <th>movie title</th>\n",
       "      <td>Toy Story</td>\n",
       "      <td>Get Shorty</td>\n",
       "      <td>Copycat</td>\n",
       "      <td>Twelve Monkeys</td>\n",
       "      <td>Babe</td>\n",
       "    </tr>\n",
       "    <tr>\n",
       "      <th>release date</th>\n",
       "      <td>1-Jan-95</td>\n",
       "      <td>1-Jan-95</td>\n",
       "      <td>1-Jan-95</td>\n",
       "      <td>1-Jan-95</td>\n",
       "      <td>1-Jan-95</td>\n",
       "    </tr>\n",
       "    <tr>\n",
       "      <th>rating</th>\n",
       "      <td>4</td>\n",
       "      <td>5</td>\n",
       "      <td>4</td>\n",
       "      <td>4</td>\n",
       "      <td>5</td>\n",
       "    </tr>\n",
       "    <tr>\n",
       "      <th>Drama</th>\n",
       "      <td>0</td>\n",
       "      <td>1</td>\n",
       "      <td>1</td>\n",
       "      <td>1</td>\n",
       "      <td>1</td>\n",
       "    </tr>\n",
       "    <tr>\n",
       "      <th>Romance</th>\n",
       "      <td>0</td>\n",
       "      <td>0</td>\n",
       "      <td>0</td>\n",
       "      <td>0</td>\n",
       "      <td>0</td>\n",
       "    </tr>\n",
       "    <tr>\n",
       "      <th>Sci-Fi</th>\n",
       "      <td>0</td>\n",
       "      <td>0</td>\n",
       "      <td>0</td>\n",
       "      <td>1</td>\n",
       "      <td>0</td>\n",
       "    </tr>\n",
       "  </tbody>\n",
       "</table>\n",
       "</div>"
      ],
      "text/plain": [
       "                       0            1         2                3         4\n",
       "user id              308          308       308              308       308\n",
       "gender                 M            M         M                M         M\n",
       "movie id               1            4         5                7         8\n",
       "movie title   Toy Story   Get Shorty   Copycat   Twelve Monkeys      Babe \n",
       "release date    1-Jan-95     1-Jan-95  1-Jan-95         1-Jan-95  1-Jan-95\n",
       "rating                 4            5         4                4         5\n",
       "Drama                  0            1         1                1         1\n",
       "Romance                0            0         0                0         0\n",
       "Sci-Fi                 0            0         0                1         0"
      ]
     },
     "execution_count": 28,
     "metadata": {},
     "output_type": "execute_result"
    }
   ],
   "source": [
    "#The following code to see the new created dataFrames after merging three dataFrames movies_ratings_users_df.\n",
    "movies_ratings_users_df.head().T"
   ]
  },
  {
   "cell_type": "markdown",
   "metadata": {},
   "source": []
  },
  {
   "cell_type": "markdown",
   "metadata": {},
   "source": [
    "# EDA Descriptive Statistics.\n",
    "\n",
    "    * Explore Data.\n",
    "    * Distribution of variables\n",
    "    * Descriptive Statistics.\n"
   ]
  },
  {
   "cell_type": "markdown",
   "metadata": {},
   "source": [
    "# Mean"
   ]
  },
  {
   "cell_type": "code",
   "execution_count": 29,
   "metadata": {},
   "outputs": [
    {
     "name": "stdout",
     "output_type": "stream",
     "text": [
      "movies_ratings_df: movie id       841.841761\n",
      "unknown          0.000595\n",
      "Action           0.149316\n",
      "Adventure        0.080309\n",
      "Animation        0.024985\n",
      "Childrens        0.072576\n",
      "Comedy           0.300416\n",
      "Crime            0.064842\n",
      "Documentary      0.029744\n",
      "Drama            0.431291\n",
      "Fantasy          0.013087\n",
      "Film-Noir        0.014277\n",
      "Horror           0.054729\n",
      "Musical          0.033314\n",
      "Mystery          0.036288\n",
      "Romance          0.146936\n",
      "Sci-Fi           0.060083\n",
      "Thriller         0.149316\n",
      "War              0.042237\n",
      "Western          0.016062\n",
      "dtype: float64\n"
     ]
    }
   ],
   "source": [
    "# print the mean of each attribute. Ignore \"movieID. as it is not a continuous variable\"\n",
    "print(\"movies_ratings_df:\",movies_df.mean())  "
   ]
  },
  {
   "cell_type": "markdown",
   "metadata": {},
   "source": [
    " # Mode"
   ]
  },
  {
   "cell_type": "code",
   "execution_count": 30,
   "metadata": {},
   "outputs": [
    {
     "name": "stdout",
     "output_type": "stream",
     "text": [
      "0    50\n",
      "dtype: int64\n"
     ]
    }
   ],
   "source": [
    "# Prints the mode of the attribute. \n",
    "print(movies_ratings_df['movie id'].mode()) "
   ]
  },
  {
   "cell_type": "markdown",
   "metadata": {},
   "source": [
    "# Median"
   ]
  },
  {
   "cell_type": "code",
   "execution_count": 31,
   "metadata": {},
   "outputs": [
    {
     "name": "stdout",
     "output_type": "stream",
     "text": [
      "movies_ratings_df: user id     447.0\n",
      "movie id    322.0\n",
      "rating        4.0\n",
      "Drama         0.0\n",
      "Romance       0.0\n",
      "Sci-Fi        0.0\n",
      "dtype: float64\n"
     ]
    }
   ],
   "source": [
    "# Print the median values of the data. \n",
    "print(\"movies_ratings_df:\",movies_ratings_users_df.median()) \n",
    "# Observe that the values of mean and median are almost the same for most of the attributes."
   ]
  },
  {
   "cell_type": "markdown",
   "metadata": {},
   "source": [
    "# Quantile 25%"
   ]
  },
  {
   "cell_type": "code",
   "execution_count": 52,
   "metadata": {},
   "outputs": [
    {
     "name": "stdout",
     "output_type": "stream",
     "text": [
      "movies_ratings_df_quantile(25%): movie id             175.0\n",
      "unknown                0.0\n",
      "Action                 0.0\n",
      "Adventure              0.0\n",
      "Animation              0.0\n",
      "Childrens              0.0\n",
      "Comedy                 0.0\n",
      "Crime                  0.0\n",
      "Documentary            0.0\n",
      "Drama                  0.0\n",
      "Fantasy                0.0\n",
      "Film-Noir              0.0\n",
      "Horror                 0.0\n",
      "Musical                0.0\n",
      "Mystery                0.0\n",
      "Romance                0.0\n",
      "Sci-Fi                 0.0\n",
      "Thriller               0.0\n",
      "War                    0.0\n",
      "Western                0.0\n",
      "user id              254.0\n",
      "rating                 3.0\n",
      "timestamp      879448759.0\n",
      "Name: 0.25, dtype: float64\n"
     ]
    }
   ],
   "source": [
    " # Prints the value below which 25% of the data lies.\n",
    "print(\"movies_ratings_df_quantile(25%):\",movies_ratings_df.quantile(q=0.25)) "
   ]
  },
  {
   "cell_type": "code",
   "execution_count": 55,
   "metadata": {},
   "outputs": [
    {
     "name": "stdout",
     "output_type": "stream",
     "text": [
      "movies_ratings_df_quantile(50%): movie id             322.0\n",
      "unknown                0.0\n",
      "Action                 0.0\n",
      "Adventure              0.0\n",
      "Animation              0.0\n",
      "Childrens              0.0\n",
      "Comedy                 0.0\n",
      "Crime                  0.0\n",
      "Documentary            0.0\n",
      "Drama                  0.0\n",
      "Fantasy                0.0\n",
      "Film-Noir              0.0\n",
      "Horror                 0.0\n",
      "Musical                0.0\n",
      "Mystery                0.0\n",
      "Romance                0.0\n",
      "Sci-Fi                 0.0\n",
      "Thriller               0.0\n",
      "War                    0.0\n",
      "Western                0.0\n",
      "user id              447.0\n",
      "rating                 4.0\n",
      "timestamp      882826983.0\n",
      "Name: 0.5, dtype: float64\n"
     ]
    }
   ],
   "source": [
    "# Prints the value below which 50% of the data lie.\n",
    "print(\"movies_ratings_df_quantile(50%):\",movies_ratings_df.quantile(q=0.50))  "
   ]
  },
  {
   "cell_type": "markdown",
   "metadata": {},
   "source": [
    "# Quantile 75%"
   ]
  },
  {
   "cell_type": "code",
   "execution_count": 56,
   "metadata": {},
   "outputs": [
    {
     "name": "stdout",
     "output_type": "stream",
     "text": [
      "movies_ratings_df_quantile(75%): movie id             631.0\n",
      "unknown                0.0\n",
      "Action                 1.0\n",
      "Adventure              0.0\n",
      "Animation              0.0\n",
      "Childrens              0.0\n",
      "Comedy                 1.0\n",
      "Crime                  0.0\n",
      "Documentary            0.0\n",
      "Drama                  1.0\n",
      "Fantasy                0.0\n",
      "Film-Noir              0.0\n",
      "Horror                 0.0\n",
      "Musical                0.0\n",
      "Mystery                0.0\n",
      "Romance                0.0\n",
      "Sci-Fi                 0.0\n",
      "Thriller               0.0\n",
      "War                    0.0\n",
      "Western                0.0\n",
      "user id              682.0\n",
      "rating                 4.0\n",
      "timestamp      888259984.0\n",
      "Name: 0.75, dtype: float64\n"
     ]
    }
   ],
   "source": [
    "# Prints the value below which 75% of the data lies.\n",
    "print(\"movies_ratings_df_quantile(75%):\",movies_ratings_df.quantile(q=0.75))  "
   ]
  },
  {
   "cell_type": "markdown",
   "metadata": {},
   "source": [
    "## Plotting the summary mean,mode,median using histogram"
   ]
  },
  {
   "cell_type": "code",
   "execution_count": 32,
   "metadata": {},
   "outputs": [
    {
     "name": "stdout",
     "output_type": "stream",
     "text": [
      "Mean:  3.529867688091928 \n",
      "Median:  4.0 \n",
      "Mode:  4\n"
     ]
    },
    {
     "data": {
      "image/png": "[encoded data removed]",
      "text/plain": [
       "<Figure size 720x360 with 1 Axes>"
      ]
     },
     "metadata": {},
     "output_type": "display_data"
    }
   ],
   "source": [
    "mean=movies_ratings_df['rating'].mean()\n",
    "median=movies_ratings_df['rating'].median()\n",
    "mode=movies_ratings_df['rating'].mode()\n",
    "\n",
    "print('Mean: ',mean,'\\nMedian: ',median,'\\nMode: ',mode[0])\n",
    "\n",
    "plt.figure(figsize=(10,5)) # set the figure size\n",
    "plt.hist(movies_ratings_df['rating'],bins=100,color='lightblue') #Plot the histogram\n",
    "\n",
    "plt.axvline(mean,color='green',label='Mean')     # Draw lines on the plot for mean median and the two modes we have in GRE Score\n",
    "plt.axvline(median,color='blue',label='Median')\n",
    "plt.axvline(mode[0],color='red',label='Mode1')\n",
    "\n",
    "plt.xlabel('rating')   # label the x-axis\n",
    "plt.ylabel('Frequency')   # label the y-axis\n",
    "plt.legend()              # Plot the legend\n",
    "plt.show()"
   ]
  },
  {
   "cell_type": "markdown",
   "metadata": {},
   "source": [
    "#### 4. Find the number of movies per genre using the item data - 2.5 marks"
   ]
  },
  {
   "cell_type": "code",
   "execution_count": 57,
   "metadata": {},
   "outputs": [
    {
     "data": {
      "text/plain": [
       "unknown          1\n",
       "Action         251\n",
       "Adventure      135\n",
       "Animation       42\n",
       "Childrens      122\n",
       "Comedy         505\n",
       "Crime          109\n",
       "Documentary     50\n",
       "Drama          725\n",
       "Fantasy         22\n",
       "Film-Noir       24\n",
       "Horror          92\n",
       "Musical         56\n",
       "Mystery         61\n",
       "Romance        247\n",
       "Sci-Fi         101\n",
       "Thriller       251\n",
       "War             71\n",
       "Western         27\n",
       "dtype: int64"
      ]
     },
     "execution_count": 57,
     "metadata": {},
     "output_type": "execute_result"
    }
   ],
   "source": [
    "#The following code to find number of movies genre in the dataset. \n",
    "movies_ratings_users_df['movie title'].value_counts().head()\n",
    "(movies_df.loc[:,'unknown':'Western'].sum())"
   ]
  },
  {
   "cell_type": "markdown",
   "metadata": {},
   "source": [
    "#### 5. Find the movies that have more than one genre - 5 marks"
   ]
  },
  {
   "cell_type": "markdown",
   "metadata": {},
   "source": [
    "# Movies that have more than one genre.\n",
    "* I have used two approaches to solve this question.\n",
    "    * I have created two new datasets the first one (data_df) the second dataset (movie_df).\n",
    "    * In the first approach finding the genre through movie id & movie title.\n",
    "    * in the second approach by dropping the movie id."
   ]
  },
  {
   "cell_type": "code",
   "execution_count": 59,
   "metadata": {},
   "outputs": [
    {
     "data": {
      "text/html": [
       "<div>\n",
       "<style scoped>\n",
       "    .dataframe tbody tr th:only-of-type {\n",
       "        vertical-align: middle;\n",
       "    }\n",
       "\n",
       "    .dataframe tbody tr th {\n",
       "        vertical-align: top;\n",
       "    }\n",
       "\n",
       "    .dataframe thead th {\n",
       "        text-align: right;\n",
       "    }\n",
       "</style>\n",
       "<table border=\"1\" class=\"dataframe\">\n",
       "  <thead>\n",
       "    <tr style=\"text-align: right;\">\n",
       "      <th></th>\n",
       "      <th>movie id</th>\n",
       "      <th>movie title</th>\n",
       "    </tr>\n",
       "  </thead>\n",
       "  <tbody>\n",
       "    <tr>\n",
       "      <th>0</th>\n",
       "      <td>1</td>\n",
       "      <td>Toy Story</td>\n",
       "    </tr>\n",
       "    <tr>\n",
       "      <th>1</th>\n",
       "      <td>2</td>\n",
       "      <td>GoldenEye</td>\n",
       "    </tr>\n",
       "    <tr>\n",
       "      <th>3</th>\n",
       "      <td>4</td>\n",
       "      <td>Get Shorty</td>\n",
       "    </tr>\n",
       "    <tr>\n",
       "      <th>4</th>\n",
       "      <td>5</td>\n",
       "      <td>Copycat</td>\n",
       "    </tr>\n",
       "    <tr>\n",
       "      <th>6</th>\n",
       "      <td>7</td>\n",
       "      <td>Twelve Monkeys</td>\n",
       "    </tr>\n",
       "    <tr>\n",
       "      <th>...</th>\n",
       "      <td>...</td>\n",
       "      <td>...</td>\n",
       "    </tr>\n",
       "    <tr>\n",
       "      <th>1667</th>\n",
       "      <td>1669</td>\n",
       "      <td>MURDER and murder</td>\n",
       "    </tr>\n",
       "    <tr>\n",
       "      <th>1668</th>\n",
       "      <td>1670</td>\n",
       "      <td>Tainted</td>\n",
       "    </tr>\n",
       "    <tr>\n",
       "      <th>1671</th>\n",
       "      <td>1673</td>\n",
       "      <td>Mirage</td>\n",
       "    </tr>\n",
       "    <tr>\n",
       "      <th>1677</th>\n",
       "      <td>1679</td>\n",
       "      <td>B. Monkey</td>\n",
       "    </tr>\n",
       "    <tr>\n",
       "      <th>1678</th>\n",
       "      <td>1680</td>\n",
       "      <td>Sliding Doors</td>\n",
       "    </tr>\n",
       "  </tbody>\n",
       "</table>\n",
       "<p>849 rows × 2 columns</p>\n",
       "</div>"
      ],
      "text/plain": [
       "     movie id         movie title\n",
       "0           1          Toy Story \n",
       "1           2          GoldenEye \n",
       "3           4         Get Shorty \n",
       "4           5            Copycat \n",
       "6           7     Twelve Monkeys \n",
       "...       ...                 ...\n",
       "1667     1669  MURDER and murder \n",
       "1668     1670            Tainted \n",
       "1671     1673             Mirage \n",
       "1677     1679          B. Monkey \n",
       "1678     1680      Sliding Doors \n",
       "\n",
       "[849 rows x 2 columns]"
      ]
     },
     "execution_count": 59,
     "metadata": {},
     "output_type": "execute_result"
    }
   ],
   "source": [
    "# The following code reading creating new DataFrame.\n",
    "data_df=pd.read_csv('item.csv')\n",
    "data_df['movie id']=data_df['movie id'].astype('object')\n",
    "data_df.loc[data_df.sum(axis=1, numeric_only=True)>1, ['movie id', 'movie title']]\n"
   ]
  },
  {
   "cell_type": "code",
   "execution_count": 38,
   "metadata": {},
   "outputs": [
    {
     "data": {
      "text/plain": [
       "0       3\n",
       "1       3\n",
       "2       1\n",
       "3       3\n",
       "4       3\n",
       "       ..\n",
       "1676    1\n",
       "1677    2\n",
       "1678    2\n",
       "1679    1\n",
       "1680    1\n",
       "Length: 1681, dtype: int64"
      ]
     },
     "execution_count": 38,
     "metadata": {},
     "output_type": "execute_result"
    }
   ],
   "source": [
    "# the following code i've created a new dataset called 'movie_df' and droped 'movie id'.\n",
    "movie_df=pd.read_csv('item.csv')\n",
    "movie_df=movie_df.drop('movie id', axis=1)\n",
    "movie_df.sum(axis=1)"
   ]
  },
  {
   "cell_type": "markdown",
   "metadata": {},
   "source": [
    "#### 6. Drop the movie where the genre is unknown - 2.5 marks"
   ]
  },
  {
   "cell_type": "code",
   "execution_count": 61,
   "metadata": {},
   "outputs": [
    {
     "name": "stdout",
     "output_type": "stream",
     "text": [
      "1371    Good Morning \n",
      "Name: movie title, dtype: object\n"
     ]
    }
   ],
   "source": [
    "#Indentifying index and movie title of move where the genre is unknown.\n",
    "unknown = movies_df.loc[movies_df.unknown==1,'movie title']\n",
    "print(unknown)"
   ]
  },
  {
   "cell_type": "code",
   "execution_count": 62,
   "metadata": {},
   "outputs": [],
   "source": [
    "#Creating a new dataFrame(movie_df) by dropping movie where genre unknown\n",
    "movie_df= movies_df.drop(index=1371)"
   ]
  },
  {
   "cell_type": "code",
   "execution_count": 63,
   "metadata": {},
   "outputs": [
    {
     "data": {
      "text/plain": [
       "(1680, 22)"
      ]
     },
     "execution_count": 63,
     "metadata": {},
     "output_type": "execute_result"
    }
   ],
   "source": [
    "# Printing the shape of the net dataframe after droping movie where genre unknown.\n",
    "movie_df.shape"
   ]
  },
  {
   "cell_type": "markdown",
   "metadata": {},
   "source": [
    "### 7. Univariate plots of columns: 'rating', 'Age', 'release year', 'Gender' and 'Occupation' - 10 marks"
   ]
  },
  {
   "cell_type": "code",
   "execution_count": 64,
   "metadata": {},
   "outputs": [],
   "source": [
    "# HINT: use distplot for age and countplot for gender,ratings,occupation, release year.\n",
    "# HINT: Please refer to the below snippet to understand how to get to release year from release date. You can use str.split()\n",
    "# as depicted below."
   ]
  },
  {
   "cell_type": "markdown",
   "metadata": {},
   "source": [
    "## Ploting of columns: Rating', 'Age', 'Release year', 'Gender' and Occupation."
   ]
  },
  {
   "cell_type": "code",
   "execution_count": 65,
   "metadata": {},
   "outputs": [
    {
     "data": {
      "image/png": "[encoded data removed]",
      "text/plain": [
       "<Figure size 432x288 with 1 Axes>"
      ]
     },
     "metadata": {},
     "output_type": "display_data"
    }
   ],
   "source": [
    "# The following code plots defrent age distributions.  \n",
    "sns.distplot(users_df['age'],color='hotpink')\n",
    "plt.title('Users age distribution')\n",
    "plt.ylabel('number of users')\n",
    "plt.show()\n"
   ]
  },
  {
   "cell_type": "markdown",
   "metadata": {},
   "source": [
    "### All variables are skewed. the only variable that is closed to the normal ditribution are slightly left skewed."
   ]
  },
  {
   "cell_type": "code",
   "execution_count": 66,
   "metadata": {},
   "outputs": [
    {
     "data": {
      "image/png": "[encoded data removed]",
      "text/plain": [
       "<Figure size 432x288 with 1 Axes>"
      ]
     },
     "metadata": {},
     "output_type": "display_data"
    }
   ],
   "source": [
    "# the following code plots gender distirbutions.\n",
    "sns.countplot(users_df['gender'], hue=users_df['gender'],color='red')\n",
    "plt.title('Gender distribution')\n",
    "plt.show()"
   ]
  },
  {
   "cell_type": "markdown",
   "metadata": {},
   "source": [
    "### The counterplot shows that the males has higher rating distribution than the females."
   ]
  },
  {
   "cell_type": "code",
   "execution_count": 32,
   "metadata": {},
   "outputs": [
    {
     "data": {
      "image/png": "[encoded data removed]",
      "text/plain": [
       "<Figure size 432x288 with 1 Axes>"
      ]
     },
     "metadata": {},
     "output_type": "display_data"
    }
   ],
   "source": [
    "# the following code plots ratings distirbutions.\n",
    "sns.countplot(movies_ratings_users_df['rating'],color='silver')\n",
    "plt.title('Users Ratings distribution')\n",
    "plt.xticks(rotation=90)\n",
    "plt.ylabel('number of users')\n",
    "plt.show()"
   ]
  },
  {
   "cell_type": "code",
   "execution_count": 68,
   "metadata": {},
   "outputs": [
    {
     "data": {
      "text/plain": [
       "(array([ 0,  1,  2,  3,  4,  5,  6,  7,  8,  9, 10, 11, 12, 13, 14, 15, 16,\n",
       "        17, 18, 19, 20]),\n",
       " <a list of 21 Text xticklabel objects>)"
      ]
     },
     "execution_count": 68,
     "metadata": {},
     "output_type": "execute_result"
    },
    {
     "data": {
      "image/png": "[encoded data removed]",
      "text/plain": [
       "<Figure size 432x288 with 1 Axes>"
      ]
     },
     "metadata": {},
     "output_type": "display_data"
    }
   ],
   "source": [
    "# the following code plots occupation distirbutions.\n",
    "sns.countplot(users_df['occupation'])\n",
    "plt.xticks(rotation=90)\n"
   ]
  },
  {
   "cell_type": "markdown",
   "metadata": {},
   "source": [
    "### * The students have more rating distribution among all occupations and the doctors a less."
   ]
  },
  {
   "cell_type": "code",
   "execution_count": 33,
   "metadata": {},
   "outputs": [
    {
     "data": {
      "image/png": "[encoded data removed]",
      "text/plain": [
       "<Figure size 432x288 with 1 Axes>"
      ]
     },
     "metadata": {},
     "output_type": "display_data"
    }
   ],
   "source": [
    "# the following code plots release year distirbutions.\n",
    "sns.countplot(movies_ratings_users_df['release date'],color='red')\n",
    "plt.title('Release year')\n",
    "plt.ylabel('count')\n",
    "plt.show()"
   ]
  },
  {
   "cell_type": "markdown",
   "metadata": {},
   "source": [
    "# How to get release year from release date?"
   ]
  },
  {
   "cell_type": "code",
   "execution_count": 34,
   "metadata": {},
   "outputs": [
    {
     "name": "stdout",
     "output_type": "stream",
     "text": [
      "brown\n",
      "brown\n",
      "brown\n"
     ]
    }
   ],
   "source": [
    "a = 'My*cat*is*brown'\n",
    "print(a.split('*')[3])\n",
    "\n",
    "#similarly, the release year needs to be taken out from release date\n",
    "\n",
    "#also you can simply slice existing string to get the desired data, if we want to take out the colour of the cat\n",
    "\n",
    "print(a[10:])\n",
    "print(a[-5:])"
   ]
  },
  {
   "cell_type": "code",
   "execution_count": 35,
   "metadata": {},
   "outputs": [
    {
     "data": {
      "text/plain": [
       "0       95\n",
       "1       95\n",
       "2       95\n",
       "3       95\n",
       "4       95\n",
       "        ..\n",
       "1676    98\n",
       "1677    98\n",
       "1678    98\n",
       "1679    94\n",
       "1680    96\n",
       "Name: release date, Length: 1681, dtype: object"
      ]
     },
     "execution_count": 35,
     "metadata": {},
     "output_type": "execute_result"
    }
   ],
   "source": [
    "# the code is getting year from the release date.\n",
    "year = movies_df['release date'].str.slice(-2)\n",
    "year"
   ]
  },
  {
   "cell_type": "code",
   "execution_count": 36,
   "metadata": {},
   "outputs": [
    {
     "name": "stdout",
     "output_type": "stream",
     "text": [
      "0       1-Jan-95\n",
      "1       1-Jan-95\n",
      "2       1-Jan-95\n",
      "3       1-Jan-95\n",
      "4       1-Jan-95\n",
      "          ...   \n",
      "1676    6-Feb-98\n",
      "1677    6-Feb-98\n",
      "1678    1-Jan-98\n",
      "1679    1-Jan-94\n",
      "1680    8-Mar-96\n",
      "Name: release date, Length: 1681, dtype: object\n"
     ]
    }
   ],
   "source": [
    "# the following code to add column 'year' to the item = movies_df data frame.\n",
    "movies_df['release year'] = year\n",
    "print (movies_df['release date'])"
   ]
  },
  {
   "cell_type": "markdown",
   "metadata": {},
   "source": [
    "### 8. Visualize how popularity of genres has changed over the years - 10 marks\n",
    "\n",
    "Note that you need to use the number of releases in a year as a parameter of popularity of a genre"
   ]
  },
  {
   "cell_type": "markdown",
   "metadata": {},
   "source": [
    "Hint \n",
    "\n",
    "1: you need to reach to a data frame where the release year is the index and the genre is the column names (one cell shows the number of release in a year in one genre) or vice versa.\n",
    "Once that is achieved, you can either use multiple bivariate plots or can use the heatmap to visualise all the changes over the years in one go. \n",
    "\n",
    "Hint 2: Use groupby on the relevant column and use sum() on the same to find out the nuumber of releases in a year/genre.  "
   ]
  },
  {
   "cell_type": "markdown",
   "metadata": {},
   "source": [
    "## Visualizing popularity of genres changing over the years."
   ]
  },
  {
   "cell_type": "code",
   "execution_count": 39,
   "metadata": {},
   "outputs": [
    {
     "data": {
      "image/png": "[encoded data removed]",
      "text/plain": [
       "<Figure size 432x288 with 2 Axes>"
      ]
     },
     "metadata": {},
     "output_type": "display_data"
    },
    {
     "data": {
      "text/plain": [
       "<Figure size 864x576 with 0 Axes>"
      ]
     },
     "metadata": {},
     "output_type": "display_data"
    }
   ],
   "source": [
    "# The following code plots popularity of genres changing over the years\n",
    "movie_df.groupby(by=['release date'])['movie title'].sum().reset_index().sort_values(['release date'])\n",
    "sns.heatmap(movies_ratings_users_df.corr(), annot=True, linewidths=.5, fmt= '.1f', center = 1 ) \n",
    "#plt.figure(figsize=(8,6))\n",
    "plt.figure(figsize=(12, 8))\n",
    "plt.show() \n",
    "\n",
    "\n"
   ]
  },
  {
   "cell_type": "markdown",
   "metadata": {},
   "source": [
    "### 9. Find the top 25 movies according to average ratings such that each movie has number of ratings more than 100 - 10 marks\n",
    "\n",
    "Hint : \n",
    "\n",
    "1. First find the movies that have more than 100 ratings(use merge, groupby and count). Extract the movie id in a list.\n",
    "2. Find the average rating of all the movies and sort them in the descending order. You will have to use the .merge() function to reach to a data set through which you can get the ids and the average rating.\n",
    "3. Use isin(list obtained from 1) to filter out the movies which have more than 100 ratings.\n",
    "\n",
    "Note: This question will need you to research about groupby and apply your findings. You can find more on groupby on https://realpython.com/pandas-groupby/."
   ]
  },
  {
   "cell_type": "code",
   "execution_count": 52,
   "metadata": {},
   "outputs": [
    {
     "data": {
      "text/plain": [
       "movie title\n",
       "'Til There Was You     2.333333\n",
       "1-900                  2.600000\n",
       "101 Dalmatians         2.908257\n",
       "12 Angry Men           4.344000\n",
       "187                    3.024390\n",
       "Name: rating, dtype: float64"
      ]
     },
     "execution_count": 52,
     "metadata": {},
     "output_type": "execute_result"
    }
   ],
   "source": [
    "# The following code to get the average. \n",
    "rating_avg = movies_ratings_df.groupby('movie title')['rating'].mean()\n",
    "rating_avg.head()"
   ]
  },
  {
   "cell_type": "code",
   "execution_count": 53,
   "metadata": {},
   "outputs": [
    {
     "data": {
      "text/html": [
       "<div>\n",
       "<style scoped>\n",
       "    .dataframe tbody tr th:only-of-type {\n",
       "        vertical-align: middle;\n",
       "    }\n",
       "\n",
       "    .dataframe tbody tr th {\n",
       "        vertical-align: top;\n",
       "    }\n",
       "\n",
       "    .dataframe thead th {\n",
       "        text-align: right;\n",
       "    }\n",
       "</style>\n",
       "<table border=\"1\" class=\"dataframe\">\n",
       "  <thead>\n",
       "    <tr style=\"text-align: right;\">\n",
       "      <th></th>\n",
       "      <th>rating</th>\n",
       "    </tr>\n",
       "    <tr>\n",
       "      <th>gender</th>\n",
       "      <th></th>\n",
       "    </tr>\n",
       "  </thead>\n",
       "  <tbody>\n",
       "    <tr>\n",
       "      <th>F</th>\n",
       "      <td>25738</td>\n",
       "    </tr>\n",
       "    <tr>\n",
       "      <th>M</th>\n",
       "      <td>74253</td>\n",
       "    </tr>\n",
       "  </tbody>\n",
       "</table>\n",
       "</div>"
      ],
      "text/plain": [
       "        rating\n",
       "gender        \n",
       "F        25738\n",
       "M        74253"
      ]
     },
     "execution_count": 53,
     "metadata": {},
     "output_type": "execute_result"
    }
   ],
   "source": [
    "# The following code groupby gender & ratings by gender.\n",
    "ratings_by_gender = movies_ratings_users_df[['gender','rating']].groupby('gender').count()\n",
    "ratings_by_gender"
   ]
  },
  {
   "cell_type": "code",
   "execution_count": 54,
   "metadata": {},
   "outputs": [
    {
     "data": {
      "text/html": [
       "<div>\n",
       "<style scoped>\n",
       "    .dataframe tbody tr th:only-of-type {\n",
       "        vertical-align: middle;\n",
       "    }\n",
       "\n",
       "    .dataframe tbody tr th {\n",
       "        vertical-align: top;\n",
       "    }\n",
       "\n",
       "    .dataframe thead th {\n",
       "        text-align: right;\n",
       "    }\n",
       "</style>\n",
       "<table border=\"1\" class=\"dataframe\">\n",
       "  <thead>\n",
       "    <tr style=\"text-align: right;\">\n",
       "      <th></th>\n",
       "      <th>Drama</th>\n",
       "      <th>Romance</th>\n",
       "      <th>Sci-Fi</th>\n",
       "    </tr>\n",
       "    <tr>\n",
       "      <th>gender</th>\n",
       "      <th></th>\n",
       "      <th></th>\n",
       "      <th></th>\n",
       "    </tr>\n",
       "  </thead>\n",
       "  <tbody>\n",
       "    <tr>\n",
       "      <th>F</th>\n",
       "      <td>11008</td>\n",
       "      <td>5858</td>\n",
       "      <td>2629</td>\n",
       "    </tr>\n",
       "    <tr>\n",
       "      <th>M</th>\n",
       "      <td>28887</td>\n",
       "      <td>13603</td>\n",
       "      <td>10101</td>\n",
       "    </tr>\n",
       "  </tbody>\n",
       "</table>\n",
       "</div>"
      ],
      "text/plain": [
       "        Drama  Romance  Sci-Fi\n",
       "gender                        \n",
       "F       11008     5858    2629\n",
       "M       28887    13603   10101"
      ]
     },
     "execution_count": 54,
     "metadata": {},
     "output_type": "execute_result"
    }
   ],
   "source": [
    "# The following code counts the total ratings by gender.\n",
    "movies_rated=movies_ratings_users_df[['gender','Drama', 'Romance', 'Sci-Fi']].groupby('gender').sum()\n",
    "movies_rated\n"
   ]
  },
  {
   "cell_type": "code",
   "execution_count": 55,
   "metadata": {},
   "outputs": [
    {
     "data": {
      "text/plain": [
       "movie title\n",
       "Someone Else's America                  5.0\n",
       "Marlene Dietrich: Shadow and Light (    5.0\n",
       "Great Day in Harlem, A                  5.0\n",
       "Santa with Muscles                      5.0\n",
       "Saint of Fort Washington, The           5.0\n",
       "Name: rating, dtype: float64"
      ]
     },
     "execution_count": 55,
     "metadata": {},
     "output_type": "execute_result"
    }
   ],
   "source": [
    "# The following rating avg.\n",
    "rating_avg = rating_avg.sort_values(ascending=False)\n",
    "rating_avg.head()"
   ]
  },
  {
   "cell_type": "code",
   "execution_count": 63,
   "metadata": {},
   "outputs": [
    {
     "data": {
      "text/html": [
       "<div>\n",
       "<style scoped>\n",
       "    .dataframe tbody tr th:only-of-type {\n",
       "        vertical-align: middle;\n",
       "    }\n",
       "\n",
       "    .dataframe tbody tr th {\n",
       "        vertical-align: top;\n",
       "    }\n",
       "\n",
       "    .dataframe thead th {\n",
       "        text-align: right;\n",
       "    }\n",
       "</style>\n",
       "<table border=\"1\" class=\"dataframe\">\n",
       "  <thead>\n",
       "    <tr style=\"text-align: right;\">\n",
       "      <th></th>\n",
       "      <th>rating</th>\n",
       "      <th>number_of_ratings</th>\n",
       "    </tr>\n",
       "    <tr>\n",
       "      <th>movie title</th>\n",
       "      <th></th>\n",
       "      <th></th>\n",
       "    </tr>\n",
       "  </thead>\n",
       "  <tbody>\n",
       "    <tr>\n",
       "      <th>Someone Else's America</th>\n",
       "      <td>5.0</td>\n",
       "      <td>1</td>\n",
       "    </tr>\n",
       "    <tr>\n",
       "      <th>Marlene Dietrich: Shadow and Light (</th>\n",
       "      <td>5.0</td>\n",
       "      <td>1</td>\n",
       "    </tr>\n",
       "    <tr>\n",
       "      <th>Great Day in Harlem, A</th>\n",
       "      <td>5.0</td>\n",
       "      <td>1</td>\n",
       "    </tr>\n",
       "    <tr>\n",
       "      <th>Santa with Muscles</th>\n",
       "      <td>5.0</td>\n",
       "      <td>2</td>\n",
       "    </tr>\n",
       "    <tr>\n",
       "      <th>Saint of Fort Washington, The</th>\n",
       "      <td>5.0</td>\n",
       "      <td>2</td>\n",
       "    </tr>\n",
       "  </tbody>\n",
       "</table>\n",
       "</div>"
      ],
      "text/plain": [
       "                                      rating  number_of_ratings\n",
       "movie title                                                    \n",
       "Someone Else's America                   5.0                  1\n",
       "Marlene Dietrich: Shadow and Light (     5.0                  1\n",
       "Great Day in Harlem, A                   5.0                  1\n",
       "Santa with Muscles                       5.0                  2\n",
       "Saint of Fort Washington, The            5.0                  2"
      ]
     },
     "execution_count": 63,
     "metadata": {},
     "output_type": "execute_result"
    }
   ],
   "source": [
    "# The following code couting movies rating avrage.\n",
    "rating_avg_count = pd.DataFrame(data=rating_avg)\n",
    "rating_avg_count['number_of_ratings'] =pd.DataFrame(rating_count)\n",
    "rating_avg_count.head()"
   ]
  },
  {
   "cell_type": "code",
   "execution_count": 57,
   "metadata": {},
   "outputs": [
    {
     "data": {
      "text/html": [
       "<div>\n",
       "<style scoped>\n",
       "    .dataframe tbody tr th:only-of-type {\n",
       "        vertical-align: middle;\n",
       "    }\n",
       "\n",
       "    .dataframe tbody tr th {\n",
       "        vertical-align: top;\n",
       "    }\n",
       "\n",
       "    .dataframe thead th {\n",
       "        text-align: right;\n",
       "    }\n",
       "</style>\n",
       "<table border=\"1\" class=\"dataframe\">\n",
       "  <thead>\n",
       "    <tr style=\"text-align: right;\">\n",
       "      <th></th>\n",
       "      <th>rating</th>\n",
       "    </tr>\n",
       "  </thead>\n",
       "  <tbody>\n",
       "    <tr>\n",
       "      <th>count</th>\n",
       "      <td>1658.000000</td>\n",
       "    </tr>\n",
       "    <tr>\n",
       "      <th>mean</th>\n",
       "      <td>3.076198</td>\n",
       "    </tr>\n",
       "    <tr>\n",
       "      <th>std</th>\n",
       "      <td>0.781030</td>\n",
       "    </tr>\n",
       "    <tr>\n",
       "      <th>min</th>\n",
       "      <td>1.000000</td>\n",
       "    </tr>\n",
       "    <tr>\n",
       "      <th>25%</th>\n",
       "      <td>2.661950</td>\n",
       "    </tr>\n",
       "    <tr>\n",
       "      <th>50%</th>\n",
       "      <td>3.161528</td>\n",
       "    </tr>\n",
       "    <tr>\n",
       "      <th>75%</th>\n",
       "      <td>3.651555</td>\n",
       "    </tr>\n",
       "    <tr>\n",
       "      <th>max</th>\n",
       "      <td>5.000000</td>\n",
       "    </tr>\n",
       "  </tbody>\n",
       "</table>\n",
       "</div>"
      ],
      "text/plain": [
       "            rating\n",
       "count  1658.000000\n",
       "mean      3.076198\n",
       "std       0.781030\n",
       "min       1.000000\n",
       "25%       2.661950\n",
       "50%       3.161528\n",
       "75%       3.651555\n",
       "max       5.000000"
      ]
     },
     "execution_count": 57,
     "metadata": {},
     "output_type": "execute_result"
    }
   ],
   "source": [
    "# The folloing code display basics count statistics. \n",
    "rating_avg_count.describe()"
   ]
  },
  {
   "cell_type": "markdown",
   "metadata": {},
   "source": [
    "# Top 25 movies according to average ratings."
   ]
  },
  {
   "cell_type": "code",
   "execution_count": 58,
   "metadata": {},
   "outputs": [
    {
     "data": {
      "text/plain": [
       "movie title\n",
       "Star Wars                              583\n",
       "Contact                                509\n",
       "Fargo                                  508\n",
       "Return of the Jedi                     507\n",
       "Liar Liar                              485\n",
       "English Patient, The                   481\n",
       "Scream                                 478\n",
       "Toy Story                              452\n",
       "Air Force One                          431\n",
       "Independence Day (ID4)                 429\n",
       "Raiders of the Lost Ark                420\n",
       "Godfather, The                         413\n",
       "Pulp Fiction                           394\n",
       "Twelve Monkeys                         392\n",
       "Silence of the Lambs, The              390\n",
       "Jerry Maguire                          384\n",
       "Chasing Amy                            379\n",
       "Rock, The                              378\n",
       "Empire Strikes Back, The               367\n",
       "Star Trek: First Contact               365\n",
       "Back to the Future                     350\n",
       "Titanic                                350\n",
       "Mission: Impossible                    344\n",
       "Fugitive, The                          336\n",
       "Indiana Jones and the Last Crusade     331\n",
       "Name: rating, dtype: int64"
      ]
     },
     "execution_count": 58,
     "metadata": {},
     "output_type": "execute_result"
    }
   ],
   "source": [
    "# The following code displays the top 25 movies.\n",
    "rating_count = movies_ratings_users_df.groupby('movie title') ['rating']\n",
    "rating_count = rating_count.count().sort_values(ascending=False)\n",
    "rating_count[:25]"
   ]
  },
  {
   "cell_type": "markdown",
   "metadata": {},
   "source": [
    "# Movies that have more than 100 ratings."
   ]
  },
  {
   "cell_type": "code",
   "execution_count": 64,
   "metadata": {},
   "outputs": [
    {
     "data": {
      "text/html": [
       "<div>\n",
       "<style scoped>\n",
       "    .dataframe tbody tr th:only-of-type {\n",
       "        vertical-align: middle;\n",
       "    }\n",
       "\n",
       "    .dataframe tbody tr th {\n",
       "        vertical-align: top;\n",
       "    }\n",
       "\n",
       "    .dataframe thead th {\n",
       "        text-align: right;\n",
       "    }\n",
       "</style>\n",
       "<table border=\"1\" class=\"dataframe\">\n",
       "  <thead>\n",
       "    <tr style=\"text-align: right;\">\n",
       "      <th></th>\n",
       "      <th>rating</th>\n",
       "      <th>number_of_ratings</th>\n",
       "    </tr>\n",
       "    <tr>\n",
       "      <th>movie title</th>\n",
       "      <th></th>\n",
       "      <th></th>\n",
       "    </tr>\n",
       "  </thead>\n",
       "  <tbody>\n",
       "    <tr>\n",
       "      <th>Close Shave, A</th>\n",
       "      <td>4.491071</td>\n",
       "      <td>112</td>\n",
       "    </tr>\n",
       "    <tr>\n",
       "      <th>Schindler's List</th>\n",
       "      <td>4.466443</td>\n",
       "      <td>298</td>\n",
       "    </tr>\n",
       "    <tr>\n",
       "      <th>Wrong Trousers, The</th>\n",
       "      <td>4.466102</td>\n",
       "      <td>118</td>\n",
       "    </tr>\n",
       "    <tr>\n",
       "      <th>Casablanca</th>\n",
       "      <td>4.456790</td>\n",
       "      <td>243</td>\n",
       "    </tr>\n",
       "    <tr>\n",
       "      <th>Shawshank Redemption, The</th>\n",
       "      <td>4.445230</td>\n",
       "      <td>283</td>\n",
       "    </tr>\n",
       "    <tr>\n",
       "      <th>Rear Window</th>\n",
       "      <td>4.387560</td>\n",
       "      <td>209</td>\n",
       "    </tr>\n",
       "    <tr>\n",
       "      <th>Usual Suspects, The</th>\n",
       "      <td>4.385768</td>\n",
       "      <td>267</td>\n",
       "    </tr>\n",
       "    <tr>\n",
       "      <th>Star Wars</th>\n",
       "      <td>4.358491</td>\n",
       "      <td>583</td>\n",
       "    </tr>\n",
       "    <tr>\n",
       "      <th>12 Angry Men</th>\n",
       "      <td>4.344000</td>\n",
       "      <td>125</td>\n",
       "    </tr>\n",
       "    <tr>\n",
       "      <th>Citizen Kane</th>\n",
       "      <td>4.292929</td>\n",
       "      <td>198</td>\n",
       "    </tr>\n",
       "    <tr>\n",
       "      <th>To Kill a Mockingbird</th>\n",
       "      <td>4.292237</td>\n",
       "      <td>219</td>\n",
       "    </tr>\n",
       "    <tr>\n",
       "      <th>One Flew Over the Cuckoo's Nest</th>\n",
       "      <td>4.291667</td>\n",
       "      <td>264</td>\n",
       "    </tr>\n",
       "    <tr>\n",
       "      <th>Silence of the Lambs, The</th>\n",
       "      <td>4.289744</td>\n",
       "      <td>390</td>\n",
       "    </tr>\n",
       "    <tr>\n",
       "      <th>North by Northwest</th>\n",
       "      <td>4.284916</td>\n",
       "      <td>179</td>\n",
       "    </tr>\n",
       "    <tr>\n",
       "      <th>Godfather, The</th>\n",
       "      <td>4.283293</td>\n",
       "      <td>413</td>\n",
       "    </tr>\n",
       "    <tr>\n",
       "      <th>Secrets &amp; Lies</th>\n",
       "      <td>4.265432</td>\n",
       "      <td>162</td>\n",
       "    </tr>\n",
       "    <tr>\n",
       "      <th>Good Will Hunting</th>\n",
       "      <td>4.262626</td>\n",
       "      <td>198</td>\n",
       "    </tr>\n",
       "    <tr>\n",
       "      <th>Manchurian Candidate, The</th>\n",
       "      <td>4.259542</td>\n",
       "      <td>131</td>\n",
       "    </tr>\n",
       "    <tr>\n",
       "      <th>Dr. Strangelove or: How I Learned to Stop Worrying and Love the Bomb</th>\n",
       "      <td>4.252577</td>\n",
       "      <td>194</td>\n",
       "    </tr>\n",
       "    <tr>\n",
       "      <th>Raiders of the Lost Ark</th>\n",
       "      <td>4.252381</td>\n",
       "      <td>420</td>\n",
       "    </tr>\n",
       "    <tr>\n",
       "      <th>Vertigo</th>\n",
       "      <td>4.251397</td>\n",
       "      <td>179</td>\n",
       "    </tr>\n",
       "    <tr>\n",
       "      <th>Titanic</th>\n",
       "      <td>4.245714</td>\n",
       "      <td>350</td>\n",
       "    </tr>\n",
       "    <tr>\n",
       "      <th>Lawrence of Arabia</th>\n",
       "      <td>4.231214</td>\n",
       "      <td>173</td>\n",
       "    </tr>\n",
       "    <tr>\n",
       "      <th>Maltese Falcon, The</th>\n",
       "      <td>4.210145</td>\n",
       "      <td>138</td>\n",
       "    </tr>\n",
       "    <tr>\n",
       "      <th>Empire Strikes Back, The</th>\n",
       "      <td>4.204360</td>\n",
       "      <td>367</td>\n",
       "    </tr>\n",
       "  </tbody>\n",
       "</table>\n",
       "</div>"
      ],
      "text/plain": [
       "                                                      rating  \\\n",
       "movie title                                                    \n",
       "Close Shave, A                                      4.491071   \n",
       "Schindler's List                                    4.466443   \n",
       "Wrong Trousers, The                                 4.466102   \n",
       "Casablanca                                          4.456790   \n",
       "Shawshank Redemption, The                           4.445230   \n",
       "Rear Window                                         4.387560   \n",
       "Usual Suspects, The                                 4.385768   \n",
       "Star Wars                                           4.358491   \n",
       "12 Angry Men                                        4.344000   \n",
       "Citizen Kane                                        4.292929   \n",
       "To Kill a Mockingbird                               4.292237   \n",
       "One Flew Over the Cuckoo's Nest                     4.291667   \n",
       "Silence of the Lambs, The                           4.289744   \n",
       "North by Northwest                                  4.284916   \n",
       "Godfather, The                                      4.283293   \n",
       "Secrets & Lies                                      4.265432   \n",
       "Good Will Hunting                                   4.262626   \n",
       "Manchurian Candidate, The                           4.259542   \n",
       "Dr. Strangelove or: How I Learned to Stop Worry...  4.252577   \n",
       "Raiders of the Lost Ark                             4.252381   \n",
       "Vertigo                                             4.251397   \n",
       "Titanic                                             4.245714   \n",
       "Lawrence of Arabia                                  4.231214   \n",
       "Maltese Falcon, The                                 4.210145   \n",
       "Empire Strikes Back, The                            4.204360   \n",
       "\n",
       "                                                    number_of_ratings  \n",
       "movie title                                                            \n",
       "Close Shave, A                                                    112  \n",
       "Schindler's List                                                  298  \n",
       "Wrong Trousers, The                                               118  \n",
       "Casablanca                                                        243  \n",
       "Shawshank Redemption, The                                         283  \n",
       "Rear Window                                                       209  \n",
       "Usual Suspects, The                                               267  \n",
       "Star Wars                                                         583  \n",
       "12 Angry Men                                                      125  \n",
       "Citizen Kane                                                      198  \n",
       "To Kill a Mockingbird                                             219  \n",
       "One Flew Over the Cuckoo's Nest                                   264  \n",
       "Silence of the Lambs, The                                         390  \n",
       "North by Northwest                                                179  \n",
       "Godfather, The                                                    413  \n",
       "Secrets & Lies                                                    162  \n",
       "Good Will Hunting                                                 198  \n",
       "Manchurian Candidate, The                                         131  \n",
       "Dr. Strangelove or: How I Learned to Stop Worry...                194  \n",
       "Raiders of the Lost Ark                                           420  \n",
       "Vertigo                                                           179  \n",
       "Titanic                                                           350  \n",
       "Lawrence of Arabia                                                173  \n",
       "Maltese Falcon, The                                               138  \n",
       "Empire Strikes Back, The                                          367  "
      ]
     },
     "execution_count": 64,
     "metadata": {},
     "output_type": "execute_result"
    }
   ],
   "source": [
    "#The following code displays movies that have more than 100 ratings.\n",
    "filter_data = rating_avg_count[rating_avg_count['number_of_ratings'] > 100]\n",
    "filter_data[:25]"
   ]
  },
  {
   "cell_type": "code",
   "execution_count": 65,
   "metadata": {},
   "outputs": [
    {
     "data": {
      "text/plain": [
       "gender\n",
       "F    1.170989\n",
       "M    1.109549\n",
       "Name: rating, dtype: float64"
      ]
     },
     "execution_count": 65,
     "metadata": {},
     "output_type": "execute_result"
    }
   ],
   "source": [
    "# # the following code shows std viewership ratings of the movies by Female and Male.\n",
    "movies_ratings_users_df.groupby('gender').rating.std()\n"
   ]
  },
  {
   "cell_type": "markdown",
   "metadata": {},
   "source": [
    " ### 10. See gender distribution across different genres check for the validity of the below statements - 10 marks\n",
    "\n",
    "* Men watch more drama than women\n",
    "* Women watch more Sci-Fi than men\n",
    "* Men watch more Romance than women"
   ]
  },
  {
   "cell_type": "markdown",
   "metadata": {},
   "source": [
    "1. There is no need to conduct statistical tests around this. Just compare the percentages and comment on the validity of the above statements.\n",
    "\n",
    "2. you might want ot use the .sum(), .div() function here.\n",
    "3. Use number of ratings to validate the numbers. For example, if out of 4000 ratings received by women, 3000 are for drama, we will assume that 75% of the women watch drama."
   ]
  },
  {
   "cell_type": "code",
   "execution_count": 66,
   "metadata": {},
   "outputs": [
    {
     "data": {
      "text/html": [
       "<div>\n",
       "<style scoped>\n",
       "    .dataframe tbody tr th:only-of-type {\n",
       "        vertical-align: middle;\n",
       "    }\n",
       "\n",
       "    .dataframe tbody tr th {\n",
       "        vertical-align: top;\n",
       "    }\n",
       "\n",
       "    .dataframe thead th {\n",
       "        text-align: right;\n",
       "    }\n",
       "</style>\n",
       "<table border=\"1\" class=\"dataframe\">\n",
       "  <thead>\n",
       "    <tr style=\"text-align: right;\">\n",
       "      <th></th>\n",
       "      <th>Drama</th>\n",
       "      <th>Romance</th>\n",
       "      <th>Sci-Fi</th>\n",
       "    </tr>\n",
       "  </thead>\n",
       "  <tbody>\n",
       "    <tr>\n",
       "      <th>Male Ratings %</th>\n",
       "      <td>39.0</td>\n",
       "      <td>18.0</td>\n",
       "      <td>14.0</td>\n",
       "    </tr>\n",
       "  </tbody>\n",
       "</table>\n",
       "</div>"
      ],
      "text/plain": [
       "                Drama  Romance  Sci-Fi\n",
       "Male Ratings %   39.0     18.0    14.0"
      ]
     },
     "execution_count": 66,
     "metadata": {},
     "output_type": "execute_result"
    }
   ],
   "source": [
    "# The following code count male ratings by percentage.\n",
    "maile_ratings = pd.DataFrame({'Male Ratings %':movies_rated.loc['M',:].div(ratings_by_gender.loc['M', 'rating'])*100}).round()\n",
    "maile_ratings.head().T"
   ]
  },
  {
   "cell_type": "code",
   "execution_count": 67,
   "metadata": {},
   "outputs": [
    {
     "data": {
      "text/html": [
       "<div>\n",
       "<style scoped>\n",
       "    .dataframe tbody tr th:only-of-type {\n",
       "        vertical-align: middle;\n",
       "    }\n",
       "\n",
       "    .dataframe tbody tr th {\n",
       "        vertical-align: top;\n",
       "    }\n",
       "\n",
       "    .dataframe thead th {\n",
       "        text-align: right;\n",
       "    }\n",
       "</style>\n",
       "<table border=\"1\" class=\"dataframe\">\n",
       "  <thead>\n",
       "    <tr style=\"text-align: right;\">\n",
       "      <th></th>\n",
       "      <th>Drama</th>\n",
       "      <th>Romance</th>\n",
       "      <th>Sci-Fi</th>\n",
       "    </tr>\n",
       "  </thead>\n",
       "  <tbody>\n",
       "    <tr>\n",
       "      <th>Female Ratings %</th>\n",
       "      <td>43.0</td>\n",
       "      <td>23.0</td>\n",
       "      <td>10.0</td>\n",
       "    </tr>\n",
       "  </tbody>\n",
       "</table>\n",
       "</div>"
      ],
      "text/plain": [
       "                  Drama  Romance  Sci-Fi\n",
       "Female Ratings %   43.0     23.0    10.0"
      ]
     },
     "execution_count": 67,
     "metadata": {},
     "output_type": "execute_result"
    }
   ],
   "source": [
    "# The following code count female ratings by percentage.\n",
    "female_ratings = pd.DataFrame({'Female Ratings %':movies_rated.loc['F',:].div(ratings_by_gender.loc['F', 'rating'])*100}).round()\n",
    "female_ratings.head().T"
   ]
  },
  {
   "cell_type": "markdown",
   "metadata": {},
   "source": [
    "#### Conclusion:\n",
    "\n"
   ]
  },
  {
   "cell_type": "markdown",
   "metadata": {},
   "source": [
    "1- The percentage of men waching less dramer then women\n",
    "\n",
    "2- The percentage of women waching Sci-Fi is less the that among men.\n",
    "\n",
    "3- The percentage of men waching romance is less then that among wemen.\n",
    "\n",
    "4- The interesting thing in my observation that the standard deviation in females is slightly bigger than that in males which indicates that the difference among females ratings is greater than that among males. "
   ]
  },
  {
   "cell_type": "markdown",
   "metadata": {},
   "source": [
    "# References\n",
    "\n",
    "1- https://docs.python.org/3/library/datatypes.html\n",
    "\n",
    "2- https://realpython.com/pandas-groupby/\n",
    "\n",
    "3- https://www.w3schools.com/python/default.asp\n",
    "\n",
    "4- https://pandas.pydata.org/docs/getting_started/overview.html?highlight=saving%20loading\n",
    "\n",
    "5- https://pandas.pydata.org/pandas-docs/stable/user_guide/io.html?highlight=open%20csv%20file#io-read-csv-table\n",
    "\n",
    "6-https://pandas.pydata.org/pandas-docs/stable/user_guide/indexing.html#deprecate-loc-reindex-listlike'\n",
    "\n",
    "7- https://pandas.pydata.org/pandas-docs/version/0.23/dsintro.html\n",
    "\n",
    "8- https://www.youtube.com/watch?v=iYWKfUOtGaw&list=PL5-da3qGB5ICCsgW1MxlZ0Hq8LL5U3u9y&index=32\n",
    "\n",
    "9- https://realpython.com/pandas-groupby/\n",
    "\n",
    "10-https://pandas.pydata.org/pandas-docs/stable/reference/api/pandas.DataFrame.astype.html\n",
    "\n",
    "11-https://stackoverflow.com/questions/33957720/how-to-convert-column-with-dtype-as-object-to-string-in-pandas-dataframe"
   ]
  },
  {
   "cell_type": "markdown",
   "metadata": {},
   "source": [
    "# GitHub  Repository.\n",
    "\n",
    "https://github.com/command20/This-repository-records-all-the-project-works-that-I-did-in-my-PGP-AIML-program-with-UT-Austin-and-G"
   ]
  },
  {
   "cell_type": "code",
   "execution_count": null,
   "metadata": {},
   "outputs": [],
   "source": []
  }
 ],
 "metadata": {
  "kernelspec": {
   "display_name": "Python 3",
   "language": "python",
   "name": "python3"
  },
  "language_info": {
   "codemirror_mode": {
    "name": "ipython",
    "version": 3
   },
   "file_extension": ".py",
   "mimetype": "text/x-python",
   "name": "python",
   "nbconvert_exporter": "python",
   "pygments_lexer": "ipython3",
   "version": "3.7.6"
  }
 },
 "nbformat": 4,
 "nbformat_minor": 2
}
