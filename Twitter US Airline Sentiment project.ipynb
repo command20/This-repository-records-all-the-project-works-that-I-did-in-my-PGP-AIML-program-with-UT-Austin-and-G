{
 "cells": [
  {
   "cell_type": "markdown",
   "id": "expired-information",
   "metadata": {},
   "source": [
    "# Twitter US Airline Sentiment Project.\n"
   ]
  },
  {
   "cell_type": "markdown",
   "id": "associate-listening",
   "metadata": {},
   "source": [
    "# Contents:\n",
    "------------------------\n",
    "-  . <a href = #link100>Context:</a>\n",
    "- 1. <a href = #link1>Importing Libraries</a>\n",
    "- 2. <a href = #link2>Reading and Review of the dataset.</a>\n",
    "- 3. <a href = #link3>Transposing index and columns</a>\n",
    "- 4. <a href = #link4>EDA Discriptive Observations</a>\n",
    "- 5. <a href = #link5>Text pre-processing: Data preparation.</a>\n",
    "- 6. <a href = #link6>HTML tag removal.</a>\n",
    "- 7. <a href = #link7>Tokenization.</a>\n",
    "- 8. <a href = #link8>Removing Numbers.</a>\n",
    "- 9. <a href = #link9>Removing All Special Characters.</a>\n",
    "- 10. <a href = #link10>Convertion to Lowercasing.</a>\n",
    "- 11. <a href = #link11>Lemmatization</a>\n",
    "- 12. <a href = #link12>CountVectorizer.</a>\n",
    "- 13. <a href = #link13>TfidfVectorizer.</a>\n",
    "- 14. <a href = #link14>Building The Model.</a>\n",
    "- 15. <a href = #link15>Conclusion.</a>\n",
    "- 16. <a href = #link16>References & GitHub Link.</a>\n",
    "    "
   ]
  },
  {
   "cell_type": "markdown",
   "id": "relevant-pontiac",
   "metadata": {},
   "source": [
    "# <a id='link100'> Context:</a>"
   ]
  },
  {
   "cell_type": "markdown",
   "id": "desirable-receptor",
   "metadata": {},
   "source": [
    "# Data Description:\n",
    "\n",
    "A sentiment analysis job about the problems of each major U.S. airline. Twitter data was scraped from \n",
    "February of 2015 and contributors were asked to first classify positive, negative, and neutral tweets, followed \n",
    "by categorizing negative reasons (such as \"late flight\" or \"rude service\").\n",
    "Dataset:\n",
    " \n",
    "The project is from a dataset from Kaggle.\n",
    "Link to the Kaggle project site: https://www.kaggle.com/crowdflower/twitter-airline-sentiment\n",
    "The dataset has to be downloaded from the above Kaggle website.\n",
    "The dataset has the following column\n",
    "\n",
    "* tweet_id\n",
    "* airline_sentiment\n",
    "* airline_sentiment_confidence\n",
    "* negativereason\n",
    "* negativereason_confidence\n",
    "* airline\n",
    "* airline_sentiment_gold\n",
    "* name\n",
    "* negativereason_gold\n",
    "* retweet_count\n",
    "* text\n",
    "* tweet_coord\n",
    "* tweet_created\n",
    "* tweet_location\n",
    "* user_timezone\n",
    "\n",
    "* **Objective:**\n",
    "To implement the techniques learnt as a part of the course.\n",
    "* Learning Outcomes:\n",
    "* Basic understanding of text pre-processing.\n",
    "* What to do after text pre-processing: \n",
    "    o Bag of words\n",
    "    o Tf-idf\n",
    "* Build the classification model.\n",
    "* Evaluate the Model.\n",
    "\n",
    "**Steps and tasks:**\n",
    "1. Import the libraries, load dataset, print shape of data, data description. \n",
    "2. Understand of data-columns: \n",
    "a. Drop all other columns except “text” and “airline_sentiment”\n",
    "b. Check the shape of data.\n",
    "c. Print first 5 rows of data.\n",
    "3. Text pre-processing: Data preparation. \n",
    "a. Html tag removal.\n",
    "b. Tokenization.\n",
    "c. Remove the numbers.\n",
    "d. Removal of Special Characters and Punctuations.\n",
    "e. Conversion to lowercase.\n",
    "f. Lemmatize or stemming.\n",
    "g. Join the words in the list to convert back to text string in the dataframe. (So that each row \n",
    "contains the data in text format.)\n",
    "h. Print first 5 rows of data after pre-processing.\n",
    "4. Vectorization: \n",
    "a. Use CountVectorizer.\n",
    "b. Use TfidfVectorizer.\n",
    "5. Fit and evaluate model using both type of vectorization. (6+6 Marks)\n",
    "6. Summarize your understanding of the application of Various Pre-processing and Vectorization and \n",
    "performance of your model on this dataset. \n"
   ]
  },
  {
   "cell_type": "markdown",
   "id": "reserved-simon",
   "metadata": {},
   "source": [
    "# <a id='link1'> Importing Libraries</a>"
   ]
  },
  {
   "cell_type": "code",
   "execution_count": 1,
   "id": "responsible-wound",
   "metadata": {},
   "outputs": [],
   "source": [
    "# Standard packages\n",
    "\n",
    "import numpy as np\n",
    "import pandas as pd\n",
    "\n",
    "import re\n",
    "import nltk\n",
    "from nltk.corpus import stopwords\n",
    "from nltk.stem import LancasterStemmer, WordNetLemmatizer\n",
    "import seaborn as sns\n",
    "from matplotlib import pyplot as plt\n",
    "%matplotlib inline\n",
    "import warnings\n",
    "warnings.filterwarnings('ignore')\n",
    "\n",
    "from mlxtend.plotting import plot_confusion_matrix\n",
    "from sklearn.metrics import confusion_matrix\n",
    "from sklearn.metrics import accuracy_score,confusion_matrix,classification_report"
   ]
  },
  {
   "cell_type": "markdown",
   "id": "organized-majority",
   "metadata": {},
   "source": [
    "# <a id='link2'> Reading and Review of the dataset.</a>"
   ]
  },
  {
   "cell_type": "code",
   "execution_count": 2,
   "id": "balanced-cleaner",
   "metadata": {},
   "outputs": [
    {
     "data": {
      "text/html": [
       "<div>\n",
       "<style scoped>\n",
       "    .dataframe tbody tr th:only-of-type {\n",
       "        vertical-align: middle;\n",
       "    }\n",
       "\n",
       "    .dataframe tbody tr th {\n",
       "        vertical-align: top;\n",
       "    }\n",
       "\n",
       "    .dataframe thead th {\n",
       "        text-align: right;\n",
       "    }\n",
       "</style>\n",
       "<table border=\"1\" class=\"dataframe\">\n",
       "  <thead>\n",
       "    <tr style=\"text-align: right;\">\n",
       "      <th></th>\n",
       "      <th>tweet_id</th>\n",
       "      <th>airline_sentiment</th>\n",
       "      <th>airline_sentiment_confidence</th>\n",
       "      <th>negativereason</th>\n",
       "      <th>negativereason_confidence</th>\n",
       "      <th>airline</th>\n",
       "      <th>airline_sentiment_gold</th>\n",
       "      <th>name</th>\n",
       "      <th>negativereason_gold</th>\n",
       "      <th>retweet_count</th>\n",
       "      <th>text</th>\n",
       "      <th>tweet_coord</th>\n",
       "      <th>tweet_created</th>\n",
       "      <th>tweet_location</th>\n",
       "      <th>user_timezone</th>\n",
       "    </tr>\n",
       "  </thead>\n",
       "  <tbody>\n",
       "    <tr>\n",
       "      <th>0</th>\n",
       "      <td>570306133677760513</td>\n",
       "      <td>neutral</td>\n",
       "      <td>1.0000</td>\n",
       "      <td>NaN</td>\n",
       "      <td>NaN</td>\n",
       "      <td>Virgin America</td>\n",
       "      <td>NaN</td>\n",
       "      <td>cairdin</td>\n",
       "      <td>NaN</td>\n",
       "      <td>0</td>\n",
       "      <td>@VirginAmerica What @dhepburn said.</td>\n",
       "      <td>NaN</td>\n",
       "      <td>2015-02-24 11:35:52 -0800</td>\n",
       "      <td>NaN</td>\n",
       "      <td>Eastern Time (US &amp; Canada)</td>\n",
       "    </tr>\n",
       "    <tr>\n",
       "      <th>1</th>\n",
       "      <td>570301130888122368</td>\n",
       "      <td>positive</td>\n",
       "      <td>0.3486</td>\n",
       "      <td>NaN</td>\n",
       "      <td>0.0000</td>\n",
       "      <td>Virgin America</td>\n",
       "      <td>NaN</td>\n",
       "      <td>jnardino</td>\n",
       "      <td>NaN</td>\n",
       "      <td>0</td>\n",
       "      <td>@VirginAmerica plus you've added commercials t...</td>\n",
       "      <td>NaN</td>\n",
       "      <td>2015-02-24 11:15:59 -0800</td>\n",
       "      <td>NaN</td>\n",
       "      <td>Pacific Time (US &amp; Canada)</td>\n",
       "    </tr>\n",
       "    <tr>\n",
       "      <th>2</th>\n",
       "      <td>570301083672813571</td>\n",
       "      <td>neutral</td>\n",
       "      <td>0.6837</td>\n",
       "      <td>NaN</td>\n",
       "      <td>NaN</td>\n",
       "      <td>Virgin America</td>\n",
       "      <td>NaN</td>\n",
       "      <td>yvonnalynn</td>\n",
       "      <td>NaN</td>\n",
       "      <td>0</td>\n",
       "      <td>@VirginAmerica I didn't today... Must mean I n...</td>\n",
       "      <td>NaN</td>\n",
       "      <td>2015-02-24 11:15:48 -0800</td>\n",
       "      <td>Lets Play</td>\n",
       "      <td>Central Time (US &amp; Canada)</td>\n",
       "    </tr>\n",
       "    <tr>\n",
       "      <th>3</th>\n",
       "      <td>570301031407624196</td>\n",
       "      <td>negative</td>\n",
       "      <td>1.0000</td>\n",
       "      <td>Bad Flight</td>\n",
       "      <td>0.7033</td>\n",
       "      <td>Virgin America</td>\n",
       "      <td>NaN</td>\n",
       "      <td>jnardino</td>\n",
       "      <td>NaN</td>\n",
       "      <td>0</td>\n",
       "      <td>@VirginAmerica it's really aggressive to blast...</td>\n",
       "      <td>NaN</td>\n",
       "      <td>2015-02-24 11:15:36 -0800</td>\n",
       "      <td>NaN</td>\n",
       "      <td>Pacific Time (US &amp; Canada)</td>\n",
       "    </tr>\n",
       "    <tr>\n",
       "      <th>4</th>\n",
       "      <td>570300817074462722</td>\n",
       "      <td>negative</td>\n",
       "      <td>1.0000</td>\n",
       "      <td>Can't Tell</td>\n",
       "      <td>1.0000</td>\n",
       "      <td>Virgin America</td>\n",
       "      <td>NaN</td>\n",
       "      <td>jnardino</td>\n",
       "      <td>NaN</td>\n",
       "      <td>0</td>\n",
       "      <td>@VirginAmerica and it's a really big bad thing...</td>\n",
       "      <td>NaN</td>\n",
       "      <td>2015-02-24 11:14:45 -0800</td>\n",
       "      <td>NaN</td>\n",
       "      <td>Pacific Time (US &amp; Canada)</td>\n",
       "    </tr>\n",
       "  </tbody>\n",
       "</table>\n",
       "</div>"
      ],
      "text/plain": [
       "             tweet_id airline_sentiment  airline_sentiment_confidence  \\\n",
       "0  570306133677760513           neutral                        1.0000   \n",
       "1  570301130888122368          positive                        0.3486   \n",
       "2  570301083672813571           neutral                        0.6837   \n",
       "3  570301031407624196          negative                        1.0000   \n",
       "4  570300817074462722          negative                        1.0000   \n",
       "\n",
       "  negativereason  negativereason_confidence         airline  \\\n",
       "0            NaN                        NaN  Virgin America   \n",
       "1            NaN                     0.0000  Virgin America   \n",
       "2            NaN                        NaN  Virgin America   \n",
       "3     Bad Flight                     0.7033  Virgin America   \n",
       "4     Can't Tell                     1.0000  Virgin America   \n",
       "\n",
       "  airline_sentiment_gold        name negativereason_gold  retweet_count  \\\n",
       "0                    NaN     cairdin                 NaN              0   \n",
       "1                    NaN    jnardino                 NaN              0   \n",
       "2                    NaN  yvonnalynn                 NaN              0   \n",
       "3                    NaN    jnardino                 NaN              0   \n",
       "4                    NaN    jnardino                 NaN              0   \n",
       "\n",
       "                                                text tweet_coord  \\\n",
       "0                @VirginAmerica What @dhepburn said.         NaN   \n",
       "1  @VirginAmerica plus you've added commercials t...         NaN   \n",
       "2  @VirginAmerica I didn't today... Must mean I n...         NaN   \n",
       "3  @VirginAmerica it's really aggressive to blast...         NaN   \n",
       "4  @VirginAmerica and it's a really big bad thing...         NaN   \n",
       "\n",
       "               tweet_created tweet_location               user_timezone  \n",
       "0  2015-02-24 11:35:52 -0800            NaN  Eastern Time (US & Canada)  \n",
       "1  2015-02-24 11:15:59 -0800            NaN  Pacific Time (US & Canada)  \n",
       "2  2015-02-24 11:15:48 -0800      Lets Play  Central Time (US & Canada)  \n",
       "3  2015-02-24 11:15:36 -0800            NaN  Pacific Time (US & Canada)  \n",
       "4  2015-02-24 11:14:45 -0800            NaN  Pacific Time (US & Canada)  "
      ]
     },
     "execution_count": 2,
     "metadata": {},
     "output_type": "execute_result"
    }
   ],
   "source": [
    "tweet = pd.read_csv('Tweets.csv').copy()\n",
    "tweet.head(5)"
   ]
  },
  {
   "cell_type": "code",
   "execution_count": 6,
   "id": "later-mistress",
   "metadata": {},
   "outputs": [
    {
     "data": {
      "text/plain": [
       "0         neutral\n",
       "1        positive\n",
       "2         neutral\n",
       "3        negative\n",
       "4        negative\n",
       "           ...   \n",
       "14635    positive\n",
       "14636    negative\n",
       "14637     neutral\n",
       "14638    negative\n",
       "14639     neutral\n",
       "Name: airline_sentiment, Length: 14640, dtype: object"
      ]
     },
     "execution_count": 6,
     "metadata": {},
     "output_type": "execute_result"
    }
   ],
   "source": [
    "tweet['airline_sentiment']"
   ]
  },
  {
   "cell_type": "markdown",
   "id": "failing-engineering",
   "metadata": {},
   "source": [
    "# <a id='link3'> Transposing index and columns.</a>"
   ]
  },
  {
   "cell_type": "code",
   "execution_count": 7,
   "id": "cordless-brunei",
   "metadata": {},
   "outputs": [
    {
     "name": "stdout",
     "output_type": "stream",
     "text": [
      "Shape of the dataframe is (14640, 15)\n",
      "The number of nulls in each column are \n",
      " tweet_id                            0\n",
      "airline_sentiment                   0\n",
      "airline_sentiment_confidence        0\n",
      "negativereason                   5462\n",
      "negativereason_confidence        4118\n",
      "airline                             0\n",
      "airline_sentiment_gold          14600\n",
      "name                                0\n",
      "negativereason_gold             14608\n",
      "retweet_count                       0\n",
      "text                                0\n",
      "tweet_coord                     13621\n",
      "tweet_created                       0\n",
      "tweet_location                   4733\n",
      "user_timezone                    4820\n",
      "dtype: int64\n"
     ]
    }
   ],
   "source": [
    "print('Shape of the dataframe is',tweet.shape)\n",
    "print('The number of nulls in each column are \\n', tweet.isna().sum())"
   ]
  },
  {
   "cell_type": "markdown",
   "id": "imposed-nirvana",
   "metadata": {},
   "source": [
    "## we’ve got 14,640 samples (tweets), each with 15 features."
   ]
  },
  {
   "cell_type": "code",
   "execution_count": 8,
   "id": "greater-rainbow",
   "metadata": {},
   "outputs": [
    {
     "data": {
      "text/plain": [
       "Index(['tweet_id', 'airline_sentiment', 'airline_sentiment_confidence',\n",
       "       'negativereason', 'negativereason_confidence', 'airline',\n",
       "       'airline_sentiment_gold', 'name', 'negativereason_gold',\n",
       "       'retweet_count', 'text', 'tweet_coord', 'tweet_created',\n",
       "       'tweet_location', 'user_timezone'],\n",
       "      dtype='object')"
      ]
     },
     "execution_count": 8,
     "metadata": {},
     "output_type": "execute_result"
    }
   ],
   "source": [
    "tweet.columns"
   ]
  },
  {
   "cell_type": "code",
   "execution_count": 9,
   "id": "relative-intro",
   "metadata": {},
   "outputs": [
    {
     "data": {
      "text/plain": [
       "tweet_id                          int64\n",
       "airline_sentiment                object\n",
       "airline_sentiment_confidence    float64\n",
       "negativereason                   object\n",
       "negativereason_confidence       float64\n",
       "airline                          object\n",
       "airline_sentiment_gold           object\n",
       "name                             object\n",
       "negativereason_gold              object\n",
       "retweet_count                     int64\n",
       "text                             object\n",
       "tweet_coord                      object\n",
       "tweet_created                    object\n",
       "tweet_location                   object\n",
       "user_timezone                    object\n",
       "dtype: object"
      ]
     },
     "execution_count": 9,
     "metadata": {},
     "output_type": "execute_result"
    }
   ],
   "source": [
    "tweet.dtypes"
   ]
  },
  {
   "cell_type": "code",
   "execution_count": 10,
   "id": "scheduled-lunch",
   "metadata": {},
   "outputs": [
    {
     "name": "stdout",
     "output_type": "stream",
     "text": [
      "<class 'pandas.core.frame.DataFrame'>\n",
      "RangeIndex: 14640 entries, 0 to 14639\n",
      "Data columns (total 15 columns):\n",
      " #   Column                        Non-Null Count  Dtype  \n",
      "---  ------                        --------------  -----  \n",
      " 0   tweet_id                      14640 non-null  int64  \n",
      " 1   airline_sentiment             14640 non-null  object \n",
      " 2   airline_sentiment_confidence  14640 non-null  float64\n",
      " 3   negativereason                9178 non-null   object \n",
      " 4   negativereason_confidence     10522 non-null  float64\n",
      " 5   airline                       14640 non-null  object \n",
      " 6   airline_sentiment_gold        40 non-null     object \n",
      " 7   name                          14640 non-null  object \n",
      " 8   negativereason_gold           32 non-null     object \n",
      " 9   retweet_count                 14640 non-null  int64  \n",
      " 10  text                          14640 non-null  object \n",
      " 11  tweet_coord                   1019 non-null   object \n",
      " 12  tweet_created                 14640 non-null  object \n",
      " 13  tweet_location                9907 non-null   object \n",
      " 14  user_timezone                 9820 non-null   object \n",
      "dtypes: float64(2), int64(2), object(11)\n",
      "memory usage: 1.7+ MB\n"
     ]
    }
   ],
   "source": [
    "tweet.info()"
   ]
  },
  {
   "cell_type": "code",
   "execution_count": 11,
   "id": "introductory-favorite",
   "metadata": {},
   "outputs": [
    {
     "data": {
      "text/plain": [
       "tweet_id                          int64\n",
       "airline_sentiment                object\n",
       "airline_sentiment_confidence    float64\n",
       "negativereason                   object\n",
       "negativereason_confidence       float64\n",
       "airline                          object\n",
       "airline_sentiment_gold           object\n",
       "name                             object\n",
       "negativereason_gold              object\n",
       "retweet_count                     int64\n",
       "text                             object\n",
       "tweet_coord                      object\n",
       "tweet_created                    object\n",
       "tweet_location                   object\n",
       "user_timezone                    object\n",
       "dtype: object"
      ]
     },
     "execution_count": 11,
     "metadata": {},
     "output_type": "execute_result"
    }
   ],
   "source": [
    "# The following line of code to view the dataset data types.\n",
    "tweet.dtypes"
   ]
  },
  {
   "cell_type": "code",
   "execution_count": 12,
   "id": "plain-sarah",
   "metadata": {},
   "outputs": [
    {
     "data": {
      "text/plain": [
       "tweet_id                        14485\n",
       "airline_sentiment                   3\n",
       "airline_sentiment_confidence     1023\n",
       "negativereason                     10\n",
       "negativereason_confidence        1410\n",
       "airline                             6\n",
       "airline_sentiment_gold              3\n",
       "name                             7701\n",
       "negativereason_gold                13\n",
       "retweet_count                      18\n",
       "text                            14427\n",
       "tweet_coord                       832\n",
       "tweet_created                   14247\n",
       "tweet_location                   3081\n",
       "user_timezone                      85\n",
       "dtype: int64"
      ]
     },
     "execution_count": 12,
     "metadata": {},
     "output_type": "execute_result"
    }
   ],
   "source": [
    "tweet.nunique()"
   ]
  },
  {
   "cell_type": "code",
   "execution_count": 13,
   "id": "extended-radius",
   "metadata": {},
   "outputs": [
    {
     "data": {
      "text/html": [
       "<div>\n",
       "<style scoped>\n",
       "    .dataframe tbody tr th:only-of-type {\n",
       "        vertical-align: middle;\n",
       "    }\n",
       "\n",
       "    .dataframe tbody tr th {\n",
       "        vertical-align: top;\n",
       "    }\n",
       "\n",
       "    .dataframe thead th {\n",
       "        text-align: right;\n",
       "    }\n",
       "</style>\n",
       "<table border=\"1\" class=\"dataframe\">\n",
       "  <thead>\n",
       "    <tr style=\"text-align: right;\">\n",
       "      <th></th>\n",
       "      <th>tweet_id</th>\n",
       "      <th>airline_sentiment_confidence</th>\n",
       "      <th>negativereason_confidence</th>\n",
       "      <th>retweet_count</th>\n",
       "    </tr>\n",
       "  </thead>\n",
       "  <tbody>\n",
       "    <tr>\n",
       "      <th>0</th>\n",
       "      <td>570306133677760513</td>\n",
       "      <td>1.0000</td>\n",
       "      <td>NaN</td>\n",
       "      <td>0</td>\n",
       "    </tr>\n",
       "    <tr>\n",
       "      <th>1</th>\n",
       "      <td>570301130888122368</td>\n",
       "      <td>0.3486</td>\n",
       "      <td>0.0000</td>\n",
       "      <td>0</td>\n",
       "    </tr>\n",
       "    <tr>\n",
       "      <th>2</th>\n",
       "      <td>570301083672813571</td>\n",
       "      <td>0.6837</td>\n",
       "      <td>NaN</td>\n",
       "      <td>0</td>\n",
       "    </tr>\n",
       "    <tr>\n",
       "      <th>3</th>\n",
       "      <td>570301031407624196</td>\n",
       "      <td>1.0000</td>\n",
       "      <td>0.7033</td>\n",
       "      <td>0</td>\n",
       "    </tr>\n",
       "    <tr>\n",
       "      <th>4</th>\n",
       "      <td>570300817074462722</td>\n",
       "      <td>1.0000</td>\n",
       "      <td>1.0000</td>\n",
       "      <td>0</td>\n",
       "    </tr>\n",
       "    <tr>\n",
       "      <th>...</th>\n",
       "      <td>...</td>\n",
       "      <td>...</td>\n",
       "      <td>...</td>\n",
       "      <td>...</td>\n",
       "    </tr>\n",
       "    <tr>\n",
       "      <th>14635</th>\n",
       "      <td>569587686496825344</td>\n",
       "      <td>0.3487</td>\n",
       "      <td>0.0000</td>\n",
       "      <td>0</td>\n",
       "    </tr>\n",
       "    <tr>\n",
       "      <th>14636</th>\n",
       "      <td>569587371693355008</td>\n",
       "      <td>1.0000</td>\n",
       "      <td>1.0000</td>\n",
       "      <td>0</td>\n",
       "    </tr>\n",
       "    <tr>\n",
       "      <th>14637</th>\n",
       "      <td>569587242672398336</td>\n",
       "      <td>1.0000</td>\n",
       "      <td>NaN</td>\n",
       "      <td>0</td>\n",
       "    </tr>\n",
       "    <tr>\n",
       "      <th>14638</th>\n",
       "      <td>569587188687634433</td>\n",
       "      <td>1.0000</td>\n",
       "      <td>0.6659</td>\n",
       "      <td>0</td>\n",
       "    </tr>\n",
       "    <tr>\n",
       "      <th>14639</th>\n",
       "      <td>569587140490866689</td>\n",
       "      <td>0.6771</td>\n",
       "      <td>0.0000</td>\n",
       "      <td>0</td>\n",
       "    </tr>\n",
       "  </tbody>\n",
       "</table>\n",
       "<p>14640 rows × 4 columns</p>\n",
       "</div>"
      ],
      "text/plain": [
       "                 tweet_id  airline_sentiment_confidence  \\\n",
       "0      570306133677760513                        1.0000   \n",
       "1      570301130888122368                        0.3486   \n",
       "2      570301083672813571                        0.6837   \n",
       "3      570301031407624196                        1.0000   \n",
       "4      570300817074462722                        1.0000   \n",
       "...                   ...                           ...   \n",
       "14635  569587686496825344                        0.3487   \n",
       "14636  569587371693355008                        1.0000   \n",
       "14637  569587242672398336                        1.0000   \n",
       "14638  569587188687634433                        1.0000   \n",
       "14639  569587140490866689                        0.6771   \n",
       "\n",
       "       negativereason_confidence  retweet_count  \n",
       "0                            NaN              0  \n",
       "1                         0.0000              0  \n",
       "2                            NaN              0  \n",
       "3                         0.7033              0  \n",
       "4                         1.0000              0  \n",
       "...                          ...            ...  \n",
       "14635                     0.0000              0  \n",
       "14636                     1.0000              0  \n",
       "14637                        NaN              0  \n",
       "14638                     0.6659              0  \n",
       "14639                     0.0000              0  \n",
       "\n",
       "[14640 rows x 4 columns]"
      ]
     },
     "execution_count": 13,
     "metadata": {},
     "output_type": "execute_result"
    }
   ],
   "source": [
    "# Print dataset numerical variables.\n",
    "num_var=list(tweet.select_dtypes(exclude='object').columns)\n",
    "tweet[num_var]"
   ]
  },
  {
   "cell_type": "markdown",
   "id": "twenty-assignment",
   "metadata": {},
   "source": [
    "## Checking for error, duplicates and missing vales."
   ]
  },
  {
   "cell_type": "code",
   "execution_count": 14,
   "id": "enhanced-indonesia",
   "metadata": {},
   "outputs": [
    {
     "data": {
      "text/plain": [
       "tweet_id                            0\n",
       "airline_sentiment                   0\n",
       "airline_sentiment_confidence        0\n",
       "negativereason                   5462\n",
       "negativereason_confidence        4118\n",
       "airline                             0\n",
       "airline_sentiment_gold          14600\n",
       "name                                0\n",
       "negativereason_gold             14608\n",
       "retweet_count                       0\n",
       "text                                0\n",
       "tweet_coord                     13621\n",
       "tweet_created                       0\n",
       "tweet_location                   4733\n",
       "user_timezone                    4820\n",
       "dtype: int64"
      ]
     },
     "execution_count": 14,
     "metadata": {},
     "output_type": "execute_result"
    }
   ],
   "source": [
    "# Check the data\n",
    "tweet.isnull().sum()"
   ]
  },
  {
   "cell_type": "code",
   "execution_count": 15,
   "id": "enclosed-hotel",
   "metadata": {},
   "outputs": [
    {
     "name": "stdout",
     "output_type": "stream",
     "text": [
      "Percentage null or na values in tweet\n"
     ]
    },
    {
     "data": {
      "text/plain": [
       "tweet_id                         0.00\n",
       "airline_sentiment                0.00\n",
       "airline_sentiment_confidence     0.00\n",
       "negativereason                  37.31\n",
       "negativereason_confidence       28.13\n",
       "airline                          0.00\n",
       "airline_sentiment_gold          99.73\n",
       "name                             0.00\n",
       "negativereason_gold             99.78\n",
       "retweet_count                    0.00\n",
       "text                             0.00\n",
       "tweet_coord                     93.04\n",
       "tweet_created                    0.00\n",
       "tweet_location                  32.33\n",
       "user_timezone                   32.92\n",
       "dtype: float64"
      ]
     },
     "execution_count": 15,
     "metadata": {},
     "output_type": "execute_result"
    }
   ],
   "source": [
    "print('Percentage null or na values in tweet')\n",
    "((tweet.isnull() | tweet.isna()).sum() * 100 / tweet.index.size).round(2)"
   ]
  },
  {
   "cell_type": "markdown",
   "id": "suburban-generic",
   "metadata": {},
   "source": [
    "tweet_coord , airline_sentiment_gold, negativereason_gold have more than 90% missing data. It will be better to delete these columns as they will not provide any constructive information"
   ]
  },
  {
   "cell_type": "code",
   "execution_count": 16,
   "id": "adopted-kansas",
   "metadata": {},
   "outputs": [
    {
     "data": {
      "text/plain": [
       "36"
      ]
     },
     "execution_count": 16,
     "metadata": {},
     "output_type": "execute_result"
    }
   ],
   "source": [
    "# The following code to check duplicates in the datasets.\n",
    "dupes = tweet.duplicated()\n",
    "sum(dupes)"
   ]
  },
  {
   "cell_type": "code",
   "execution_count": 17,
   "id": "special-services",
   "metadata": {},
   "outputs": [
    {
     "data": {
      "text/plain": [
       "False    14604\n",
       "True        36\n",
       "dtype: int64"
      ]
     },
     "execution_count": 17,
     "metadata": {},
     "output_type": "execute_result"
    }
   ],
   "source": [
    "#dupes.value_counts\n",
    "dupes.value_counts().head()"
   ]
  },
  {
   "cell_type": "markdown",
   "id": "extra-extraction",
   "metadata": {},
   "source": [
    "# <a id='link4'>EDA Discriptive Observations.</a>"
   ]
  },
  {
   "cell_type": "code",
   "execution_count": 18,
   "id": "disturbed-collector",
   "metadata": {},
   "outputs": [
    {
     "data": {
      "text/html": [
       "<div>\n",
       "<style scoped>\n",
       "    .dataframe tbody tr th:only-of-type {\n",
       "        vertical-align: middle;\n",
       "    }\n",
       "\n",
       "    .dataframe tbody tr th {\n",
       "        vertical-align: top;\n",
       "    }\n",
       "\n",
       "    .dataframe thead th {\n",
       "        text-align: right;\n",
       "    }\n",
       "</style>\n",
       "<table border=\"1\" class=\"dataframe\">\n",
       "  <thead>\n",
       "    <tr style=\"text-align: right;\">\n",
       "      <th></th>\n",
       "      <th>count</th>\n",
       "      <th>mean</th>\n",
       "      <th>std</th>\n",
       "      <th>min</th>\n",
       "      <th>25%</th>\n",
       "      <th>50%</th>\n",
       "      <th>75%</th>\n",
       "      <th>max</th>\n",
       "    </tr>\n",
       "  </thead>\n",
       "  <tbody>\n",
       "    <tr>\n",
       "      <th>tweet_id</th>\n",
       "      <td>14640.0</td>\n",
       "      <td>5.692184e+17</td>\n",
       "      <td>7.791112e+14</td>\n",
       "      <td>5.675883e+17</td>\n",
       "      <td>5.685592e+17</td>\n",
       "      <td>5.694779e+17</td>\n",
       "      <td>5.698905e+17</td>\n",
       "      <td>5.703106e+17</td>\n",
       "    </tr>\n",
       "    <tr>\n",
       "      <th>airline_sentiment_confidence</th>\n",
       "      <td>14640.0</td>\n",
       "      <td>9.001689e-01</td>\n",
       "      <td>1.628300e-01</td>\n",
       "      <td>3.350000e-01</td>\n",
       "      <td>6.923000e-01</td>\n",
       "      <td>1.000000e+00</td>\n",
       "      <td>1.000000e+00</td>\n",
       "      <td>1.000000e+00</td>\n",
       "    </tr>\n",
       "    <tr>\n",
       "      <th>negativereason_confidence</th>\n",
       "      <td>10522.0</td>\n",
       "      <td>6.382983e-01</td>\n",
       "      <td>3.304398e-01</td>\n",
       "      <td>0.000000e+00</td>\n",
       "      <td>3.606000e-01</td>\n",
       "      <td>6.706000e-01</td>\n",
       "      <td>1.000000e+00</td>\n",
       "      <td>1.000000e+00</td>\n",
       "    </tr>\n",
       "    <tr>\n",
       "      <th>retweet_count</th>\n",
       "      <td>14640.0</td>\n",
       "      <td>8.265027e-02</td>\n",
       "      <td>7.457782e-01</td>\n",
       "      <td>0.000000e+00</td>\n",
       "      <td>0.000000e+00</td>\n",
       "      <td>0.000000e+00</td>\n",
       "      <td>0.000000e+00</td>\n",
       "      <td>4.400000e+01</td>\n",
       "    </tr>\n",
       "  </tbody>\n",
       "</table>\n",
       "</div>"
      ],
      "text/plain": [
       "                                count          mean           std  \\\n",
       "tweet_id                      14640.0  5.692184e+17  7.791112e+14   \n",
       "airline_sentiment_confidence  14640.0  9.001689e-01  1.628300e-01   \n",
       "negativereason_confidence     10522.0  6.382983e-01  3.304398e-01   \n",
       "retweet_count                 14640.0  8.265027e-02  7.457782e-01   \n",
       "\n",
       "                                       min           25%           50%  \\\n",
       "tweet_id                      5.675883e+17  5.685592e+17  5.694779e+17   \n",
       "airline_sentiment_confidence  3.350000e-01  6.923000e-01  1.000000e+00   \n",
       "negativereason_confidence     0.000000e+00  3.606000e-01  6.706000e-01   \n",
       "retweet_count                 0.000000e+00  0.000000e+00  0.000000e+00   \n",
       "\n",
       "                                       75%           max  \n",
       "tweet_id                      5.698905e+17  5.703106e+17  \n",
       "airline_sentiment_confidence  1.000000e+00  1.000000e+00  \n",
       "negativereason_confidence     1.000000e+00  1.000000e+00  \n",
       "retweet_count                 0.000000e+00  4.400000e+01  "
      ]
     },
     "execution_count": 18,
     "metadata": {},
     "output_type": "execute_result"
    }
   ],
   "source": [
    "# Printing dataset columns for numerical values.\n",
    "tweet.describe().T"
   ]
  },
  {
   "cell_type": "markdown",
   "id": "surrounded-auction",
   "metadata": {},
   "source": [
    "# Tweet sentiment by airline.\n",
    "Following the figure, we analyze how people tweet & retweet about different airlines. From to bottom, we will show the numbers of tweets for each airline & sentiment, and the number of retweets for each airline & sentiment, and the ratio of retweets to tweets for each airline and sentiment that is colored with different colors to respectively represents negative, neutral, or positive sentiments"
   ]
  },
  {
   "cell_type": "code",
   "execution_count": 19,
   "id": "broadband-personality",
   "metadata": {},
   "outputs": [
    {
     "data": {
      "text/plain": [
       "Text(0, 0.5, 'No. of Tweets')"
      ]
     },
     "execution_count": 19,
     "metadata": {},
     "output_type": "execute_result"
    },
    {
     "data": {
      "image/png": "[encoded data removed]",
      "text/plain": [
       "<Figure size 576x432 with 1 Axes>"
      ]
     },
     "metadata": {
      "needs_background": "light"
     },
     "output_type": "display_data"
    }
   ],
   "source": [
    "# the following line of codes to plot all the negative reasons.\n",
    "color=sns.color_palette('husl', 20)\n",
    "pd.Series(tweet['negativereason']).value_counts().plot(kind = 'bar',\n",
    "                                                      color=color,figsize=(8,6),title = 'Total Negative Reasons')\n",
    "plt.xlabel('Negative Reasons', fontsize=12)\n",
    "plt.ylabel('No. of Tweets', fontsize=12)"
   ]
  },
  {
   "cell_type": "code",
   "execution_count": 20,
   "id": "technical-thumbnail",
   "metadata": {},
   "outputs": [
    {
     "data": {
      "text/plain": [
       "Customer Service Issue         2910\n",
       "Late Flight                    1665\n",
       "Can't Tell                     1190\n",
       "Cancelled Flight                847\n",
       "Lost Luggage                    724\n",
       "Bad Flight                      580\n",
       "Flight Booking Problems         529\n",
       "Flight Attendant Complaints     481\n",
       "longlines                       178\n",
       "Damaged Luggage                  74\n",
       "Name: negativereason, dtype: int64"
      ]
     },
     "execution_count": 20,
     "metadata": {},
     "output_type": "execute_result"
    }
   ],
   "source": [
    "#Counting the total number of negative reasons\n",
    "tweet.negativereason.value_counts().head(10)"
   ]
  },
  {
   "cell_type": "code",
   "execution_count": 21,
   "id": "plastic-mixer",
   "metadata": {
    "scrolled": true
   },
   "outputs": [
    {
     "data": {
      "text/plain": [
       "<AxesSubplot:title={'center':'Total Tweets For Each Sentiment'}, ylabel='airline_sentiment'>"
      ]
     },
     "execution_count": 21,
     "metadata": {},
     "output_type": "execute_result"
    },
    {
     "data": {
      "image/png": "[encoded data removed]",
      "text/plain": [
       "<Figure size 432x432 with 1 Axes>"
      ]
     },
     "metadata": {},
     "output_type": "display_data"
    }
   ],
   "source": [
    "colors=sns.color_palette('husl', 10)\n",
    "pd.Series(tweet['airline_sentiment']).value_counts().plot(kind='pie', colors=colors,\n",
    "    labels=['Negative', 'Neutral', 'Positive'],explode=[0.05,0.02,0.04],\n",
    "    shadow=True,autopct='%.2f', fontsize=12,figsize=(6, 6),title = 'Total Tweets For Each Sentiment')"
   ]
  },
  {
   "cell_type": "code",
   "execution_count": 22,
   "id": "crude-polymer",
   "metadata": {},
   "outputs": [
    {
     "data": {
      "text/plain": [
       "(2363, 15)"
      ]
     },
     "execution_count": 22,
     "metadata": {},
     "output_type": "execute_result"
    }
   ],
   "source": [
    "# The following line of codes to filter the categary.\n",
    "is_positive = tweet['airline_sentiment'].str.contains('positive')\n",
    "is_negative = tweet['airline_sentiment'].str.contains('negative')\n",
    "is_neutral = tweet['airline_sentiment'].str.contains('neutral')\n",
    "positive_tweets = tweet[is_positive]\n",
    "positive_tweets.shape"
   ]
  },
  {
   "cell_type": "code",
   "execution_count": 23,
   "id": "secure-behalf",
   "metadata": {},
   "outputs": [
    {
     "data": {
      "text/plain": [
       "(9178, 15)"
      ]
     },
     "execution_count": 23,
     "metadata": {},
     "output_type": "execute_result"
    }
   ],
   "source": [
    "negative_tweets = tweet[is_negative]\n",
    "negative_tweets.shape"
   ]
  },
  {
   "cell_type": "code",
   "execution_count": 24,
   "id": "crucial-tomorrow",
   "metadata": {},
   "outputs": [
    {
     "data": {
      "text/plain": [
       "(3099, 15)"
      ]
     },
     "execution_count": 24,
     "metadata": {},
     "output_type": "execute_result"
    }
   ],
   "source": [
    "neutral_tweets = tweet[is_neutral]\n",
    "neutral_tweets.shape"
   ]
  },
  {
   "cell_type": "code",
   "execution_count": 25,
   "id": "greatest-father",
   "metadata": {},
   "outputs": [
    {
     "data": {
      "text/html": [
       "<div>\n",
       "<style scoped>\n",
       "    .dataframe tbody tr th:only-of-type {\n",
       "        vertical-align: middle;\n",
       "    }\n",
       "\n",
       "    .dataframe tbody tr th {\n",
       "        vertical-align: top;\n",
       "    }\n",
       "\n",
       "    .dataframe thead th {\n",
       "        text-align: right;\n",
       "    }\n",
       "</style>\n",
       "<table border=\"1\" class=\"dataframe\">\n",
       "  <thead>\n",
       "    <tr style=\"text-align: right;\">\n",
       "      <th></th>\n",
       "      <th>airline</th>\n",
       "      <th>airline_sentiment_confidence</th>\n",
       "      <th>negativereason</th>\n",
       "    </tr>\n",
       "  </thead>\n",
       "  <tbody>\n",
       "    <tr>\n",
       "      <th>3</th>\n",
       "      <td>Virgin America</td>\n",
       "      <td>1.0000</td>\n",
       "      <td>Bad Flight</td>\n",
       "    </tr>\n",
       "    <tr>\n",
       "      <th>4</th>\n",
       "      <td>Virgin America</td>\n",
       "      <td>1.0000</td>\n",
       "      <td>Can't Tell</td>\n",
       "    </tr>\n",
       "    <tr>\n",
       "      <th>5</th>\n",
       "      <td>Virgin America</td>\n",
       "      <td>1.0000</td>\n",
       "      <td>Can't Tell</td>\n",
       "    </tr>\n",
       "    <tr>\n",
       "      <th>15</th>\n",
       "      <td>Virgin America</td>\n",
       "      <td>0.6842</td>\n",
       "      <td>Late Flight</td>\n",
       "    </tr>\n",
       "    <tr>\n",
       "      <th>17</th>\n",
       "      <td>Virgin America</td>\n",
       "      <td>1.0000</td>\n",
       "      <td>Bad Flight</td>\n",
       "    </tr>\n",
       "    <tr>\n",
       "      <th>...</th>\n",
       "      <td>...</td>\n",
       "      <td>...</td>\n",
       "      <td>...</td>\n",
       "    </tr>\n",
       "    <tr>\n",
       "      <th>14631</th>\n",
       "      <td>American</td>\n",
       "      <td>1.0000</td>\n",
       "      <td>Bad Flight</td>\n",
       "    </tr>\n",
       "    <tr>\n",
       "      <th>14633</th>\n",
       "      <td>American</td>\n",
       "      <td>1.0000</td>\n",
       "      <td>Cancelled Flight</td>\n",
       "    </tr>\n",
       "    <tr>\n",
       "      <th>14634</th>\n",
       "      <td>American</td>\n",
       "      <td>0.6684</td>\n",
       "      <td>Late Flight</td>\n",
       "    </tr>\n",
       "    <tr>\n",
       "      <th>14636</th>\n",
       "      <td>American</td>\n",
       "      <td>1.0000</td>\n",
       "      <td>Customer Service Issue</td>\n",
       "    </tr>\n",
       "    <tr>\n",
       "      <th>14638</th>\n",
       "      <td>American</td>\n",
       "      <td>1.0000</td>\n",
       "      <td>Customer Service Issue</td>\n",
       "    </tr>\n",
       "  </tbody>\n",
       "</table>\n",
       "<p>9178 rows × 3 columns</p>\n",
       "</div>"
      ],
      "text/plain": [
       "              airline  airline_sentiment_confidence          negativereason\n",
       "3      Virgin America                        1.0000              Bad Flight\n",
       "4      Virgin America                        1.0000              Can't Tell\n",
       "5      Virgin America                        1.0000              Can't Tell\n",
       "15     Virgin America                        0.6842             Late Flight\n",
       "17     Virgin America                        1.0000              Bad Flight\n",
       "...               ...                           ...                     ...\n",
       "14631        American                        1.0000              Bad Flight\n",
       "14633        American                        1.0000        Cancelled Flight\n",
       "14634        American                        0.6684             Late Flight\n",
       "14636        American                        1.0000  Customer Service Issue\n",
       "14638        American                        1.0000  Customer Service Issue\n",
       "\n",
       "[9178 rows x 3 columns]"
      ]
     },
     "execution_count": 25,
     "metadata": {},
     "output_type": "execute_result"
    }
   ],
   "source": [
    "worst_airline = negative_tweets[['airline','airline_sentiment_confidence','negativereason']]\n",
    "worst_airline"
   ]
  },
  {
   "cell_type": "code",
   "execution_count": 26,
   "id": "toxic-robin",
   "metadata": {},
   "outputs": [
    {
     "data": {
      "text/plain": [
       "0    1\n",
       "1    1\n",
       "2    1\n",
       "3    0\n",
       "4    0\n",
       "Name: sentiment, dtype: int64"
      ]
     },
     "execution_count": 26,
     "metadata": {},
     "output_type": "execute_result"
    }
   ],
   "source": [
    "# Following line of codes to present airline sentiment in digits 0 = to negative 1 = to positive.\n",
    "tweet['sentiment']=tweet['airline_sentiment'].apply(lambda x: 0 if x=='negative' else 1)\n",
    "tweet.sentiment.head()"
   ]
  },
  {
   "cell_type": "code",
   "execution_count": 27,
   "id": "pursuant-johnston",
   "metadata": {},
   "outputs": [
    {
     "data": {
      "text/html": [
       "<div>\n",
       "<style scoped>\n",
       "    .dataframe tbody tr th:only-of-type {\n",
       "        vertical-align: middle;\n",
       "    }\n",
       "\n",
       "    .dataframe tbody tr th {\n",
       "        vertical-align: top;\n",
       "    }\n",
       "\n",
       "    .dataframe thead th {\n",
       "        text-align: right;\n",
       "    }\n",
       "</style>\n",
       "<table border=\"1\" class=\"dataframe\">\n",
       "  <thead>\n",
       "    <tr style=\"text-align: right;\">\n",
       "      <th></th>\n",
       "      <th>airline</th>\n",
       "      <th>airline_sentiment_confidence</th>\n",
       "      <th>negativereason</th>\n",
       "    </tr>\n",
       "  </thead>\n",
       "  <tbody>\n",
       "    <tr>\n",
       "      <th>4</th>\n",
       "      <td>United</td>\n",
       "      <td>2633</td>\n",
       "      <td>2633</td>\n",
       "    </tr>\n",
       "    <tr>\n",
       "      <th>3</th>\n",
       "      <td>US Airways</td>\n",
       "      <td>2263</td>\n",
       "      <td>2263</td>\n",
       "    </tr>\n",
       "    <tr>\n",
       "      <th>0</th>\n",
       "      <td>American</td>\n",
       "      <td>1960</td>\n",
       "      <td>1960</td>\n",
       "    </tr>\n",
       "    <tr>\n",
       "      <th>2</th>\n",
       "      <td>Southwest</td>\n",
       "      <td>1186</td>\n",
       "      <td>1186</td>\n",
       "    </tr>\n",
       "    <tr>\n",
       "      <th>1</th>\n",
       "      <td>Delta</td>\n",
       "      <td>955</td>\n",
       "      <td>955</td>\n",
       "    </tr>\n",
       "    <tr>\n",
       "      <th>5</th>\n",
       "      <td>Virgin America</td>\n",
       "      <td>181</td>\n",
       "      <td>181</td>\n",
       "    </tr>\n",
       "  </tbody>\n",
       "</table>\n",
       "</div>"
      ],
      "text/plain": [
       "          airline  airline_sentiment_confidence  negativereason\n",
       "4          United                          2633            2633\n",
       "3      US Airways                          2263            2263\n",
       "0        American                          1960            1960\n",
       "2       Southwest                          1186            1186\n",
       "1           Delta                           955             955\n",
       "5  Virgin America                           181             181"
      ]
     },
     "execution_count": 27,
     "metadata": {},
     "output_type": "execute_result"
    }
   ],
   "source": [
    "# The following line of codes to create the rank for the worst airline.\n",
    "cnt_worst_airline = worst_airline.groupby('airline', as_index=False).count()\n",
    "cnt_worst_airline.sort_values('negativereason', ascending=False)"
   ]
  },
  {
   "cell_type": "code",
   "execution_count": 28,
   "id": "vertical-carbon",
   "metadata": {},
   "outputs": [
    {
     "data": {
      "text/html": [
       "<div>\n",
       "<style scoped>\n",
       "    .dataframe tbody tr th:only-of-type {\n",
       "        vertical-align: middle;\n",
       "    }\n",
       "\n",
       "    .dataframe tbody tr th {\n",
       "        vertical-align: top;\n",
       "    }\n",
       "\n",
       "    .dataframe thead th {\n",
       "        text-align: right;\n",
       "    }\n",
       "</style>\n",
       "<table border=\"1\" class=\"dataframe\">\n",
       "  <thead>\n",
       "    <tr style=\"text-align: right;\">\n",
       "      <th></th>\n",
       "      <th>airline</th>\n",
       "      <th>airline_sentiment_confidence</th>\n",
       "    </tr>\n",
       "  </thead>\n",
       "  <tbody>\n",
       "    <tr>\n",
       "      <th>2</th>\n",
       "      <td>Southwest</td>\n",
       "      <td>570</td>\n",
       "    </tr>\n",
       "    <tr>\n",
       "      <th>1</th>\n",
       "      <td>Delta</td>\n",
       "      <td>544</td>\n",
       "    </tr>\n",
       "    <tr>\n",
       "      <th>4</th>\n",
       "      <td>United</td>\n",
       "      <td>492</td>\n",
       "    </tr>\n",
       "    <tr>\n",
       "      <th>0</th>\n",
       "      <td>American</td>\n",
       "      <td>336</td>\n",
       "    </tr>\n",
       "    <tr>\n",
       "      <th>3</th>\n",
       "      <td>US Airways</td>\n",
       "      <td>269</td>\n",
       "    </tr>\n",
       "    <tr>\n",
       "      <th>5</th>\n",
       "      <td>Virgin America</td>\n",
       "      <td>152</td>\n",
       "    </tr>\n",
       "  </tbody>\n",
       "</table>\n",
       "</div>"
      ],
      "text/plain": [
       "          airline  airline_sentiment_confidence\n",
       "2       Southwest                           570\n",
       "1           Delta                           544\n",
       "4          United                           492\n",
       "0        American                           336\n",
       "3      US Airways                           269\n",
       "5  Virgin America                           152"
      ]
     },
     "execution_count": 28,
     "metadata": {},
     "output_type": "execute_result"
    }
   ],
   "source": [
    "# The following line of codes to create the rank for the best airline.\n",
    "best_airline = positive_tweets[['airline','airline_sentiment_confidence']]\n",
    "cnt_best_airline = best_airline.groupby('airline', as_index=False).count()\n",
    "cnt_best_airline.sort_values('airline_sentiment_confidence', ascending=False)"
   ]
  },
  {
   "cell_type": "code",
   "execution_count": 29,
   "id": "enormous-frame",
   "metadata": {},
   "outputs": [
    {
     "data": {
      "text/html": [
       "<div>\n",
       "<style scoped>\n",
       "    .dataframe tbody tr th:only-of-type {\n",
       "        vertical-align: middle;\n",
       "    }\n",
       "\n",
       "    .dataframe tbody tr th {\n",
       "        vertical-align: top;\n",
       "    }\n",
       "\n",
       "    .dataframe thead th {\n",
       "        text-align: right;\n",
       "    }\n",
       "</style>\n",
       "<table border=\"1\" class=\"dataframe\">\n",
       "  <thead>\n",
       "    <tr style=\"text-align: right;\">\n",
       "      <th></th>\n",
       "      <th>negativereason</th>\n",
       "      <th>airline</th>\n",
       "    </tr>\n",
       "  </thead>\n",
       "  <tbody>\n",
       "    <tr>\n",
       "      <th>9</th>\n",
       "      <td>longlines</td>\n",
       "      <td>178</td>\n",
       "    </tr>\n",
       "    <tr>\n",
       "      <th>8</th>\n",
       "      <td>Lost Luggage</td>\n",
       "      <td>724</td>\n",
       "    </tr>\n",
       "    <tr>\n",
       "      <th>7</th>\n",
       "      <td>Late Flight</td>\n",
       "      <td>1665</td>\n",
       "    </tr>\n",
       "    <tr>\n",
       "      <th>6</th>\n",
       "      <td>Flight Booking Problems</td>\n",
       "      <td>529</td>\n",
       "    </tr>\n",
       "    <tr>\n",
       "      <th>5</th>\n",
       "      <td>Flight Attendant Complaints</td>\n",
       "      <td>481</td>\n",
       "    </tr>\n",
       "    <tr>\n",
       "      <th>4</th>\n",
       "      <td>Damaged Luggage</td>\n",
       "      <td>74</td>\n",
       "    </tr>\n",
       "    <tr>\n",
       "      <th>3</th>\n",
       "      <td>Customer Service Issue</td>\n",
       "      <td>2910</td>\n",
       "    </tr>\n",
       "    <tr>\n",
       "      <th>2</th>\n",
       "      <td>Cancelled Flight</td>\n",
       "      <td>847</td>\n",
       "    </tr>\n",
       "    <tr>\n",
       "      <th>1</th>\n",
       "      <td>Can't Tell</td>\n",
       "      <td>1190</td>\n",
       "    </tr>\n",
       "    <tr>\n",
       "      <th>0</th>\n",
       "      <td>Bad Flight</td>\n",
       "      <td>580</td>\n",
       "    </tr>\n",
       "  </tbody>\n",
       "</table>\n",
       "</div>"
      ],
      "text/plain": [
       "                negativereason  airline\n",
       "9                    longlines      178\n",
       "8                 Lost Luggage      724\n",
       "7                  Late Flight     1665\n",
       "6      Flight Booking Problems      529\n",
       "5  Flight Attendant Complaints      481\n",
       "4              Damaged Luggage       74\n",
       "3       Customer Service Issue     2910\n",
       "2             Cancelled Flight      847\n",
       "1                   Can't Tell     1190\n",
       "0                   Bad Flight      580"
      ]
     },
     "execution_count": 29,
     "metadata": {},
     "output_type": "execute_result"
    }
   ],
   "source": [
    "# The following line of codes create the rank for negative reason.\n",
    "motivation = negative_tweets[['airline','negativereason']]\n",
    "cnt_bad_flight_motivation = motivation.groupby('negativereason', as_index=False).count()\n",
    "cnt_bad_flight_motivation.sort_values('negativereason', ascending=False)"
   ]
  },
  {
   "cell_type": "code",
   "execution_count": 30,
   "id": "corrected-ranch",
   "metadata": {},
   "outputs": [
    {
     "data": {
      "text/plain": [
       "<AxesSubplot:title={'center':'Top 5 Negative Reasons'}, ylabel='negativereason'>"
      ]
     },
     "execution_count": 30,
     "metadata": {},
     "output_type": "execute_result"
    },
    {
     "data": {
      "image/png": "[encoded data removed]",
      "text/plain": [
       "<Figure size 432x432 with 1 Axes>"
      ]
     },
     "metadata": {},
     "output_type": "display_data"
    }
   ],
   "source": [
    "# The following line of code to print top 5 niegative reasons.\n",
    "pd.Series(tweet[\"negativereason\"]).value_counts().head(5).plot(kind=\"pie\",\n",
    "                labels=[\"Customer Service Issue\", \"Late Flight\", \"Can't Tell\",\"Cancelled Flight\",\"Lost Luggage\"],\n",
    "                colors=color,autopct='%.2f',explode=[0.05,0,0.02,0.03,0.04],shadow=True,\n",
    "                fontsize=12,figsize=(6, 6),title=\"Top 5 Negative Reasons\")"
   ]
  },
  {
   "cell_type": "code",
   "execution_count": 31,
   "id": "prospective-blond",
   "metadata": {},
   "outputs": [
    {
     "data": {
      "text/html": [
       "<div>\n",
       "<style scoped>\n",
       "    .dataframe tbody tr th:only-of-type {\n",
       "        vertical-align: middle;\n",
       "    }\n",
       "\n",
       "    .dataframe tbody tr th {\n",
       "        vertical-align: top;\n",
       "    }\n",
       "\n",
       "    .dataframe thead th {\n",
       "        text-align: right;\n",
       "    }\n",
       "</style>\n",
       "<table border=\"1\" class=\"dataframe\">\n",
       "  <thead>\n",
       "    <tr style=\"text-align: right;\">\n",
       "      <th>airline_sentiment</th>\n",
       "      <th>negative</th>\n",
       "      <th>neutral</th>\n",
       "      <th>positive</th>\n",
       "    </tr>\n",
       "    <tr>\n",
       "      <th>airline</th>\n",
       "      <th></th>\n",
       "      <th></th>\n",
       "      <th></th>\n",
       "    </tr>\n",
       "  </thead>\n",
       "  <tbody>\n",
       "    <tr>\n",
       "      <th>American</th>\n",
       "      <td>1960</td>\n",
       "      <td>463</td>\n",
       "      <td>336</td>\n",
       "    </tr>\n",
       "    <tr>\n",
       "      <th>Delta</th>\n",
       "      <td>955</td>\n",
       "      <td>723</td>\n",
       "      <td>544</td>\n",
       "    </tr>\n",
       "    <tr>\n",
       "      <th>Southwest</th>\n",
       "      <td>1186</td>\n",
       "      <td>664</td>\n",
       "      <td>570</td>\n",
       "    </tr>\n",
       "    <tr>\n",
       "      <th>US Airways</th>\n",
       "      <td>2263</td>\n",
       "      <td>381</td>\n",
       "      <td>269</td>\n",
       "    </tr>\n",
       "    <tr>\n",
       "      <th>United</th>\n",
       "      <td>2633</td>\n",
       "      <td>697</td>\n",
       "      <td>492</td>\n",
       "    </tr>\n",
       "    <tr>\n",
       "      <th>Virgin America</th>\n",
       "      <td>181</td>\n",
       "      <td>171</td>\n",
       "      <td>152</td>\n",
       "    </tr>\n",
       "  </tbody>\n",
       "</table>\n",
       "</div>"
      ],
      "text/plain": [
       "airline_sentiment  negative  neutral  positive\n",
       "airline                                       \n",
       "American               1960      463       336\n",
       "Delta                   955      723       544\n",
       "Southwest              1186      664       570\n",
       "US Airways             2263      381       269\n",
       "United                 2633      697       492\n",
       "Virgin America          181      171       152"
      ]
     },
     "execution_count": 31,
     "metadata": {},
     "output_type": "execute_result"
    }
   ],
   "source": [
    "air_sent=pd.crosstab(tweet.airline, tweet.airline_sentiment)\n",
    "air_sent"
   ]
  },
  {
   "cell_type": "code",
   "execution_count": 32,
   "id": "angry-wages",
   "metadata": {},
   "outputs": [
    {
     "data": {
      "text/plain": [
       "<AxesSubplot:title={'center':'Airline Sentiment'}, xlabel='airline'>"
      ]
     },
     "execution_count": 32,
     "metadata": {},
     "output_type": "execute_result"
    },
    {
     "data": {
      "image/png": "[encoded data removed]",
      "text/plain": [
       "<Figure size 720x432 with 1 Axes>"
      ]
     },
     "metadata": {
      "needs_background": "light"
     },
     "output_type": "display_data"
    }
   ],
   "source": [
    "pd.crosstab(index = tweet[\"airline\"],columns = tweet[\"airline_sentiment\"]).plot(kind='bar',\n",
    "                figsize=(10, 6),alpha=0.5,rot=0,stacked=True,title=\"Airline Sentiment\")"
   ]
  },
  {
   "cell_type": "markdown",
   "id": "missing-watson",
   "metadata": {},
   "source": [
    "# Observation.\n",
    "The majority of customers don't like most of the airline except Virgin America. United Airlines is clearly indicating the most reviled of all airlines. Interestingly, the retweet's efficiency is airline-dependent.\n",
    "Tweets about the united airline, America, and Us airways are more likely to be retweeted if they are negative, while tweets about the Southwest airline, delta airline, and Virgin America airline are more likely to be retweeted if they are positive.\n",
    "This general trend anecdotally reflects the author's personal opinion of the airline quality, we speculate that Twitter users are retweeting comments that they personally agree with.\n",
    "Consequently, I think that the retweet's efficiency could be a useful metric for determining public opinion."
   ]
  },
  {
   "cell_type": "markdown",
   "id": "double-indie",
   "metadata": {},
   "source": [
    "### Following lines of codes to plot airline sentiments for each airline.\n",
    "* will calculate the total number of tweets for each airline.\n",
    "* will plot bar plots for each airline with respect to sentiments of tweets, (Positive-Negative or-Neutral). This will clearly suggest the airline sentiment and airline relationships."
   ]
  },
  {
   "cell_type": "code",
   "execution_count": 33,
   "id": "dedicated-detection",
   "metadata": {
    "scrolled": true
   },
   "outputs": [
    {
     "name": "stdout",
     "output_type": "stream",
     "text": [
      "Total number of tweets for each airline \n",
      "  airline\n",
      "United            3822\n",
      "US Airways        2913\n",
      "American          2759\n",
      "Southwest         2420\n",
      "Delta             2222\n",
      "Virgin America     504\n",
      "Name: airline_sentiment, dtype: int64\n"
     ]
    },
    {
     "data": {
      "image/png": "[encoded data removed]",
      "text/plain": [
       "<Figure size 900x900 with 6 Axes>"
      ]
     },
     "metadata": {
      "needs_background": "light"
     },
     "output_type": "display_data"
    }
   ],
   "source": [
    "print(\"Total number of tweets for each airline \\n \",tweet.groupby('airline')['airline_sentiment'].count().sort_values(ascending=False))\n",
    "airlines= ['US Airways','United','American','Southwest','Delta','Virgin America']\n",
    "plt.figure(1,figsize=(12.5, 12.5))\n",
    "for i in airlines:\n",
    "    indices= airlines.index(i)\n",
    "    plt.subplot(2,3,indices+1)\n",
    "    new_df=tweet[tweet['airline']==i]\n",
    "    count=new_df['airline_sentiment'].value_counts()\n",
    "    Index = [1,2,3]\n",
    "    plt.bar(Index,count, color=['pink', 'silver', 'black'])\n",
    "    plt.xticks(Index,['negative','neutral','positive'])\n",
    "    plt.ylabel('Mood Count')\n",
    "    plt.xlabel('Mood')\n",
    "    plt.title('Count of Moods of '+i)"
   ]
  },
  {
   "cell_type": "markdown",
   "id": "turkish-sample",
   "metadata": {},
   "source": [
    "# Observation.\n",
    "* Tweets for VirginAmerica are the most balanced.\n",
    "* United airline, US Airways and American are substantially get negative tweets.\n",
    "* The majority airlines having negative tweets either neetral or positive tweets\n",
    "* Virgin America having the most balanced spread of positive, neutral and negative of all US airlines.\n",
    "\n"
   ]
  },
  {
   "cell_type": "markdown",
   "id": "excess-huntington",
   "metadata": {},
   "source": [
    "### Checking if there is any relationship between negative sentiments and date?\n",
    "the dataset has dates from 2015/02/17  to  2015/02/24.\n",
    "\n",
    "interesting to see if the date has any impact on sentiments of customers tweets here the focus will be on the negative ones eventually we can be able to draw various conclusions by visualizing this"
   ]
  },
  {
   "cell_type": "code",
   "execution_count": 34,
   "id": "jewish-mailing",
   "metadata": {},
   "outputs": [
    {
     "data": {
      "text/plain": [
       "tweet_created  airline         airline_sentiment\n",
       "2015-02-16     Delta           negative               1\n",
       "                               neutral                1\n",
       "               United          negative               2\n",
       "2015-02-17     Delta           negative             108\n",
       "                               neutral               86\n",
       "                               positive              69\n",
       "               Southwest       negative             213\n",
       "                               neutral               85\n",
       "                               positive              86\n",
       "               US Airways      negative             233\n",
       "                               neutral               30\n",
       "                               positive              48\n",
       "               United          negative             272\n",
       "                               neutral               75\n",
       "                               positive              49\n",
       "               Virgin America  negative              12\n",
       "                               neutral               21\n",
       "                               positive              21\n",
       "2015-02-18     American        negative               1\n",
       "               Delta           negative             105\n",
       "dtype: int64"
      ]
     },
     "execution_count": 34,
     "metadata": {},
     "output_type": "execute_result"
    }
   ],
   "source": [
    "date = tweet.reset_index()\n",
    "# Converting the date column to pandas datetime.\n",
    "date.tweet_created = pd.to_datetime(date.tweet_created)\n",
    "# Replacing the dates in the data column to only the date and no time stamp using the 'dt,date' method\n",
    "date.tweet_created = date.tweet_created.dt.date\n",
    "date.tweet_created.head()\n",
    "df = date\n",
    "day_df = df.groupby(['tweet_created','airline','airline_sentiment']).size()\n",
    "day_df.head(20)"
   ]
  },
  {
   "cell_type": "code",
   "execution_count": 35,
   "id": "mineral-notion",
   "metadata": {},
   "outputs": [
    {
     "data": {
      "text/plain": [
       "<function matplotlib.pyplot.show(close=None, block=None)>"
      ]
     },
     "execution_count": 35,
     "metadata": {},
     "output_type": "execute_result"
    },
    {
     "data": {
      "image/png": "[encoded data removed]",
      "text/plain": [
       "<Figure size 1080x432 with 1 Axes>"
      ]
     },
     "metadata": {
      "needs_background": "light"
     },
     "output_type": "display_data"
    }
   ],
   "source": [
    "# The following lines of codes to plot customers sentiments based on dates.\n",
    "day_df = day_df.loc(axis=0)[:,:,'negative']\n",
    "#Groupby & plot sentiments based on dates.\n",
    "ax2 = day_df.groupby(['tweet_created','airline']).sum().unstack().plot(kind = 'bar', color=['pink', 'red', 'blue','silver','purple','orange'], figsize = (15,6), rot = 70)\n",
    "labels = ['American','Delta','Southwest','US Airways','United','Virgin America']\n",
    "ax2.legend(labels = labels)\n",
    "ax2.set_xlabel('Date')\n",
    "ax2.set_ylabel('Negative Tweets')\n",
    "plt.show"
   ]
  },
  {
   "cell_type": "markdown",
   "id": "sacred-cassette",
   "metadata": {},
   "source": [
    "# Observation.\n",
    "* Interestingly, American has a sudden upsurge in negative sentimental tweets on 2015-02-23, which reduced to half the very next day 2015-02-24. (I hope American is doing better these days and resolved their Customer Service Issue as we saw before)\n",
    "* Virgin America has the least number of negative tweets throughout the weekly data that we have. It should be noted that the total number of tweets for Virgin America was also significantly less as compared to the rest airlines, and hence the least negative tweets.\n",
    "* The negative tweets for all the rest airlines is slightly skewed towards the end of the week !"
   ]
  },
  {
   "cell_type": "markdown",
   "id": "worst-calgary",
   "metadata": {},
   "source": [
    "# Preprocessing."
   ]
  },
  {
   "cell_type": "code",
   "execution_count": 3,
   "id": "center-blame",
   "metadata": {},
   "outputs": [],
   "source": [
    "import contractions\n",
    "import re, string, unicodedata\n",
    "from bs4 import BeautifulSoup                 # Beautiful soup is a parsing library that can use different parsers.\n",
    "from nltk import word_tokenize, sent_tokenize\n",
    "from nltk.corpus import stopwords, wordnet    # Stopwords, and wordnet corpus\n",
    "from nltk.stem import LancasterStemmer, WordNetLemmatizer"
   ]
  },
  {
   "cell_type": "markdown",
   "id": "rental-jamaica",
   "metadata": {},
   "source": [
    "# <a id='link5'> Text pre-processing: Data preparation.</a>"
   ]
  },
  {
   "cell_type": "markdown",
   "id": "informal-olympus",
   "metadata": {},
   "source": [
    "## Droping DataSet Columns."
   ]
  },
  {
   "cell_type": "code",
   "execution_count": 4,
   "id": "english-laugh",
   "metadata": {},
   "outputs": [],
   "source": [
    "# Here we are going to deal with text data, so we seperate out the text column in a new dataframe: data\n",
    "tweets = tweet.drop(['tweet_id','airline_sentiment_confidence',\n",
    "       'negativereason','negativereason_confidence','airline',\n",
    "       'airline_sentiment_gold','name','negativereason_gold',\n",
    "       'retweet_count','tweet_coord','tweet_created',\n",
    "       'tweet_location','user_timezone'], axis=1)"
   ]
  },
  {
   "cell_type": "code",
   "execution_count": 5,
   "id": "according-defensive",
   "metadata": {},
   "outputs": [],
   "source": [
    "#List of all special characters that are to be removed.\n",
    "special_chars = [\"!\",'\"',\"%\",\"&\",\"amp\",\"'\",\"(\",\")\", \"*\",\"+\",\",\",\"-\",\".\",\n",
    "                 \"/\",\":\",\";\",\"<\",\"=\",\">\",\"?\",\"[\",\"\\\\\",\"]\",\"^\",\"_\",\n",
    "                 \"`\",\"{\",\"|\",\"}\",\"~\",\"–\",\"@\",\"#\",\"$\"]"
   ]
  },
  {
   "cell_type": "code",
   "execution_count": 6,
   "id": "novel-preliminary",
   "metadata": {},
   "outputs": [],
   "source": [
    "for c in special_chars:\n",
    "    tweets['text'] = tweets['text'].str.replace(c,'') # Removing all special characters from all the tweets"
   ]
  },
  {
   "cell_type": "code",
   "execution_count": 7,
   "id": "stylish-given",
   "metadata": {},
   "outputs": [
    {
     "data": {
      "text/plain": [
       "(14640, 2)"
      ]
     },
     "execution_count": 7,
     "metadata": {},
     "output_type": "execute_result"
    }
   ],
   "source": [
    "tweets.shape"
   ]
  },
  {
   "cell_type": "code",
   "execution_count": 8,
   "id": "knowing-giving",
   "metadata": {},
   "outputs": [],
   "source": [
    "# Will use only airline_sentiment & 'text' columns from the dataset, as these are useful for analysis.\n",
    "tweets = tweets.loc[:14640, ['airline_sentiment', 'text']]"
   ]
  },
  {
   "cell_type": "code",
   "execution_count": 9,
   "id": "patent-affiliate",
   "metadata": {},
   "outputs": [
    {
     "data": {
      "text/plain": [
       "airline_sentiment    0\n",
       "text                 0\n",
       "dtype: int64"
      ]
     },
     "execution_count": 9,
     "metadata": {},
     "output_type": "execute_result"
    }
   ],
   "source": [
    "tweets.isnull().sum(axis=0)   "
   ]
  },
  {
   "cell_type": "code",
   "execution_count": 10,
   "id": "conditional-mathematics",
   "metadata": {},
   "outputs": [
    {
     "data": {
      "text/html": [
       "<div>\n",
       "<style scoped>\n",
       "    .dataframe tbody tr th:only-of-type {\n",
       "        vertical-align: middle;\n",
       "    }\n",
       "\n",
       "    .dataframe tbody tr th {\n",
       "        vertical-align: top;\n",
       "    }\n",
       "\n",
       "    .dataframe thead th {\n",
       "        text-align: right;\n",
       "    }\n",
       "</style>\n",
       "<table border=\"1\" class=\"dataframe\">\n",
       "  <thead>\n",
       "    <tr style=\"text-align: right;\">\n",
       "      <th></th>\n",
       "      <th>airline_sentiment</th>\n",
       "      <th>text</th>\n",
       "    </tr>\n",
       "  </thead>\n",
       "  <tbody>\n",
       "    <tr>\n",
       "      <th>0</th>\n",
       "      <td>neutral</td>\n",
       "      <td>VirginAmerica What dhepburn said</td>\n",
       "    </tr>\n",
       "    <tr>\n",
       "      <th>1</th>\n",
       "      <td>positive</td>\n",
       "      <td>VirginAmerica plus youve added commercials to the experience tacky</td>\n",
       "    </tr>\n",
       "    <tr>\n",
       "      <th>2</th>\n",
       "      <td>neutral</td>\n",
       "      <td>VirginAmerica I didnt today Must mean I need to take another trip</td>\n",
       "    </tr>\n",
       "    <tr>\n",
       "      <th>3</th>\n",
       "      <td>negative</td>\n",
       "      <td>VirginAmerica its really aggressive to blast obnoxious entertainment in your guests faces  they have little recourse</td>\n",
       "    </tr>\n",
       "    <tr>\n",
       "      <th>4</th>\n",
       "      <td>negative</td>\n",
       "      <td>VirginAmerica and its a really big bad thing about it</td>\n",
       "    </tr>\n",
       "  </tbody>\n",
       "</table>\n",
       "</div>"
      ],
      "text/plain": [
       "  airline_sentiment  \\\n",
       "0           neutral   \n",
       "1          positive   \n",
       "2           neutral   \n",
       "3          negative   \n",
       "4          negative   \n",
       "\n",
       "                                                                                                                   text  \n",
       "0                                                                                      VirginAmerica What dhepburn said  \n",
       "1                                                    VirginAmerica plus youve added commercials to the experience tacky  \n",
       "2                                                     VirginAmerica I didnt today Must mean I need to take another trip  \n",
       "3  VirginAmerica its really aggressive to blast obnoxious entertainment in your guests faces  they have little recourse  \n",
       "4                                                                 VirginAmerica and its a really big bad thing about it  "
      ]
     },
     "execution_count": 10,
     "metadata": {},
     "output_type": "execute_result"
    }
   ],
   "source": [
    "pd.set_option('display.max_colwidth', None) #Display full dataframe information (Non.turrncated text column.)\n",
    "tweets.head() # Print first 5 rows of the dataset."
   ]
  },
  {
   "cell_type": "code",
   "execution_count": 11,
   "id": "clinical-society",
   "metadata": {},
   "outputs": [
    {
     "data": {
      "text/plain": [
       "(14640, 2)"
      ]
     },
     "execution_count": 11,
     "metadata": {},
     "output_type": "execute_result"
    }
   ],
   "source": [
    "tweets.shape "
   ]
  },
  {
   "cell_type": "markdown",
   "id": "tropical-migration",
   "metadata": {},
   "source": [
    "# <a id='link6'>HTML tag removal.</a>"
   ]
  },
  {
   "cell_type": "code",
   "execution_count": 12,
   "id": "royal-throw",
   "metadata": {},
   "outputs": [
    {
     "data": {
      "text/html": [
       "<div>\n",
       "<style scoped>\n",
       "    .dataframe tbody tr th:only-of-type {\n",
       "        vertical-align: middle;\n",
       "    }\n",
       "\n",
       "    .dataframe tbody tr th {\n",
       "        vertical-align: top;\n",
       "    }\n",
       "\n",
       "    .dataframe thead th {\n",
       "        text-align: right;\n",
       "    }\n",
       "</style>\n",
       "<table border=\"1\" class=\"dataframe\">\n",
       "  <thead>\n",
       "    <tr style=\"text-align: right;\">\n",
       "      <th></th>\n",
       "      <th>airline_sentiment</th>\n",
       "      <th>text</th>\n",
       "    </tr>\n",
       "  </thead>\n",
       "  <tbody>\n",
       "    <tr>\n",
       "      <th>0</th>\n",
       "      <td>neutral</td>\n",
       "      <td>VirginAmerica What dhepburn said</td>\n",
       "    </tr>\n",
       "    <tr>\n",
       "      <th>1</th>\n",
       "      <td>positive</td>\n",
       "      <td>VirginAmerica plus youve added commercials to the experience tacky</td>\n",
       "    </tr>\n",
       "    <tr>\n",
       "      <th>2</th>\n",
       "      <td>neutral</td>\n",
       "      <td>VirginAmerica I didnt today Must mean I need to take another trip</td>\n",
       "    </tr>\n",
       "    <tr>\n",
       "      <th>3</th>\n",
       "      <td>negative</td>\n",
       "      <td>VirginAmerica its really aggressive to blast obnoxious entertainment in your guests faces  they have little recourse</td>\n",
       "    </tr>\n",
       "    <tr>\n",
       "      <th>4</th>\n",
       "      <td>negative</td>\n",
       "      <td>VirginAmerica and its a really big bad thing about it</td>\n",
       "    </tr>\n",
       "  </tbody>\n",
       "</table>\n",
       "</div>"
      ],
      "text/plain": [
       "  airline_sentiment  \\\n",
       "0           neutral   \n",
       "1          positive   \n",
       "2           neutral   \n",
       "3          negative   \n",
       "4          negative   \n",
       "\n",
       "                                                                                                                   text  \n",
       "0                                                                                      VirginAmerica What dhepburn said  \n",
       "1                                                    VirginAmerica plus youve added commercials to the experience tacky  \n",
       "2                                                     VirginAmerica I didnt today Must mean I need to take another trip  \n",
       "3  VirginAmerica its really aggressive to blast obnoxious entertainment in your guests faces  they have little recourse  \n",
       "4                                                                 VirginAmerica and its a really big bad thing about it  "
      ]
     },
     "execution_count": 12,
     "metadata": {},
     "output_type": "execute_result"
    }
   ],
   "source": [
    "def strip_html(text):\n",
    "    soup = BeautifulSoup(text, 'html.parser')\n",
    "    return soup.get_text()\n",
    "tweets['text'] = tweets['text'].apply(lambda x: strip_html(x))\n",
    "tweets.head()"
   ]
  },
  {
   "cell_type": "markdown",
   "id": "elect-newspaper",
   "metadata": {},
   "source": [
    "# Replace Contractions."
   ]
  },
  {
   "cell_type": "code",
   "execution_count": 13,
   "id": "cultural-contractor",
   "metadata": {},
   "outputs": [
    {
     "data": {
      "text/html": [
       "<div>\n",
       "<style scoped>\n",
       "    .dataframe tbody tr th:only-of-type {\n",
       "        vertical-align: middle;\n",
       "    }\n",
       "\n",
       "    .dataframe tbody tr th {\n",
       "        vertical-align: top;\n",
       "    }\n",
       "\n",
       "    .dataframe thead th {\n",
       "        text-align: right;\n",
       "    }\n",
       "</style>\n",
       "<table border=\"1\" class=\"dataframe\">\n",
       "  <thead>\n",
       "    <tr style=\"text-align: right;\">\n",
       "      <th></th>\n",
       "      <th>airline_sentiment</th>\n",
       "      <th>text</th>\n",
       "    </tr>\n",
       "  </thead>\n",
       "  <tbody>\n",
       "    <tr>\n",
       "      <th>0</th>\n",
       "      <td>neutral</td>\n",
       "      <td>VirginAmerica What dhepburn said</td>\n",
       "    </tr>\n",
       "    <tr>\n",
       "      <th>1</th>\n",
       "      <td>positive</td>\n",
       "      <td>VirginAmerica plus you have added commercials to the experience tacky</td>\n",
       "    </tr>\n",
       "    <tr>\n",
       "      <th>2</th>\n",
       "      <td>neutral</td>\n",
       "      <td>VirginAmerica I did not today Must mean I need to take another trip</td>\n",
       "    </tr>\n",
       "    <tr>\n",
       "      <th>3</th>\n",
       "      <td>negative</td>\n",
       "      <td>VirginAmerica its really aggressive to blast obnoxious entertainment in your guests faces  they have little recourse</td>\n",
       "    </tr>\n",
       "    <tr>\n",
       "      <th>4</th>\n",
       "      <td>negative</td>\n",
       "      <td>VirginAmerica and its a really big bad thing about it</td>\n",
       "    </tr>\n",
       "  </tbody>\n",
       "</table>\n",
       "</div>"
      ],
      "text/plain": [
       "  airline_sentiment  \\\n",
       "0           neutral   \n",
       "1          positive   \n",
       "2           neutral   \n",
       "3          negative   \n",
       "4          negative   \n",
       "\n",
       "                                                                                                                   text  \n",
       "0                                                                                      VirginAmerica What dhepburn said  \n",
       "1                                                 VirginAmerica plus you have added commercials to the experience tacky  \n",
       "2                                                   VirginAmerica I did not today Must mean I need to take another trip  \n",
       "3  VirginAmerica its really aggressive to blast obnoxious entertainment in your guests faces  they have little recourse  \n",
       "4                                                                 VirginAmerica and its a really big bad thing about it  "
      ]
     },
     "execution_count": 13,
     "metadata": {},
     "output_type": "execute_result"
    }
   ],
   "source": [
    "def replace_contractions(text):\n",
    "    \"\"\"Replace contraction in string of text\"\"\"\n",
    "    return contractions.fix(text)\n",
    "\n",
    "tweets['text'] = tweets['text'].apply(lambda x: replace_contractions(x))\n",
    "tweets.head()"
   ]
  },
  {
   "cell_type": "markdown",
   "id": "durable-consideration",
   "metadata": {},
   "source": [
    "# <a id='link8'>Removing Numbers.</a>"
   ]
  },
  {
   "cell_type": "code",
   "execution_count": 14,
   "id": "monthly-consumption",
   "metadata": {},
   "outputs": [
    {
     "data": {
      "text/html": [
       "<div>\n",
       "<style scoped>\n",
       "    .dataframe tbody tr th:only-of-type {\n",
       "        vertical-align: middle;\n",
       "    }\n",
       "\n",
       "    .dataframe tbody tr th {\n",
       "        vertical-align: top;\n",
       "    }\n",
       "\n",
       "    .dataframe thead th {\n",
       "        text-align: right;\n",
       "    }\n",
       "</style>\n",
       "<table border=\"1\" class=\"dataframe\">\n",
       "  <thead>\n",
       "    <tr style=\"text-align: right;\">\n",
       "      <th></th>\n",
       "      <th>airline_sentiment</th>\n",
       "      <th>text</th>\n",
       "    </tr>\n",
       "  </thead>\n",
       "  <tbody>\n",
       "    <tr>\n",
       "      <th>0</th>\n",
       "      <td>neutral</td>\n",
       "      <td>VirginAmerica What dhepburn said</td>\n",
       "    </tr>\n",
       "    <tr>\n",
       "      <th>1</th>\n",
       "      <td>positive</td>\n",
       "      <td>VirginAmerica plus you have added commercials to the experience tacky</td>\n",
       "    </tr>\n",
       "    <tr>\n",
       "      <th>2</th>\n",
       "      <td>neutral</td>\n",
       "      <td>VirginAmerica I did not today Must mean I need to take another trip</td>\n",
       "    </tr>\n",
       "    <tr>\n",
       "      <th>3</th>\n",
       "      <td>negative</td>\n",
       "      <td>VirginAmerica its really aggressive to blast obnoxious entertainment in your guests faces  they have little recourse</td>\n",
       "    </tr>\n",
       "    <tr>\n",
       "      <th>4</th>\n",
       "      <td>negative</td>\n",
       "      <td>VirginAmerica and its a really big bad thing about it</td>\n",
       "    </tr>\n",
       "  </tbody>\n",
       "</table>\n",
       "</div>"
      ],
      "text/plain": [
       "  airline_sentiment  \\\n",
       "0           neutral   \n",
       "1          positive   \n",
       "2           neutral   \n",
       "3          negative   \n",
       "4          negative   \n",
       "\n",
       "                                                                                                                   text  \n",
       "0                                                                                      VirginAmerica What dhepburn said  \n",
       "1                                                 VirginAmerica plus you have added commercials to the experience tacky  \n",
       "2                                                   VirginAmerica I did not today Must mean I need to take another trip  \n",
       "3  VirginAmerica its really aggressive to blast obnoxious entertainment in your guests faces  they have little recourse  \n",
       "4                                                                 VirginAmerica and its a really big bad thing about it  "
      ]
     },
     "execution_count": 14,
     "metadata": {},
     "output_type": "execute_result"
    }
   ],
   "source": [
    "def remove_numbers(text):\n",
    "    text = re.sub(r'\\d', \"\", text)\n",
    "    return text\n",
    "\n",
    "tweets['text'] = tweets['text'].apply(lambda x: remove_numbers(x))\n",
    "tweets.head()"
   ]
  },
  {
   "cell_type": "markdown",
   "id": "environmental-electric",
   "metadata": {},
   "source": [
    "# <a id='link7'>Tokenization.</a>"
   ]
  },
  {
   "cell_type": "code",
   "execution_count": 15,
   "id": "domestic-hunter",
   "metadata": {},
   "outputs": [],
   "source": [
    "# Following lines of codes for Tokenization of dataset.\n",
    "tweets['text'] = tweets.apply(lambda row: nltk.word_tokenize(row['text']), axis=1)"
   ]
  },
  {
   "cell_type": "code",
   "execution_count": 16,
   "id": "wicked-municipality",
   "metadata": {},
   "outputs": [
    {
     "data": {
      "text/html": [
       "<div>\n",
       "<style scoped>\n",
       "    .dataframe tbody tr th:only-of-type {\n",
       "        vertical-align: middle;\n",
       "    }\n",
       "\n",
       "    .dataframe tbody tr th {\n",
       "        vertical-align: top;\n",
       "    }\n",
       "\n",
       "    .dataframe thead th {\n",
       "        text-align: right;\n",
       "    }\n",
       "</style>\n",
       "<table border=\"1\" class=\"dataframe\">\n",
       "  <thead>\n",
       "    <tr style=\"text-align: right;\">\n",
       "      <th></th>\n",
       "      <th>airline_sentiment</th>\n",
       "      <th>text</th>\n",
       "    </tr>\n",
       "  </thead>\n",
       "  <tbody>\n",
       "    <tr>\n",
       "      <th>0</th>\n",
       "      <td>neutral</td>\n",
       "      <td>[VirginAmerica, What, dhepburn, said]</td>\n",
       "    </tr>\n",
       "    <tr>\n",
       "      <th>1</th>\n",
       "      <td>positive</td>\n",
       "      <td>[VirginAmerica, plus, you, have, added, commercials, to, the, experience, tacky]</td>\n",
       "    </tr>\n",
       "    <tr>\n",
       "      <th>2</th>\n",
       "      <td>neutral</td>\n",
       "      <td>[VirginAmerica, I, did, not, today, Must, mean, I, need, to, take, another, trip]</td>\n",
       "    </tr>\n",
       "    <tr>\n",
       "      <th>3</th>\n",
       "      <td>negative</td>\n",
       "      <td>[VirginAmerica, its, really, aggressive, to, blast, obnoxious, entertainment, in, your, guests, faces, they, have, little, recourse]</td>\n",
       "    </tr>\n",
       "    <tr>\n",
       "      <th>4</th>\n",
       "      <td>negative</td>\n",
       "      <td>[VirginAmerica, and, its, a, really, big, bad, thing, about, it]</td>\n",
       "    </tr>\n",
       "  </tbody>\n",
       "</table>\n",
       "</div>"
      ],
      "text/plain": [
       "  airline_sentiment  \\\n",
       "0           neutral   \n",
       "1          positive   \n",
       "2           neutral   \n",
       "3          negative   \n",
       "4          negative   \n",
       "\n",
       "                                                                                                                                   text  \n",
       "0                                                                                                 [VirginAmerica, What, dhepburn, said]  \n",
       "1                                                      [VirginAmerica, plus, you, have, added, commercials, to, the, experience, tacky]  \n",
       "2                                                     [VirginAmerica, I, did, not, today, Must, mean, I, need, to, take, another, trip]  \n",
       "3  [VirginAmerica, its, really, aggressive, to, blast, obnoxious, entertainment, in, your, guests, faces, they, have, little, recourse]  \n",
       "4                                                                      [VirginAmerica, and, its, a, really, big, bad, thing, about, it]  "
      ]
     },
     "execution_count": 16,
     "metadata": {},
     "output_type": "execute_result"
    }
   ],
   "source": [
    "tweets.head() "
   ]
  },
  {
   "cell_type": "code",
   "execution_count": 17,
   "id": "studied-possible",
   "metadata": {},
   "outputs": [],
   "source": [
    "stopwords = stopwords.words('english')\n",
    "\n",
    "customlist = ['not', \"couldn't\", 'didn', \"didn't\", 'doesn', \"doesn't\", 'hadn', \"hadn't\", 'hasn',\n",
    "        \"hasn't\", 'haven', \"haven't\", 'isn', \"isn't\", 'ma', 'mightn', \"mightn't\", 'mustn',\n",
    "        \"mustn't\", 'needn', \"needn't\", 'shan', \"shan't\", 'shouldn', \"shouldn't\", 'wasn',\n",
    "        \"wasn't\", 'weren', \"weren't\", 'won', \"won't\", 'wouldn', \"wouldn't\"]\n",
    "\n",
    "# Set custom stop-word's list as not, couldn't etc. words matter in Sentiment, so not removing them from original data.\n",
    "\n",
    "stopwords = list(set(stopwords) - set(customlist))      "
   ]
  },
  {
   "cell_type": "markdown",
   "id": "three-study",
   "metadata": {},
   "source": [
    "# <a id='link11'>Lemmatization.</a>\n",
    "Lemmatization on the surface is very similar to stemming, where the goal is to remove inflections and map a word to its root form.\n",
    "The only difference is that, lemmatization tries to do it the proper way.\n",
    "It doesn’t just chop things off, it actually transforms words to the actual root. For example, the word “better” would map to “good”."
   ]
  },
  {
   "cell_type": "markdown",
   "id": "rubber-satellite",
   "metadata": {},
   "source": [
    "# <a id='link9'>Removing All Special Characters.</a>"
   ]
  },
  {
   "cell_type": "code",
   "execution_count": 18,
   "id": "attractive-touch",
   "metadata": {},
   "outputs": [],
   "source": [
    "lemmatizer = WordNetLemmatizer()\n",
    "\n",
    "def remove_non_ascii(words):\n",
    "    \"\"\"Remove non-ASCII characters from list of tokenized words\"\"\"\n",
    "    new_words = []\n",
    "    for word in words:\n",
    "        new_word = unicodedata.normalize('NFKD', word).encode('ascii', 'ignore').decode('utf-8', 'ignore')\n",
    "        new_words.append(new_word)\n",
    "    return new_words\n"
   ]
  },
  {
   "cell_type": "markdown",
   "id": "verified-chest",
   "metadata": {},
   "source": [
    "# <a id='link10'>Convertion to Lowercasing.</a>\n",
    "* Lowercasing all text data. is one of the simplest and most effiective form of text preprocessing it is applicable to most text mining and NLP problems.\n"
   ]
  },
  {
   "cell_type": "code",
   "execution_count": 19,
   "id": "chronic-colon",
   "metadata": {},
   "outputs": [],
   "source": [
    "def to_lowercase(words):\n",
    "    \"\"\"Convert all characters to lowercase from list of tokenized words\"\"\"\n",
    "    new_words = []\n",
    "    for word in words:\n",
    "        new_word = word.lower()\n",
    "        new_words.append(new_word)\n",
    "    return new_words"
   ]
  },
  {
   "cell_type": "markdown",
   "id": "expressed-calvin",
   "metadata": {},
   "source": [
    "# <a id='link9'>Removing Punctuation.</a>"
   ]
  },
  {
   "cell_type": "code",
   "execution_count": 20,
   "id": "center-level",
   "metadata": {},
   "outputs": [],
   "source": [
    "def remove_punctuation(words):\n",
    "    \"\"\"Remove punctuation from list of tokenized words\"\"\"\n",
    "    new_words = []\n",
    "    for word in words:\n",
    "        new_word = re.sub(r'[^\\w\\s]', \"\", word)\n",
    "        if new_word != \"\":\n",
    "            new_words.append(new_word)\n",
    "    return new_words"
   ]
  },
  {
   "cell_type": "markdown",
   "id": "organized-rouge",
   "metadata": {},
   "source": [
    "# Stopword Removal.\n",
    "Stop words are a set of commonly used words in a language.\n",
    "Examples of stop words in English are “a”, “the”, “is”, “are” and etc. The intuition behind using stop words is that, by removing low information words from text, we can focus on the important words instead."
   ]
  },
  {
   "cell_type": "code",
   "execution_count": 21,
   "id": "regional-arcade",
   "metadata": {},
   "outputs": [],
   "source": [
    "def remove_stopwords(words):\n",
    "    \"\"\"Remove stop words from list of tokenized words\"\"\"\n",
    "    new_words = []\n",
    "    for word in words:\n",
    "        if word not in stopwords:\n",
    "            new_words.append(word)\n",
    "    return new_words"
   ]
  },
  {
   "cell_type": "markdown",
   "id": "institutional-christopher",
   "metadata": {},
   "source": [
    "# Lemmatize List."
   ]
  },
  {
   "cell_type": "code",
   "execution_count": 22,
   "id": "internal-allen",
   "metadata": {},
   "outputs": [],
   "source": [
    "def lemmatize_list(words):\n",
    "    new_words = []\n",
    "    for word in words:\n",
    "        new_words.append(lemmatizer.lemmatize(word, pos='v'))\n",
    "    return new_words"
   ]
  },
  {
   "cell_type": "markdown",
   "id": "controlled-longer",
   "metadata": {},
   "source": [
    "# Normalize & Joining Words."
   ]
  },
  {
   "cell_type": "code",
   "execution_count": 23,
   "id": "composed-compact",
   "metadata": {},
   "outputs": [],
   "source": [
    "def normalize(words):\n",
    "    words = remove_non_ascii(words)\n",
    "    words = to_lowercase(words)\n",
    "    words = remove_punctuation(words)\n",
    "    words = remove_stopwords(words)\n",
    "    words = lemmatize_list(words)\n",
    "    return ' '.join(words)"
   ]
  },
  {
   "cell_type": "markdown",
   "id": "instructional-demand",
   "metadata": {},
   "source": [
    "# Bellow will execute the above functions:\n",
    "\n",
    "### will define a new function normalize, which processes all the steps together."
   ]
  },
  {
   "cell_type": "code",
   "execution_count": 24,
   "id": "technological-heavy",
   "metadata": {},
   "outputs": [
    {
     "data": {
      "text/html": [
       "<div>\n",
       "<style scoped>\n",
       "    .dataframe tbody tr th:only-of-type {\n",
       "        vertical-align: middle;\n",
       "    }\n",
       "\n",
       "    .dataframe tbody tr th {\n",
       "        vertical-align: top;\n",
       "    }\n",
       "\n",
       "    .dataframe thead th {\n",
       "        text-align: right;\n",
       "    }\n",
       "</style>\n",
       "<table border=\"1\" class=\"dataframe\">\n",
       "  <thead>\n",
       "    <tr style=\"text-align: right;\">\n",
       "      <th></th>\n",
       "      <th>airline_sentiment</th>\n",
       "      <th>text</th>\n",
       "    </tr>\n",
       "  </thead>\n",
       "  <tbody>\n",
       "    <tr>\n",
       "      <th>0</th>\n",
       "      <td>neutral</td>\n",
       "      <td>virginamerica dhepburn say</td>\n",
       "    </tr>\n",
       "    <tr>\n",
       "      <th>1</th>\n",
       "      <td>positive</td>\n",
       "      <td>virginamerica plus add commercials experience tacky</td>\n",
       "    </tr>\n",
       "    <tr>\n",
       "      <th>2</th>\n",
       "      <td>neutral</td>\n",
       "      <td>virginamerica not today must mean need take another trip</td>\n",
       "    </tr>\n",
       "    <tr>\n",
       "      <th>3</th>\n",
       "      <td>negative</td>\n",
       "      <td>virginamerica really aggressive blast obnoxious entertainment guests face little recourse</td>\n",
       "    </tr>\n",
       "    <tr>\n",
       "      <th>4</th>\n",
       "      <td>negative</td>\n",
       "      <td>virginamerica really big bad thing</td>\n",
       "    </tr>\n",
       "  </tbody>\n",
       "</table>\n",
       "</div>"
      ],
      "text/plain": [
       "  airline_sentiment  \\\n",
       "0           neutral   \n",
       "1          positive   \n",
       "2           neutral   \n",
       "3          negative   \n",
       "4          negative   \n",
       "\n",
       "                                                                                        text  \n",
       "0                                                                 virginamerica dhepburn say  \n",
       "1                                        virginamerica plus add commercials experience tacky  \n",
       "2                                   virginamerica not today must mean need take another trip  \n",
       "3  virginamerica really aggressive blast obnoxious entertainment guests face little recourse  \n",
       "4                                                         virginamerica really big bad thing  "
      ]
     },
     "execution_count": 24,
     "metadata": {},
     "output_type": "execute_result"
    }
   ],
   "source": [
    "tweets['text'] = tweets.apply(lambda row: normalize(row['text']), axis=1)\n",
    "tweets.head()"
   ]
  },
  {
   "cell_type": "markdown",
   "id": "front-strip",
   "metadata": {},
   "source": [
    "# <a id='link12'>CountVectorizer.</a>"
   ]
  },
  {
   "cell_type": "markdown",
   "id": "trained-citizen",
   "metadata": {},
   "source": [
    "CountVectorizer converts a collection of text documents to a matrix of token counts, the occurrences of tokens in each document. This implementation produces a sparse a sparse representation of counts."
   ]
  },
  {
   "cell_type": "code",
   "execution_count": 25,
   "id": "unlikely-chapter",
   "metadata": {},
   "outputs": [],
   "source": [
    "# The following lines of codes for vectorization (Convert of text data to numbers).\n",
    "from sklearn.feature_extraction.text import CountVectorizer\n",
    "\n",
    "vectorizer = CountVectorizer(max_features=1000) # Keep only 1000 features as number of features will increase the processing time.\n",
    "data_features = vectorizer.fit_transform(tweets['text'])\n",
    "\n",
    "data_features = data_features.toarray()"
   ]
  },
  {
   "cell_type": "code",
   "execution_count": 26,
   "id": "caroline-present",
   "metadata": {},
   "outputs": [
    {
     "data": {
      "text/plain": [
       "(14640, 1000)"
      ]
     },
     "execution_count": 26,
     "metadata": {},
     "output_type": "execute_result"
    }
   ],
   "source": [
    "data_features.shape"
   ]
  },
  {
   "cell_type": "markdown",
   "id": "unlimited-admission",
   "metadata": {},
   "source": [
    "# Labeling."
   ]
  },
  {
   "cell_type": "code",
   "execution_count": 27,
   "id": "champion-delhi",
   "metadata": {},
   "outputs": [],
   "source": [
    "labels = tweets['airline_sentiment']\n",
    "labels = labels.astype('str')"
   ]
  },
  {
   "cell_type": "markdown",
   "id": "pleasant-seattle",
   "metadata": {},
   "source": [
    "# Data Spliting into train & test."
   ]
  },
  {
   "cell_type": "code",
   "execution_count": 28,
   "id": "narrative-gasoline",
   "metadata": {},
   "outputs": [],
   "source": [
    "# Following lines of codes to split data into train & test.\n",
    "from sklearn.model_selection import train_test_split\n",
    "x_train, x_test, y_train, y_test = train_test_split(data_features, labels, test_size=0.3, random_state=42)"
   ]
  },
  {
   "cell_type": "markdown",
   "id": "committed-teaching",
   "metadata": {},
   "source": [
    "# <a id='link14'>Building The Model.</a>"
   ]
  },
  {
   "cell_type": "code",
   "execution_count": 29,
   "id": "amateur-brunei",
   "metadata": {
    "scrolled": true
   },
   "outputs": [
    {
     "name": "stdout",
     "output_type": "stream",
     "text": [
      "RandomForestClassifier(n_estimators=10, n_jobs=4)\n",
      "0.7102459016393443\n"
     ]
    }
   ],
   "source": [
    "# Following line of codes using Random Forest to build model for the classification,\n",
    "#of tweets reviews, also calculating the CV score.\n",
    "\n",
    "from sklearn.ensemble import RandomForestClassifier\n",
    "from sklearn.model_selection import cross_val_score\n",
    "# Using Random forest to build model for the classification. \n",
    "rforest = RandomForestClassifier(n_estimators=10, n_jobs=4)\n",
    "#Fitting the model\n",
    "rforest = rforest.fit(x_train, y_train)\n",
    "\n",
    "print(rforest)\n",
    "\n",
    "print(np.mean(cross_val_score(rforest, data_features, labels, cv=10)))\n"
   ]
  },
  {
   "cell_type": "code",
   "execution_count": 30,
   "id": "least-reporter",
   "metadata": {},
   "outputs": [],
   "source": [
    "# folloing line of codes predict the result for test data using the model built above.\n",
    "\n",
    "result = rforest.predict(x_test)"
   ]
  },
  {
   "cell_type": "markdown",
   "id": "institutional-origin",
   "metadata": {},
   "source": [
    "# Print & Plot Confusion Matrix."
   ]
  },
  {
   "cell_type": "code",
   "execution_count": 42,
   "id": "ranging-extreme",
   "metadata": {},
   "outputs": [
    {
     "name": "stdout",
     "output_type": "stream",
     "text": [
      "[[2483  255   76]\n",
      " [ 373  433   78]\n",
      " [ 174  116  404]]\n"
     ]
    },
    {
     "data": {
      "text/plain": [
       "<AxesSubplot:>"
      ]
     },
     "execution_count": 42,
     "metadata": {},
     "output_type": "execute_result"
    },
    {
     "data": {
      "image/png": "[encoded data removed]",
      "text/plain": [
       "<Figure size 576x432 with 2 Axes>"
      ]
     },
     "metadata": {
      "needs_background": "light"
     },
     "output_type": "display_data"
    }
   ],
   "source": [
    "# following lines of codes to print and plot Confusion matirx to get an idea of how the\n",
    "# distribution of the prediction is, among all the classes.\n",
    "\n",
    "conf_mat = confusion_matrix(y_test, result)\n",
    "\n",
    "print(conf_mat)\n",
    "\n",
    "df_cm = pd.DataFrame(conf_mat, index= ['positive','neutral','negative'],\n",
    "                    columns= ['positive','neutral','negative'])\n",
    "plt.figure(figsize= (8,6))\n",
    "sns.heatmap(df_cm, annot=True, linewidths=.5, fmt= 'd', center = 1)"
   ]
  },
  {
   "cell_type": "code",
   "execution_count": 43,
   "id": "alike-pocket",
   "metadata": {},
   "outputs": [
    {
     "name": "stdout",
     "output_type": "stream",
     "text": [
      "======== Classification Matrix ========\n",
      "[[62  0  0 ...  0  0  0]\n",
      " [ 0 28  0 ...  0  0  0]\n",
      " [ 0  0  5 ...  0  0  0]\n",
      " ...\n",
      " [ 0  0  0 ...  4  0  0]\n",
      " [ 0  0  0 ...  0  1  0]\n",
      " [ 0  0  0 ...  0  0  1]]\n"
     ]
    }
   ],
   "source": [
    "print('======== Classification Matrix ========')\n",
    "print(confusion_matrix(x_test.argmax(axis=1), x_test.argmax(axis=1)))"
   ]
  },
  {
   "cell_type": "markdown",
   "id": "hybrid-regression",
   "metadata": {},
   "source": [
    "# <a id='link13'>TfidfVectorizer.</a>"
   ]
  },
  {
   "cell_type": "code",
   "execution_count": 44,
   "id": "combined-pressing",
   "metadata": {},
   "outputs": [
    {
     "data": {
      "text/plain": [
       "(14640, 1000)"
      ]
     },
     "execution_count": 44,
     "metadata": {},
     "output_type": "execute_result"
    }
   ],
   "source": [
    "# Folloing line of codes using TfidfVectorizer to convert test data to numbers.\n",
    "\n",
    "from sklearn.feature_extraction.text import TfidfVectorizer\n",
    "\n",
    "vectorizer = TfidfVectorizer(max_features=1000)\n",
    "data_features = vectorizer.fit_transform(tweets['text'])\n",
    "\n",
    "data_features = data_features.toarray()\n",
    "\n",
    "data_features.shape"
   ]
  },
  {
   "cell_type": "markdown",
   "id": "mighty-variation",
   "metadata": {},
   "source": [
    "# Using Random Forest To Build Model."
   ]
  },
  {
   "cell_type": "code",
   "execution_count": 45,
   "id": "twenty-modern",
   "metadata": {},
   "outputs": [
    {
     "name": "stdout",
     "output_type": "stream",
     "text": [
      "RandomForestClassifier(n_estimators=10, n_jobs=4)\n",
      "0.7117486338797815\n"
     ]
    }
   ],
   "source": [
    "# following lines of codes to print and plot Classification of reviews,\n",
    "#and to calculate the CV score.\n",
    "\n",
    "from sklearn.ensemble import RandomForestClassifier\n",
    "from sklearn.model_selection import cross_val_score\n",
    "# Using Random forest to build model for the classification. \n",
    "rforest = RandomForestClassifier(n_estimators=10, n_jobs=4)\n",
    "# Fitting The model.\n",
    "rforest = rforest.fit(x_train, y_train)\n",
    "\n",
    "print(rforest)\n",
    "\n",
    "print(np.mean(cross_val_score(rforest, data_features, labels, cv=10)))"
   ]
  },
  {
   "cell_type": "code",
   "execution_count": 46,
   "id": "provincial-thriller",
   "metadata": {},
   "outputs": [],
   "source": [
    "result = rforest.predict(x_test)"
   ]
  },
  {
   "cell_type": "code",
   "execution_count": 47,
   "id": "contrary-whole",
   "metadata": {},
   "outputs": [
    {
     "data": {
      "text/plain": [
       "<AxesSubplot:>"
      ]
     },
     "execution_count": 47,
     "metadata": {},
     "output_type": "execute_result"
    },
    {
     "data": {
      "image/png": "[encoded data removed]",
      "text/plain": [
       "<Figure size 576x432 with 2 Axes>"
      ]
     },
     "metadata": {
      "needs_background": "light"
     },
     "output_type": "display_data"
    }
   ],
   "source": [
    "# Following lines of code to plot the confusion mat.\n",
    "\n",
    "conf_mat = confusion_matrix(y_test, result)\n",
    "\n",
    "df_cm = pd.DataFrame(conf_mat, index= ['positive','neutral','negative'],\n",
    "                    columns= ['positive','neutral','negative'])\n",
    "plt.figure(figsize= (8,6))\n",
    "sns.heatmap(df_cm, annot=True, linewidths=.5, fmt= 'd', center = 1)"
   ]
  },
  {
   "cell_type": "markdown",
   "id": "crucial-elizabeth",
   "metadata": {},
   "source": [
    "# SentimentIntensityAnalyzer."
   ]
  },
  {
   "cell_type": "markdown",
   "id": "empirical-powder",
   "metadata": {},
   "source": [
    "In beloow we use TexBlob for that has a the sentiment function from the TextBlob library help to give the polarity range between -1 to 0 it indicates negative sentiment, and 0 to 1 is indicated to a positive sentiment if you get polarity close to 1 it indicates highly positive sentiment"
   ]
  },
  {
   "cell_type": "code",
   "execution_count": 73,
   "id": "alert-involvement",
   "metadata": {},
   "outputs": [
    {
     "name": "stdout",
     "output_type": "stream",
     "text": [
      "Sentiment(polarity=0.0062500000000000056, subjectivity=0.35)\n"
     ]
    }
   ],
   "source": [
    "from textblob import TextBlob\n",
    "text=TextBlob('virginamerica really aggressive blast obnoxious entertainment guests face little recourse.')\n",
    "print(text.sentiment)"
   ]
  },
  {
   "cell_type": "code",
   "execution_count": 75,
   "id": "extra-anthropology",
   "metadata": {
    "scrolled": true
   },
   "outputs": [
    {
     "name": "stdout",
     "output_type": "stream",
     "text": [
      "{'neg': 0.345, 'neu': 0.468, 'pos': 0.187, 'compound': -0.3306}\n"
     ]
    }
   ],
   "source": [
    "from vaderSentiment.vaderSentiment import SentimentIntensityAnalyzer\n",
    "text=SentimentIntensityAnalyzer()\n",
    "score=text.polarity_scores(\"virginamerica really aggressive blast obnoxious entertainment guests face little recourse.\")\n",
    "print(score)"
   ]
  },
  {
   "cell_type": "markdown",
   "id": "funky-closer",
   "metadata": {},
   "source": [
    "# <a id='link15'>Conclusion.</a>"
   ]
  },
  {
   "cell_type": "markdown",
   "id": "willing-senegal",
   "metadata": {},
   "source": [
    "The most important reason for the bad flight is due to customer service not so good for the companies..Hence US airline, United, and American airlines have received the highest proportion of negative feedback. in spite, Virgin America did not get tweeted about much among most airlines, note to mention poor customer service has been complained about, except Delta airline, where delayed flights are the leading cause of negative feedback .words like (Thanks-best-customer-love-flying-good), are understandably present in the most frequent words of positive tweets. However other than these, most of the words are stop words and need to be filtered.\n",
    "\n",
    "* We used a dataset that has reviews in text format and their sentiment score on a scale of 1 to 5.\n",
    "* The goal was to build a model for text-classification.\n",
    "* We pre-processed the data using various techniques & Algorithms.\n",
    "* The pre-processed phase is to prepare the data and convert it to numbers, so we will be able to input the data into the model.\n",
    "* After building the classification model, will predict the result for test data.\n",
    "* After using the all above-mentioned techniques, our model performed very well with a score of 70% in the perspective of how the text classification models perform.\n",
    "* We can tune to improve the accuracy of the model. another way to increase accuracy is to use different variations of Pre-processing techniques.\n",
    "\n",
    "**Learning Objectives**\n",
    "In this case study we've learn how the Text pre-processing: Data preparation.\n",
    "\n",
    "* Html tag removal. \n",
    "* Tokenization. \n",
    "* Remove the numbers. \n",
    "* Removal of Special Characters and Punctuations. \n",
    "* Conversion to lowercase. \n",
    "* Lemmatize or stemming.\n",
    "* Join the words in the list to convert back to text string in the dataframe. \n",
    "* Print first 5 rows of data after pre-processing.\n",
    "* CountVectorizer. \n",
    "* Use TfidfVectorizer.\n",
    "* Using Random Forest to build a classification model."
   ]
  },
  {
   "cell_type": "markdown",
   "id": "hybrid-techno",
   "metadata": {},
   "source": [
    "# <a id='link16'>References & GitHub Link.</a>"
   ]
  },
  {
   "cell_type": "markdown",
   "id": "fatal-superior",
   "metadata": {},
   "source": [
    "* https://kavita-ganesan.com/tfidftransformer-tfidfvectorizer-usage-differences/#.YD3SCE7ivIU\n",
    "* https://medium.com/@wenxuan0923/feature-extraction-from-text-using-countvectorizer-tfidfvectorizer-9f74f38f86cc\n",
    "* https://datatofish.com/convert-string-to-float-dataframe/\n",
    "* https://pandas.pydata.org/pandas-docs/stable/reference/api/pandas.get_dummies.html\n",
    "* https://towardsdatascience.com/how-to-label-text-for-sentiment-analysis-good-practises-2dce9e470708\n",
    "* https://medium.com/@limavallantin/dealing-with-data-preprocessing-problems-b9c971b6fb40\n",
    "* https://medium.com/@limavallantin/why-is-removing-stop-words-not-always-a-good-idea-c8d35bd77214"
   ]
  },
  {
   "cell_type": "markdown",
   "id": "nonprofit-jewelry",
   "metadata": {},
   "source": [
    "* https://github.com/command20/This-repository-records-all-the-project-works-that-I-did-in-my-PGP-AIML-program-with-UT-Austin-and-G"
   ]
  },
  {
   "cell_type": "code",
   "execution_count": null,
   "id": "laughing-israel",
   "metadata": {},
   "outputs": [],
   "source": []
  }
 ],
 "metadata": {
  "kernelspec": {
   "display_name": "Python 3",
   "language": "python",
   "name": "python3"
  },
  "language_info": {
   "codemirror_mode": {
    "name": "ipython",
    "version": 3
   },
   "file_extension": ".py",
   "mimetype": "text/x-python",
   "name": "python",
   "nbconvert_exporter": "python",
   "pygments_lexer": "ipython3",
   "version": "3.8.5"
  }
 },
 "nbformat": 4,
 "nbformat_minor": 5
}
